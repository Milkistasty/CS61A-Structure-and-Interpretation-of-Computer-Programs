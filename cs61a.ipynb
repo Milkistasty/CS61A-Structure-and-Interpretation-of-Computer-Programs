{
 "cells": [
  {
   "cell_type": "code",
   "execution_count": 1,
   "id": "9c21b45f",
   "metadata": {},
   "outputs": [
    {
     "name": "stdout",
     "output_type": "stream",
     "text": [
      "None\n"
     ]
    }
   ],
   "source": [
    "print(None)"
   ]
  },
  {
   "cell_type": "code",
   "execution_count": 2,
   "id": "034fdbcd",
   "metadata": {},
   "outputs": [
    {
     "name": "stdout",
     "output_type": "stream",
     "text": [
      "2\n"
     ]
    }
   ],
   "source": [
    "if 2>1:\n",
    "    print(2)"
   ]
  },
  {
   "cell_type": "code",
   "execution_count": 3,
   "id": "97959355",
   "metadata": {},
   "outputs": [
    {
     "data": {
      "text/plain": [
       "1"
      ]
     },
     "execution_count": 3,
     "metadata": {},
     "output_type": "execute_result"
    }
   ],
   "source": [
    "5//3"
   ]
  },
  {
   "cell_type": "code",
   "execution_count": 4,
   "id": "9d0c8775",
   "metadata": {},
   "outputs": [
    {
     "name": "stdout",
     "output_type": "stream",
     "text": [
      "2\n"
     ]
    }
   ],
   "source": [
    "a = -2\n",
    "if a:\n",
    "    print(2)"
   ]
  },
  {
   "cell_type": "code",
   "execution_count": 5,
   "id": "585a9638",
   "metadata": {},
   "outputs": [],
   "source": [
    "a = 0\n",
    "if a:\n",
    "    print(0)"
   ]
  },
  {
   "cell_type": "code",
   "execution_count": 11,
   "id": "73eba025",
   "metadata": {},
   "outputs": [],
   "source": [
    "\"\"\"generalization\"\"\"\n",
    "\n",
    "from math import pi\n",
    "from math import sqrt\n",
    "\n",
    "def area(r, shape_constant):\n",
    "    assert r>0, 'A length must be positive'\n",
    "    return r*r*shape_constant\n",
    "\n",
    "def area_square(r):\n",
    "    return area(r,1)\n",
    "\n",
    "def area_circle(r):\n",
    "    return area(r,pi)\n",
    "\n",
    "def area_hexagon(r):\n",
    "    return area(r, 3*sqrt(3)/2)"
   ]
  },
  {
   "cell_type": "code",
   "execution_count": 7,
   "id": "6ae678a7",
   "metadata": {},
   "outputs": [],
   "source": [
    "assert 3>2, 'math is broken'"
   ]
  },
  {
   "cell_type": "code",
   "execution_count": 8,
   "id": "8ddd0d7f",
   "metadata": {},
   "outputs": [
    {
     "ename": "AssertionError",
     "evalue": "that is false",
     "output_type": "error",
     "traceback": [
      "\u001b[1;31m---------------------------------------------------------------------------\u001b[0m",
      "\u001b[1;31mAssertionError\u001b[0m                            Traceback (most recent call last)",
      "Cell \u001b[1;32mIn[8], line 1\u001b[0m\n\u001b[1;32m----> 1\u001b[0m \u001b[38;5;28;01massert\u001b[39;00m \u001b[38;5;241m2\u001b[39m\u001b[38;5;241m>\u001b[39m\u001b[38;5;241m3\u001b[39m, \u001b[38;5;124m'\u001b[39m\u001b[38;5;124mthat is false\u001b[39m\u001b[38;5;124m'\u001b[39m\n",
      "\u001b[1;31mAssertionError\u001b[0m: that is false"
     ]
    }
   ],
   "source": [
    "assert 2>3, 'that is false'"
   ]
  },
  {
   "cell_type": "code",
   "execution_count": 12,
   "id": "d9103027",
   "metadata": {},
   "outputs": [
    {
     "ename": "AssertionError",
     "evalue": "A length must be positive",
     "output_type": "error",
     "traceback": [
      "\u001b[1;31m---------------------------------------------------------------------------\u001b[0m",
      "\u001b[1;31mAssertionError\u001b[0m                            Traceback (most recent call last)",
      "Cell \u001b[1;32mIn[12], line 1\u001b[0m\n\u001b[1;32m----> 1\u001b[0m \u001b[43marea_hexagon\u001b[49m\u001b[43m(\u001b[49m\u001b[38;5;241;43m-\u001b[39;49m\u001b[38;5;241;43m10\u001b[39;49m\u001b[43m)\u001b[49m\n",
      "Cell \u001b[1;32mIn[11], line 17\u001b[0m, in \u001b[0;36marea_hexagon\u001b[1;34m(r)\u001b[0m\n\u001b[0;32m     16\u001b[0m \u001b[38;5;28;01mdef\u001b[39;00m \u001b[38;5;21marea_hexagon\u001b[39m(r):\n\u001b[1;32m---> 17\u001b[0m     \u001b[38;5;28;01mreturn\u001b[39;00m \u001b[43marea\u001b[49m\u001b[43m(\u001b[49m\u001b[43mr\u001b[49m\u001b[43m,\u001b[49m\u001b[43m \u001b[49m\u001b[38;5;241;43m3\u001b[39;49m\u001b[38;5;241;43m*\u001b[39;49m\u001b[43msqrt\u001b[49m\u001b[43m(\u001b[49m\u001b[38;5;241;43m3\u001b[39;49m\u001b[43m)\u001b[49m\u001b[38;5;241;43m/\u001b[39;49m\u001b[38;5;241;43m2\u001b[39;49m\u001b[43m)\u001b[49m\n",
      "Cell \u001b[1;32mIn[11], line 7\u001b[0m, in \u001b[0;36marea\u001b[1;34m(r, shape_constant)\u001b[0m\n\u001b[0;32m      6\u001b[0m \u001b[38;5;28;01mdef\u001b[39;00m \u001b[38;5;21marea\u001b[39m(r, shape_constant):\n\u001b[1;32m----> 7\u001b[0m     \u001b[38;5;28;01massert\u001b[39;00m r\u001b[38;5;241m>\u001b[39m\u001b[38;5;241m0\u001b[39m, \u001b[38;5;124m'\u001b[39m\u001b[38;5;124mA length must be positive\u001b[39m\u001b[38;5;124m'\u001b[39m\n\u001b[0;32m      8\u001b[0m     \u001b[38;5;28;01mreturn\u001b[39;00m r\u001b[38;5;241m*\u001b[39mr\u001b[38;5;241m*\u001b[39mshape_constant\n",
      "\u001b[1;31mAssertionError\u001b[0m: A length must be positive"
     ]
    }
   ],
   "source": [
    "area_hexagon(-10)"
   ]
  },
  {
   "cell_type": "code",
   "execution_count": 13,
   "id": "2305f6a6",
   "metadata": {},
   "outputs": [],
   "source": [
    "def identity(k):\n",
    "    return k\n",
    "\n",
    "def cube(k):\n",
    "    return pow(k,3)\n",
    "\n",
    "def summation(n,term):\n",
    "    total,k=0,1\n",
    "    while k<=n:\n",
    "        total,k = total+term(k),k+1\n",
    "    return total\n",
    "\n",
    "def sum_naturals(n):\n",
    "    \"\"\"sum the first N natural numbers\"\"\"\n",
    "    return summation(n,identity)\n",
    "\n",
    "def sum_cubes(n):\n",
    "    return summation(n,cube)"
   ]
  },
  {
   "cell_type": "code",
   "execution_count": 14,
   "id": "5773cdc5",
   "metadata": {},
   "outputs": [
    {
     "data": {
      "text/plain": [
       "15"
      ]
     },
     "execution_count": 14,
     "metadata": {},
     "output_type": "execute_result"
    }
   ],
   "source": [
    "sum_naturals(5)"
   ]
  },
  {
   "cell_type": "code",
   "execution_count": 15,
   "id": "1657a868",
   "metadata": {},
   "outputs": [
    {
     "data": {
      "text/plain": [
       "225"
      ]
     },
     "execution_count": 15,
     "metadata": {},
     "output_type": "execute_result"
    }
   ],
   "source": [
    "sum_cubes(5)"
   ]
  },
  {
   "cell_type": "code",
   "execution_count": 16,
   "id": "49e2df66",
   "metadata": {},
   "outputs": [],
   "source": [
    "from operator import mul\n",
    "def pi_term(k):\n",
    "    return 8/mul(4*k-3,4*k-1)"
   ]
  },
  {
   "cell_type": "code",
   "execution_count": 17,
   "id": "239e456e",
   "metadata": {},
   "outputs": [
    {
     "data": {
      "text/plain": [
       "3.141587653589818"
      ]
     },
     "execution_count": 17,
     "metadata": {},
     "output_type": "execute_result"
    }
   ],
   "source": [
    "summation(100000,pi_term)"
   ]
  },
  {
   "cell_type": "code",
   "execution_count": 18,
   "id": "05b065d9",
   "metadata": {},
   "outputs": [],
   "source": [
    "def make_adder(n):\n",
    "    '''return a function that takes one argument K and return K + N '''\n",
    "    \n",
    "    def adder(k):\n",
    "        return k+n\n",
    "    return adder\n"
   ]
  },
  {
   "cell_type": "code",
   "execution_count": 19,
   "id": "2048554c",
   "metadata": {},
   "outputs": [
    {
     "data": {
      "text/plain": [
       "7"
      ]
     },
     "execution_count": 19,
     "metadata": {},
     "output_type": "execute_result"
    }
   ],
   "source": [
    "add_three = make_adder(3)\n",
    "add_three(4)"
   ]
  },
  {
   "cell_type": "code",
   "execution_count": 20,
   "id": "b04b601e",
   "metadata": {},
   "outputs": [
    {
     "data": {
      "text/plain": [
       "3"
      ]
     },
     "execution_count": 20,
     "metadata": {},
     "output_type": "execute_result"
    }
   ],
   "source": [
    "make_adder(1)(2)"
   ]
  },
  {
   "cell_type": "code",
   "execution_count": 21,
   "id": "d0ae9957",
   "metadata": {},
   "outputs": [],
   "source": [
    "x = 10"
   ]
  },
  {
   "cell_type": "code",
   "execution_count": 22,
   "id": "d5a05dd4",
   "metadata": {},
   "outputs": [],
   "source": [
    "square = x*x"
   ]
  },
  {
   "cell_type": "code",
   "execution_count": 23,
   "id": "867d7f95",
   "metadata": {},
   "outputs": [
    {
     "data": {
      "text/plain": [
       "100"
      ]
     },
     "execution_count": 23,
     "metadata": {},
     "output_type": "execute_result"
    }
   ],
   "source": [
    "square"
   ]
  },
  {
   "cell_type": "code",
   "execution_count": 24,
   "id": "bf4bfb6c",
   "metadata": {},
   "outputs": [],
   "source": [
    "square = lambda x: x*x"
   ]
  },
  {
   "cell_type": "code",
   "execution_count": 25,
   "id": "23d1b54e",
   "metadata": {},
   "outputs": [
    {
     "data": {
      "text/plain": [
       "<function __main__.<lambda>(x)>"
      ]
     },
     "execution_count": 25,
     "metadata": {},
     "output_type": "execute_result"
    }
   ],
   "source": [
    "square"
   ]
  },
  {
   "cell_type": "code",
   "execution_count": 26,
   "id": "3d928106",
   "metadata": {},
   "outputs": [
    {
     "data": {
      "text/plain": [
       "16"
      ]
     },
     "execution_count": 26,
     "metadata": {},
     "output_type": "execute_result"
    }
   ],
   "source": [
    "square(4)"
   ]
  },
  {
   "cell_type": "code",
   "execution_count": 27,
   "id": "9dfb046e",
   "metadata": {},
   "outputs": [
    {
     "data": {
      "text/plain": [
       "9"
      ]
     },
     "execution_count": 27,
     "metadata": {},
     "output_type": "execute_result"
    }
   ],
   "source": [
    "(lambda x: x*x)(3)"
   ]
  },
  {
   "cell_type": "code",
   "execution_count": 28,
   "id": "6a63be34",
   "metadata": {},
   "outputs": [
    {
     "data": {
      "text/plain": [
       "<function __main__.<lambda>(x)>"
      ]
     },
     "execution_count": 28,
     "metadata": {},
     "output_type": "execute_result"
    }
   ],
   "source": [
    "square"
   ]
  },
  {
   "cell_type": "code",
   "execution_count": 29,
   "id": "6271a7f6",
   "metadata": {},
   "outputs": [],
   "source": [
    "def square(x):\n",
    "    return x*x"
   ]
  },
  {
   "cell_type": "code",
   "execution_count": 30,
   "id": "3df2e3a8",
   "metadata": {},
   "outputs": [
    {
     "data": {
      "text/plain": [
       "<function __main__.square(x)>"
      ]
     },
     "execution_count": 30,
     "metadata": {},
     "output_type": "execute_result"
    }
   ],
   "source": [
    "square"
   ]
  },
  {
   "cell_type": "code",
   "execution_count": 31,
   "id": "bf6bd18c",
   "metadata": {},
   "outputs": [],
   "source": [
    "def search(f):\n",
    "    x=0\n",
    "    while not f(x):\n",
    "        x += 1\n",
    "    return x\n",
    "\n",
    "def is_three(x):\n",
    "    return x == 3\n",
    "\n",
    "def square(x):\n",
    "    return x*x\n",
    "\n",
    "def positive(x):\n",
    "    return max(0,square(x)-100)\n",
    "\n",
    "def inverse(f):\n",
    "    return lambda y: search(lambda x: f(x)==y)"
   ]
  },
  {
   "cell_type": "code",
   "execution_count": 32,
   "id": "92d728d6",
   "metadata": {},
   "outputs": [],
   "source": [
    "sqrt = inverse(square)"
   ]
  },
  {
   "cell_type": "code",
   "execution_count": 33,
   "id": "910f12a7",
   "metadata": {},
   "outputs": [
    {
     "data": {
      "text/plain": [
       "16"
      ]
     },
     "execution_count": 33,
     "metadata": {},
     "output_type": "execute_result"
    }
   ],
   "source": [
    "sqrt(256)"
   ]
  },
  {
   "cell_type": "code",
   "execution_count": 34,
   "id": "d900551d",
   "metadata": {},
   "outputs": [
    {
     "data": {
      "text/plain": [
       "21"
      ]
     },
     "execution_count": 34,
     "metadata": {},
     "output_type": "execute_result"
    }
   ],
   "source": [
    "positive(11)"
   ]
  },
  {
   "cell_type": "code",
   "execution_count": 35,
   "id": "3236734d",
   "metadata": {},
   "outputs": [
    {
     "data": {
      "text/plain": [
       "0"
      ]
     },
     "execution_count": 35,
     "metadata": {},
     "output_type": "execute_result"
    }
   ],
   "source": [
    "positive(9)"
   ]
  },
  {
   "cell_type": "code",
   "execution_count": 57,
   "id": "be970e72",
   "metadata": {},
   "outputs": [],
   "source": [
    "def if_(c,t,f):\n",
    "    if c:\n",
    "        return t\n",
    "    else:\n",
    "        return f"
   ]
  },
  {
   "cell_type": "code",
   "execution_count": 39,
   "id": "f45b1dbe",
   "metadata": {},
   "outputs": [
    {
     "name": "stdout",
     "output_type": "stream",
     "text": [
      "1\n",
      "0\n"
     ]
    }
   ],
   "source": [
    "if_(2>1,print(1),print(0))"
   ]
  },
  {
   "cell_type": "code",
   "execution_count": 64,
   "id": "168cb27f",
   "metadata": {},
   "outputs": [],
   "source": [
    "from math import sqrt"
   ]
  },
  {
   "cell_type": "code",
   "execution_count": 68,
   "id": "e21fdb61",
   "metadata": {},
   "outputs": [
    {
     "ename": "ValueError",
     "evalue": "math domain error",
     "output_type": "error",
     "traceback": [
      "\u001b[1;31m---------------------------------------------------------------------------\u001b[0m",
      "\u001b[1;31mValueError\u001b[0m                                Traceback (most recent call last)",
      "Cell \u001b[1;32mIn[68], line 1\u001b[0m\n\u001b[1;32m----> 1\u001b[0m \u001b[43msqrt\u001b[49m\u001b[43m(\u001b[49m\u001b[38;5;241;43m-\u001b[39;49m\u001b[38;5;241;43m4\u001b[39;49m\u001b[43m)\u001b[49m\n",
      "\u001b[1;31mValueError\u001b[0m: math domain error"
     ]
    }
   ],
   "source": [
    "sqrt(-4)"
   ]
  },
  {
   "cell_type": "code",
   "execution_count": 71,
   "id": "9b6b3956",
   "metadata": {},
   "outputs": [],
   "source": [
    "def real_sqrt(x):\n",
    "    return if_(x>0,sqrt(x),0.0)"
   ]
  },
  {
   "cell_type": "code",
   "execution_count": 73,
   "id": "6a4286e4",
   "metadata": {},
   "outputs": [
    {
     "ename": "ValueError",
     "evalue": "math domain error",
     "output_type": "error",
     "traceback": [
      "\u001b[1;31m---------------------------------------------------------------------------\u001b[0m",
      "\u001b[1;31mValueError\u001b[0m                                Traceback (most recent call last)",
      "Cell \u001b[1;32mIn[73], line 1\u001b[0m\n\u001b[1;32m----> 1\u001b[0m \u001b[43mreal_sqrt\u001b[49m\u001b[43m(\u001b[49m\u001b[38;5;241;43m-\u001b[39;49m\u001b[38;5;241;43m4\u001b[39;49m\u001b[43m)\u001b[49m\n",
      "Cell \u001b[1;32mIn[71], line 2\u001b[0m, in \u001b[0;36mreal_sqrt\u001b[1;34m(x)\u001b[0m\n\u001b[0;32m      1\u001b[0m \u001b[38;5;28;01mdef\u001b[39;00m \u001b[38;5;21mreal_sqrt\u001b[39m(x):\n\u001b[1;32m----> 2\u001b[0m     \u001b[38;5;28;01mreturn\u001b[39;00m if_(x\u001b[38;5;241m>\u001b[39m\u001b[38;5;241m0\u001b[39m,\u001b[43msqrt\u001b[49m\u001b[43m(\u001b[49m\u001b[43mx\u001b[49m\u001b[43m)\u001b[49m,\u001b[38;5;241m0.0\u001b[39m)\n",
      "\u001b[1;31mValueError\u001b[0m: math domain error"
     ]
    }
   ],
   "source": [
    "real_sqrt(-4)"
   ]
  },
  {
   "cell_type": "code",
   "execution_count": 76,
   "id": "61ecc5d9",
   "metadata": {},
   "outputs": [],
   "source": [
    "if 3>1 and 3<2:\n",
    "    print(2)"
   ]
  },
  {
   "cell_type": "code",
   "execution_count": 77,
   "id": "34171410",
   "metadata": {},
   "outputs": [],
   "source": [
    "def has_big_sqrt(x):\n",
    "    return x>0 and sqrt(x)>10"
   ]
  },
  {
   "cell_type": "code",
   "execution_count": 78,
   "id": "06262275",
   "metadata": {},
   "outputs": [
    {
     "data": {
      "text/plain": [
       "False"
      ]
     },
     "execution_count": 78,
     "metadata": {},
     "output_type": "execute_result"
    }
   ],
   "source": [
    "has_big_sqrt(1)"
   ]
  },
  {
   "cell_type": "code",
   "execution_count": 79,
   "id": "91599f94",
   "metadata": {},
   "outputs": [
    {
     "data": {
      "text/plain": [
       "True"
      ]
     },
     "execution_count": 79,
     "metadata": {},
     "output_type": "execute_result"
    }
   ],
   "source": [
    "has_big_sqrt(1000)"
   ]
  },
  {
   "cell_type": "code",
   "execution_count": 80,
   "id": "8d7323d1",
   "metadata": {},
   "outputs": [
    {
     "data": {
      "text/plain": [
       "False"
      ]
     },
     "execution_count": 80,
     "metadata": {},
     "output_type": "execute_result"
    }
   ],
   "source": [
    "has_big_sqrt(-1000)"
   ]
  },
  {
   "cell_type": "code",
   "execution_count": 81,
   "id": "1b50d37d",
   "metadata": {},
   "outputs": [
    {
     "data": {
      "text/plain": [
       "0.5"
      ]
     },
     "execution_count": 81,
     "metadata": {},
     "output_type": "execute_result"
    }
   ],
   "source": [
    "1/2"
   ]
  },
  {
   "cell_type": "code",
   "execution_count": 82,
   "id": "f7159cf9",
   "metadata": {},
   "outputs": [
    {
     "data": {
      "text/plain": [
       "5e-07"
      ]
     },
     "execution_count": 82,
     "metadata": {},
     "output_type": "execute_result"
    }
   ],
   "source": [
    "1/2000000"
   ]
  },
  {
   "cell_type": "code",
   "execution_count": 83,
   "id": "f790451f",
   "metadata": {},
   "outputs": [
    {
     "data": {
      "text/plain": [
       "10000000000000000000000000000000000000000000000000000000000000000000000000000000000000000000000000000"
      ]
     },
     "execution_count": 83,
     "metadata": {},
     "output_type": "execute_result"
    }
   ],
   "source": [
    "10**100"
   ]
  },
  {
   "cell_type": "code",
   "execution_count": 84,
   "id": "ce0eaa78",
   "metadata": {},
   "outputs": [],
   "source": [
    "def reasonable(n):\n",
    "    return n==0 or  1/n != 0"
   ]
  },
  {
   "cell_type": "code",
   "execution_count": 85,
   "id": "089f41f1",
   "metadata": {},
   "outputs": [
    {
     "data": {
      "text/plain": [
       "True"
      ]
     },
     "execution_count": 85,
     "metadata": {},
     "output_type": "execute_result"
    }
   ],
   "source": [
    "reasonable(0)"
   ]
  },
  {
   "cell_type": "code",
   "execution_count": 86,
   "id": "400e991e",
   "metadata": {},
   "outputs": [
    {
     "data": {
      "text/plain": [
       "True"
      ]
     },
     "execution_count": 86,
     "metadata": {},
     "output_type": "execute_result"
    }
   ],
   "source": [
    "reasonable(10)"
   ]
  },
  {
   "cell_type": "code",
   "execution_count": 87,
   "id": "c9bc5f44",
   "metadata": {},
   "outputs": [
    {
     "data": {
      "text/plain": [
       "True"
      ]
     },
     "execution_count": 87,
     "metadata": {},
     "output_type": "execute_result"
    }
   ],
   "source": [
    "reasonable(100000000000)"
   ]
  },
  {
   "cell_type": "code",
   "execution_count": 88,
   "id": "8450c1c1",
   "metadata": {},
   "outputs": [
    {
     "data": {
      "text/plain": [
       "False"
      ]
     },
     "execution_count": 88,
     "metadata": {},
     "output_type": "execute_result"
    }
   ],
   "source": [
    "reasonable(10**10000)"
   ]
  },
  {
   "cell_type": "code",
   "execution_count": 89,
   "id": "87bccbbe",
   "metadata": {},
   "outputs": [],
   "source": [
    "x=0"
   ]
  },
  {
   "cell_type": "code",
   "execution_count": 90,
   "id": "7af9e7d5",
   "metadata": {},
   "outputs": [
    {
     "data": {
      "text/plain": [
       "0"
      ]
     },
     "execution_count": 90,
     "metadata": {},
     "output_type": "execute_result"
    }
   ],
   "source": [
    "abs(1/x if x!=0 else 0)"
   ]
  },
  {
   "cell_type": "code",
   "execution_count": 91,
   "id": "581c9888",
   "metadata": {},
   "outputs": [],
   "source": [
    "def f(x):\n",
    "    return x+2"
   ]
  },
  {
   "cell_type": "code",
   "execution_count": 92,
   "id": "bda04229",
   "metadata": {},
   "outputs": [
    {
     "data": {
      "text/plain": [
       "<function __main__.<lambda>(x)>"
      ]
     },
     "execution_count": 92,
     "metadata": {},
     "output_type": "execute_result"
    }
   ],
   "source": [
    "lambda x: x+2"
   ]
  },
  {
   "cell_type": "code",
   "execution_count": 93,
   "id": "7f5827b6",
   "metadata": {},
   "outputs": [],
   "source": [
    "g = (lambda x: x+2)"
   ]
  },
  {
   "cell_type": "code",
   "execution_count": 94,
   "id": "3b464851",
   "metadata": {},
   "outputs": [
    {
     "data": {
      "text/plain": [
       "<function __main__.<lambda>(x)>"
      ]
     },
     "execution_count": 94,
     "metadata": {},
     "output_type": "execute_result"
    }
   ],
   "source": [
    "g"
   ]
  },
  {
   "cell_type": "code",
   "execution_count": 95,
   "id": "5cd3b625",
   "metadata": {},
   "outputs": [
    {
     "data": {
      "text/plain": [
       "9"
      ]
     },
     "execution_count": 95,
     "metadata": {},
     "output_type": "execute_result"
    }
   ],
   "source": [
    "g(7)"
   ]
  },
  {
   "cell_type": "code",
   "execution_count": 96,
   "id": "2a897a31",
   "metadata": {},
   "outputs": [
    {
     "data": {
      "text/plain": [
       "11"
      ]
     },
     "execution_count": 96,
     "metadata": {},
     "output_type": "execute_result"
    }
   ],
   "source": [
    "search(positive)"
   ]
  },
  {
   "cell_type": "code",
   "execution_count": 97,
   "id": "0711ceba",
   "metadata": {},
   "outputs": [
    {
     "data": {
      "text/plain": [
       "169"
      ]
     },
     "execution_count": 97,
     "metadata": {},
     "output_type": "execute_result"
    }
   ],
   "source": [
    "13*13"
   ]
  },
  {
   "cell_type": "code",
   "execution_count": 50,
   "id": "f6ac9f8c",
   "metadata": {},
   "outputs": [],
   "source": [
    "def ordered_digits(x):\n",
    "    assert type(x) == int and x > 0, 'number must be a positive integer'\n",
    "\n",
    "    while x > 0:\n",
    "        last = x % 10\n",
    "        cur = x // 10 % 10\n",
    "        if last < cur:\n",
    "            return False\n",
    "        x = x // 10\n",
    "        \n",
    "    return True\n",
    "    \n"
   ]
  },
  {
   "cell_type": "code",
   "execution_count": 56,
   "id": "bb7c52d9",
   "metadata": {},
   "outputs": [
    {
     "data": {
      "text/plain": [
       "False"
      ]
     },
     "execution_count": 56,
     "metadata": {},
     "output_type": "execute_result"
    }
   ],
   "source": [
    "ordered_digits(21)"
   ]
  },
  {
   "cell_type": "code",
   "execution_count": 49,
   "id": "32321547",
   "metadata": {},
   "outputs": [
    {
     "data": {
      "text/plain": [
       "2"
      ]
     },
     "execution_count": 49,
     "metadata": {},
     "output_type": "execute_result"
    }
   ],
   "source": [
    "123//10%10"
   ]
  },
  {
   "cell_type": "code",
   "execution_count": 66,
   "id": "d7c3517e",
   "metadata": {},
   "outputs": [],
   "source": [
    "from operator import add, mul\n",
    "\n",
    "square = lambda x: x * x\n",
    "\n",
    "identity = lambda x: x\n",
    "\n",
    "triple = lambda x: 3 * x\n",
    "\n",
    "increment = lambda x: x + 1    "
   ]
  },
  {
   "cell_type": "code",
   "execution_count": 133,
   "id": "1446676f",
   "metadata": {},
   "outputs": [],
   "source": [
    "def make_repeater(func, n):\n",
    "    assert func in (square, identity, triple, increment),'func is not in square, identity, triple, increment'\n",
    "    assert type(n) == int and n > 0, 'n must be positive integer'\n",
    "    \n",
    "#     g = func\n",
    "#     while n > 0:\n",
    "#         g = composer(func, g)\n",
    "#         n = n - 1\n",
    "#     return g\n",
    "    \n",
    "    def inner_func(x, n = n):\n",
    "        while n > 0:\n",
    "            x = func(x)\n",
    "            n = n - 1\n",
    "        return x\n",
    "    return inner_func\n",
    "\n",
    "def make_repeater2(func, n):\n",
    "    def inner_func(x):\n",
    "        k = 0\n",
    "        while k < n:\n",
    "            x, k = func(x), k + 1\n",
    "        return x\n",
    "    return inner_func\n",
    "\n",
    "def composer(func1, func2):\n",
    "    \"\"\"Return a function f, such that f(x) = func1(func2(x)).\"\"\"\n",
    "    def f(x):\n",
    "        return func1(func2(x))\n",
    "    return f"
   ]
  },
  {
   "cell_type": "code",
   "execution_count": 132,
   "id": "c514c4df",
   "metadata": {},
   "outputs": [
    {
     "data": {
      "text/plain": [
       "729"
      ]
     },
     "execution_count": 132,
     "metadata": {},
     "output_type": "execute_result"
    }
   ],
   "source": [
    "make_repeater(triple, 5)(1)"
   ]
  },
  {
   "cell_type": "code",
   "execution_count": 134,
   "id": "ad1ed5b8",
   "metadata": {},
   "outputs": [],
   "source": [
    "def apply_twice(func):\n",
    "    return make_repeater(func,2)"
   ]
  },
  {
   "cell_type": "code",
   "execution_count": 135,
   "id": "68b37372",
   "metadata": {},
   "outputs": [
    {
     "data": {
      "text/plain": [
       "16"
      ]
     },
     "execution_count": 135,
     "metadata": {},
     "output_type": "execute_result"
    }
   ],
   "source": [
    "apply_twice(square)(2)"
   ]
  },
  {
   "cell_type": "code",
   "execution_count": 144,
   "id": "3994d52d",
   "metadata": {},
   "outputs": [],
   "source": [
    "def make_adder(n):\n",
    "    def adder(k):\n",
    "        return k+n\n",
    "    return adder\n"
   ]
  },
  {
   "cell_type": "code",
   "execution_count": 145,
   "id": "85392ba2",
   "metadata": {},
   "outputs": [],
   "source": [
    "a = make_adder(2)"
   ]
  },
  {
   "cell_type": "code",
   "execution_count": 146,
   "id": "21381467",
   "metadata": {},
   "outputs": [
    {
     "data": {
      "text/plain": [
       "<function __main__.make_adder.<locals>.adder(k)>"
      ]
     },
     "execution_count": 146,
     "metadata": {},
     "output_type": "execute_result"
    }
   ],
   "source": [
    "a"
   ]
  },
  {
   "cell_type": "code",
   "execution_count": 147,
   "id": "223e7a5d",
   "metadata": {},
   "outputs": [
    {
     "data": {
      "text/plain": [
       "4"
      ]
     },
     "execution_count": 147,
     "metadata": {},
     "output_type": "execute_result"
    }
   ],
   "source": [
    "a(2)"
   ]
  },
  {
   "cell_type": "code",
   "execution_count": 153,
   "id": "8bf66b6a",
   "metadata": {},
   "outputs": [
    {
     "data": {
      "text/plain": [
       "9"
      ]
     },
     "execution_count": 153,
     "metadata": {},
     "output_type": "execute_result"
    }
   ],
   "source": [
    "(lambda x: x*x)(3)"
   ]
  },
  {
   "cell_type": "code",
   "execution_count": 154,
   "id": "4c36f874",
   "metadata": {},
   "outputs": [
    {
     "data": {
      "text/plain": [
       "<function __main__.<lambda>(x)>"
      ]
     },
     "execution_count": 154,
     "metadata": {},
     "output_type": "execute_result"
    }
   ],
   "source": [
    "square = lambda x: x*x\n",
    "square"
   ]
  },
  {
   "cell_type": "code",
   "execution_count": 155,
   "id": "ee4ec6d8",
   "metadata": {},
   "outputs": [],
   "source": [
    "def print_all(x):\n",
    "    print(x)\n",
    "    return print_all"
   ]
  },
  {
   "cell_type": "code",
   "execution_count": 157,
   "id": "e43b0a31",
   "metadata": {},
   "outputs": [
    {
     "name": "stdout",
     "output_type": "stream",
     "text": [
      "1\n",
      "3\n",
      "5\n"
     ]
    },
    {
     "data": {
      "text/plain": [
       "<function __main__.print_all(x)>"
      ]
     },
     "execution_count": 157,
     "metadata": {},
     "output_type": "execute_result"
    }
   ],
   "source": [
    "print_all(1)(3)(5)"
   ]
  },
  {
   "cell_type": "code",
   "execution_count": 160,
   "id": "25475cb4",
   "metadata": {},
   "outputs": [],
   "source": [
    "def print_sums(x):\n",
    "    print(x)\n",
    "    def next_sum(y):\n",
    "        return print_sums(x+y)\n",
    "    return next_sum"
   ]
  },
  {
   "cell_type": "code",
   "execution_count": 161,
   "id": "41cde0aa",
   "metadata": {},
   "outputs": [
    {
     "name": "stdout",
     "output_type": "stream",
     "text": [
      "1\n",
      "4\n",
      "9\n"
     ]
    },
    {
     "data": {
      "text/plain": [
       "<function __main__.print_sums.<locals>.next_sum(y)>"
      ]
     },
     "execution_count": 161,
     "metadata": {},
     "output_type": "execute_result"
    }
   ],
   "source": [
    "print_sums(1)(3)(5)"
   ]
  },
  {
   "cell_type": "code",
   "execution_count": 162,
   "id": "dcadd24a",
   "metadata": {},
   "outputs": [],
   "source": [
    "def curry2(f):\n",
    "    def g(x):\n",
    "        def h(y):\n",
    "            return f(x,y)\n",
    "        return h\n",
    "    return g"
   ]
  },
  {
   "cell_type": "code",
   "execution_count": 163,
   "id": "56371fba",
   "metadata": {},
   "outputs": [],
   "source": [
    "m = curry2(add)"
   ]
  },
  {
   "cell_type": "code",
   "execution_count": 164,
   "id": "206be8ea",
   "metadata": {},
   "outputs": [],
   "source": [
    "add_three = m(3)"
   ]
  },
  {
   "cell_type": "code",
   "execution_count": 165,
   "id": "ddf9b121",
   "metadata": {
    "scrolled": true
   },
   "outputs": [
    {
     "data": {
      "text/plain": [
       "5"
      ]
     },
     "execution_count": 165,
     "metadata": {},
     "output_type": "execute_result"
    }
   ],
   "source": [
    "add_three(2)"
   ]
  },
  {
   "cell_type": "code",
   "execution_count": 168,
   "id": "e94dfbbf",
   "metadata": {},
   "outputs": [],
   "source": [
    "curry2 = lambda f: lambda x: lambda y: f(x,y)"
   ]
  },
  {
   "cell_type": "code",
   "execution_count": 170,
   "id": "43b31ebc",
   "metadata": {},
   "outputs": [],
   "source": [
    "m = curry2(add)"
   ]
  },
  {
   "cell_type": "code",
   "execution_count": 172,
   "id": "1f3551af",
   "metadata": {},
   "outputs": [
    {
     "data": {
      "text/plain": [
       "5"
      ]
     },
     "execution_count": 172,
     "metadata": {},
     "output_type": "execute_result"
    }
   ],
   "source": [
    "m(2)(3)"
   ]
  },
  {
   "cell_type": "code",
   "execution_count": 176,
   "id": "fde93e95",
   "metadata": {},
   "outputs": [],
   "source": [
    "def trace1(fn):\n",
    "    def traced(x):\n",
    "        print('calling',fn,'on argument',x)\n",
    "        return fn(x)\n",
    "    return traced\n",
    "\n",
    "@trace1\n",
    "# @trace1 = trace1(square)\n",
    "def square(x):\n",
    "    return x * x\n",
    "\n",
    "@trace1\n",
    "def sum_squares_up_to(n):\n",
    "    k = 1\n",
    "    total = 0\n",
    "    while k <= n:\n",
    "        total, k = total + square(k), k + 1\n",
    "    return total"
   ]
  },
  {
   "cell_type": "code",
   "execution_count": 177,
   "id": "2eded41d",
   "metadata": {},
   "outputs": [
    {
     "name": "stdout",
     "output_type": "stream",
     "text": [
      "calling <function sum_squares_up_to at 0x000001F5604EC670> on argument 3\n",
      "calling <function square at 0x000001F5604ED1B0> on argument 1\n",
      "calling <function square at 0x000001F5604ED1B0> on argument 2\n",
      "calling <function square at 0x000001F5604ED1B0> on argument 3\n"
     ]
    },
    {
     "data": {
      "text/plain": [
       "14"
      ]
     },
     "execution_count": 177,
     "metadata": {},
     "output_type": "execute_result"
    }
   ],
   "source": [
    "sum_squares_up_to(3)"
   ]
  },
  {
   "cell_type": "code",
   "execution_count": 2,
   "id": "0c561d22",
   "metadata": {},
   "outputs": [
    {
     "data": {
      "text/plain": [
       "12"
      ]
     },
     "execution_count": 2,
     "metadata": {},
     "output_type": "execute_result"
    }
   ],
   "source": [
    "123//10"
   ]
  },
  {
   "cell_type": "code",
   "execution_count": 3,
   "id": "9ff924c9",
   "metadata": {},
   "outputs": [],
   "source": [
    "def cascade(n):\n",
    "    print(n)\n",
    "    if n > 10:\n",
    "        cascade(n//10)\n",
    "        print(n)"
   ]
  },
  {
   "cell_type": "code",
   "execution_count": 4,
   "id": "b8fb42b5",
   "metadata": {},
   "outputs": [
    {
     "name": "stdout",
     "output_type": "stream",
     "text": [
      "123421421\n",
      "12342142\n",
      "1234214\n",
      "123421\n",
      "12342\n",
      "1234\n",
      "123\n",
      "12\n",
      "1\n",
      "12\n",
      "123\n",
      "1234\n",
      "12342\n",
      "123421\n",
      "1234214\n",
      "12342142\n",
      "123421421\n"
     ]
    }
   ],
   "source": [
    "cascade(123421421)"
   ]
  },
  {
   "cell_type": "code",
   "execution_count": 5,
   "id": "8d2dccf9",
   "metadata": {},
   "outputs": [],
   "source": [
    "def inverse_cascade(n):\n",
    "    grow(n)\n",
    "    print(n)\n",
    "    shrink(n)\n",
    "\n",
    "def f_then_g(f,g,n):\n",
    "    if n:\n",
    "        f(n)\n",
    "        g(n)\n",
    "\n",
    "grow = lambda n: f_then_g(grow,print,n//10)\n",
    "shrink = lambda n: f_then_g(print,shrink,n//10)"
   ]
  },
  {
   "cell_type": "code",
   "execution_count": 7,
   "id": "0b7a71c5",
   "metadata": {},
   "outputs": [],
   "source": [
    "import trace"
   ]
  },
  {
   "cell_type": "code",
   "execution_count": 9,
   "id": "7456b84d",
   "metadata": {},
   "outputs": [],
   "source": [
    "def fib(n):\n",
    "    if n == 0:\n",
    "        return 0\n",
    "    elif n == 1:\n",
    "        return 1\n",
    "    else:\n",
    "        return fib(n-2) + fib(n-1)"
   ]
  },
  {
   "cell_type": "code",
   "execution_count": 10,
   "id": "250f02bc",
   "metadata": {},
   "outputs": [],
   "source": [
    "def move_disk(disk_number, from_peg, to_peg):\n",
    "    print(\"Move disk\",str(disk_number),' from peg ',str(from_peg),\" to peg \",str(to_peg),\".\")\n",
    "\n",
    "def hanoi(n, start_peg, end_peg):\n",
    "    if n == 1:\n",
    "        move_disk(n, start_peg, end_peg)\n",
    "    else:\n",
    "        spare_peg = 6 - start_peg - end_peg\n",
    "        hanoi(n - 1, start_peg, spare_peg)\n",
    "        move_disk(n, start_peg, end_peg)\n",
    "        hanoi(n - 1, spare_peg, end_peg)"
   ]
  },
  {
   "cell_type": "code",
   "execution_count": 12,
   "id": "985f40f8",
   "metadata": {},
   "outputs": [
    {
     "name": "stdout",
     "output_type": "stream",
     "text": [
      "Move disk 1  from peg  1  to peg  3 .\n",
      "Move disk 2  from peg  1  to peg  2 .\n",
      "Move disk 1  from peg  3  to peg  2 .\n",
      "Move disk 3  from peg  1  to peg  3 .\n",
      "Move disk 1  from peg  2  to peg  1 .\n",
      "Move disk 2  from peg  2  to peg  3 .\n",
      "Move disk 1  from peg  1  to peg  3 .\n",
      "Move disk 4  from peg  1  to peg  2 .\n",
      "Move disk 1  from peg  3  to peg  2 .\n",
      "Move disk 2  from peg  3  to peg  1 .\n",
      "Move disk 1  from peg  2  to peg  1 .\n",
      "Move disk 3  from peg  3  to peg  2 .\n",
      "Move disk 1  from peg  1  to peg  3 .\n",
      "Move disk 2  from peg  1  to peg  2 .\n",
      "Move disk 1  from peg  3  to peg  2 .\n",
      "Move disk 5  from peg  1  to peg  3 .\n",
      "Move disk 1  from peg  2  to peg  1 .\n",
      "Move disk 2  from peg  2  to peg  3 .\n",
      "Move disk 1  from peg  1  to peg  3 .\n",
      "Move disk 3  from peg  2  to peg  1 .\n",
      "Move disk 1  from peg  3  to peg  2 .\n",
      "Move disk 2  from peg  3  to peg  1 .\n",
      "Move disk 1  from peg  2  to peg  1 .\n",
      "Move disk 4  from peg  2  to peg  3 .\n",
      "Move disk 1  from peg  1  to peg  3 .\n",
      "Move disk 2  from peg  1  to peg  2 .\n",
      "Move disk 1  from peg  3  to peg  2 .\n",
      "Move disk 3  from peg  1  to peg  3 .\n",
      "Move disk 1  from peg  2  to peg  1 .\n",
      "Move disk 2  from peg  2  to peg  3 .\n",
      "Move disk 1  from peg  1  to peg  3 .\n",
      "Move disk 6  from peg  1  to peg  2 .\n",
      "Move disk 1  from peg  3  to peg  2 .\n",
      "Move disk 2  from peg  3  to peg  1 .\n",
      "Move disk 1  from peg  2  to peg  1 .\n",
      "Move disk 3  from peg  3  to peg  2 .\n",
      "Move disk 1  from peg  1  to peg  3 .\n",
      "Move disk 2  from peg  1  to peg  2 .\n",
      "Move disk 1  from peg  3  to peg  2 .\n",
      "Move disk 4  from peg  3  to peg  1 .\n",
      "Move disk 1  from peg  2  to peg  1 .\n",
      "Move disk 2  from peg  2  to peg  3 .\n",
      "Move disk 1  from peg  1  to peg  3 .\n",
      "Move disk 3  from peg  2  to peg  1 .\n",
      "Move disk 1  from peg  3  to peg  2 .\n",
      "Move disk 2  from peg  3  to peg  1 .\n",
      "Move disk 1  from peg  2  to peg  1 .\n",
      "Move disk 5  from peg  3  to peg  2 .\n",
      "Move disk 1  from peg  1  to peg  3 .\n",
      "Move disk 2  from peg  1  to peg  2 .\n",
      "Move disk 1  from peg  3  to peg  2 .\n",
      "Move disk 3  from peg  1  to peg  3 .\n",
      "Move disk 1  from peg  2  to peg  1 .\n",
      "Move disk 2  from peg  2  to peg  3 .\n",
      "Move disk 1  from peg  1  to peg  3 .\n",
      "Move disk 4  from peg  1  to peg  2 .\n",
      "Move disk 1  from peg  3  to peg  2 .\n",
      "Move disk 2  from peg  3  to peg  1 .\n",
      "Move disk 1  from peg  2  to peg  1 .\n",
      "Move disk 3  from peg  3  to peg  2 .\n",
      "Move disk 1  from peg  1  to peg  3 .\n",
      "Move disk 2  from peg  1  to peg  2 .\n",
      "Move disk 1  from peg  3  to peg  2 .\n"
     ]
    }
   ],
   "source": [
    "hanoi(6,1,2)"
   ]
  },
  {
   "cell_type": "code",
   "execution_count": 13,
   "id": "176bde6f",
   "metadata": {},
   "outputs": [],
   "source": [
    "def count_partitions(n, m):\n",
    "    if n == 0:\n",
    "        return 1\n",
    "    elif n < 0:\n",
    "        return 0\n",
    "    elif m == 0:\n",
    "        return 0\n",
    "    else:\n",
    "        with_m = count_partitions(n-m, m) \n",
    "        without_m = count_partitions(n, m-1)\n",
    "        return with_m + without_m\n",
    "    \n"
   ]
  },
  {
   "cell_type": "code",
   "execution_count": 14,
   "id": "45118d90",
   "metadata": {},
   "outputs": [
    {
     "data": {
      "text/plain": [
       "9"
      ]
     },
     "execution_count": 14,
     "metadata": {},
     "output_type": "execute_result"
    }
   ],
   "source": [
    "count_partitions(6,4)"
   ]
  },
  {
   "cell_type": "code",
   "execution_count": 15,
   "id": "829d3855",
   "metadata": {},
   "outputs": [
    {
     "data": {
      "text/plain": [
       "1"
      ]
     },
     "execution_count": 15,
     "metadata": {},
     "output_type": "execute_result"
    }
   ],
   "source": [
    "count_partitions(6,1)"
   ]
  },
  {
   "cell_type": "code",
   "execution_count": 44,
   "id": "bfe87601",
   "metadata": {},
   "outputs": [],
   "source": [
    "def num_eights(x):\n",
    "    assert type(x) == int and x >= 0, 'x must be positive integer'\n",
    "\n",
    "    # base case\n",
    "    if x < 10 and x != 8:\n",
    "        return 0\n",
    "    # recursive call\n",
    "    # take care of multiple cases\n",
    "    elif x % 10 != 8:\n",
    "        return num_eights(x // 10)\n",
    "    elif x % 10 == 8:\n",
    "        return num_eights(x // 10) + 1\n"
   ]
  },
  {
   "cell_type": "code",
   "execution_count": 50,
   "id": "cd0d8af5",
   "metadata": {},
   "outputs": [
    {
     "data": {
      "text/plain": [
       "0"
      ]
     },
     "execution_count": 50,
     "metadata": {},
     "output_type": "execute_result"
    }
   ],
   "source": [
    "num_eights(12345)"
   ]
  },
  {
   "cell_type": "code",
   "execution_count": 58,
   "id": "2a1bb695",
   "metadata": {},
   "outputs": [],
   "source": [
    "# recursive solution\n",
    "def pingpong(n):\n",
    "    assert type(n) == int and n >= 0, 'x must be positive integer'\n",
    "\n",
    "    if n < 8:\n",
    "        return n\n",
    "    if pingpong(n - 1) % 8 == 0 or num_eights(n - 1) > 0:\n",
    "        if pingpong(n - 1) > pingpong(n - 2): # if the previous sequence is increasing\n",
    "            return pingpong(n - 1) - 1\n",
    "        elif pingpong(n - 1) < pingpong(n - 2): # if the previous sequence is decreasing\n",
    "            return pingpong(n - 1) + 1\n",
    "    elif pingpong(n - 1) > pingpong(n - 2): # if the previous sequence is increasing\n",
    "        return pingpong(n - 1) + 1\n",
    "    elif pingpong(n - 1) < pingpong(n - 2): # if the previous sequence is decreasing\n",
    "        return pingpong(n - 1) - 1\n"
   ]
  },
  {
   "cell_type": "code",
   "execution_count": 59,
   "id": "522dc61b",
   "metadata": {},
   "outputs": [
    {
     "data": {
      "text/plain": [
       "0"
      ]
     },
     "execution_count": 59,
     "metadata": {},
     "output_type": "execute_result"
    }
   ],
   "source": [
    "pingpong(20)"
   ]
  },
  {
   "cell_type": "code",
   "execution_count": 60,
   "id": "0ee8af49",
   "metadata": {},
   "outputs": [],
   "source": [
    "# iterative solution\n",
    "def pingpong(n):\n",
    "    index, ppn, dir = 1,1,1\n",
    "    while index != n:\n",
    "        index += 1\n",
    "        ppn += dir\n",
    "        if index % 8 == 0 or num_eights(index) > 0:\n",
    "            dir = -dir\n",
    "    return ppn"
   ]
  },
  {
   "cell_type": "code",
   "execution_count": 63,
   "id": "059138fc",
   "metadata": {},
   "outputs": [
    {
     "data": {
      "text/plain": [
       "-1"
      ]
     },
     "execution_count": 63,
     "metadata": {},
     "output_type": "execute_result"
    }
   ],
   "source": [
    "pingpong(21)"
   ]
  },
  {
   "cell_type": "code",
   "execution_count": 103,
   "id": "cf0547fd",
   "metadata": {},
   "outputs": [],
   "source": [
    "def missing_digits(n):\n",
    "    assert type(n) == int and n >= 0, 'n must be positive integer'\n",
    "\n",
    "    if n%10 == n:\n",
    "        return 0\n",
    "    elif n%10 - n//10%10 != 0|1:\n",
    "        return missing_digits(n//10) + n%10 - n//10%10 - 1 \n",
    "    else:\n",
    "        return missing_digits(n//10)"
   ]
  },
  {
   "cell_type": "code",
   "execution_count": 105,
   "id": "465549bd",
   "metadata": {},
   "outputs": [
    {
     "data": {
      "text/plain": [
       "4"
      ]
     },
     "execution_count": 105,
     "metadata": {},
     "output_type": "execute_result"
    }
   ],
   "source": [
    "missing_digits(1248)"
   ]
  },
  {
   "cell_type": "code",
   "execution_count": 87,
   "id": "1fce43c3",
   "metadata": {},
   "outputs": [
    {
     "data": {
      "text/plain": [
       "3"
      ]
     },
     "execution_count": 87,
     "metadata": {},
     "output_type": "execute_result"
    }
   ],
   "source": [
    "1234//10%10"
   ]
  },
  {
   "cell_type": "code",
   "execution_count": 106,
   "id": "a2295591",
   "metadata": {},
   "outputs": [
    {
     "data": {
      "text/plain": [
       "1"
      ]
     },
     "execution_count": 106,
     "metadata": {},
     "output_type": "execute_result"
    }
   ],
   "source": [
    "odds = [1,2,3,4]\n",
    "odds[0]"
   ]
  },
  {
   "cell_type": "code",
   "execution_count": 107,
   "id": "ada7511d",
   "metadata": {},
   "outputs": [
    {
     "data": {
      "text/plain": [
       "2"
      ]
     },
     "execution_count": 107,
     "metadata": {},
     "output_type": "execute_result"
    }
   ],
   "source": [
    "odds[1]"
   ]
  },
  {
   "cell_type": "code",
   "execution_count": 108,
   "id": "e0e44e06",
   "metadata": {},
   "outputs": [
    {
     "data": {
      "text/plain": [
       "3"
      ]
     },
     "execution_count": 108,
     "metadata": {},
     "output_type": "execute_result"
    }
   ],
   "source": [
    "odds[2]"
   ]
  },
  {
   "cell_type": "code",
   "execution_count": 109,
   "id": "1eb0f385",
   "metadata": {},
   "outputs": [
    {
     "data": {
      "text/plain": [
       "4"
      ]
     },
     "execution_count": 109,
     "metadata": {},
     "output_type": "execute_result"
    }
   ],
   "source": [
    "len(odds)"
   ]
  },
  {
   "cell_type": "code",
   "execution_count": 110,
   "id": "4e738b09",
   "metadata": {},
   "outputs": [
    {
     "data": {
      "text/plain": [
       "1"
      ]
     },
     "execution_count": 110,
     "metadata": {},
     "output_type": "execute_result"
    }
   ],
   "source": [
    "odds[3]-odds[2]"
   ]
  },
  {
   "cell_type": "code",
   "execution_count": 111,
   "id": "43ce9dfd",
   "metadata": {},
   "outputs": [
    {
     "data": {
      "text/plain": [
       "2"
      ]
     },
     "execution_count": 111,
     "metadata": {},
     "output_type": "execute_result"
    }
   ],
   "source": [
    "odds[odds[3]-odds[2]]"
   ]
  },
  {
   "cell_type": "code",
   "execution_count": 112,
   "id": "e733a21d",
   "metadata": {},
   "outputs": [
    {
     "ename": "NameError",
     "evalue": "name 'getitem' is not defined",
     "output_type": "error",
     "traceback": [
      "\u001b[1;31m---------------------------------------------------------------------------\u001b[0m",
      "\u001b[1;31mNameError\u001b[0m                                 Traceback (most recent call last)",
      "Cell \u001b[1;32mIn[112], line 1\u001b[0m\n\u001b[1;32m----> 1\u001b[0m getitem(odds,\u001b[39m3\u001b[39m)\n",
      "\u001b[1;31mNameError\u001b[0m: name 'getitem' is not defined"
     ]
    }
   ],
   "source": [
    "getitem(odds,3)"
   ]
  },
  {
   "cell_type": "code",
   "execution_count": 113,
   "id": "e2491437",
   "metadata": {},
   "outputs": [
    {
     "data": {
      "text/plain": [
       "[2, 7, 1, 2, 3, 4, 1, 2, 3, 4]"
      ]
     },
     "execution_count": 113,
     "metadata": {},
     "output_type": "execute_result"
    }
   ],
   "source": [
    "[2,7]+odds*2"
   ]
  },
  {
   "cell_type": "code",
   "execution_count": 114,
   "id": "1e89328d",
   "metadata": {},
   "outputs": [
    {
     "ename": "NameError",
     "evalue": "name 'add' is not defined",
     "output_type": "error",
     "traceback": [
      "\u001b[1;31m---------------------------------------------------------------------------\u001b[0m",
      "\u001b[1;31mNameError\u001b[0m                                 Traceback (most recent call last)",
      "Cell \u001b[1;32mIn[114], line 1\u001b[0m\n\u001b[1;32m----> 1\u001b[0m add([\u001b[39m2\u001b[39m,\u001b[39m7\u001b[39m],mul(odds,\u001b[39m2\u001b[39m))\n",
      "\u001b[1;31mNameError\u001b[0m: name 'add' is not defined"
     ]
    }
   ],
   "source": [
    "add([2,7],mul(odds,2))"
   ]
  },
  {
   "cell_type": "code",
   "execution_count": 115,
   "id": "bf602f4e",
   "metadata": {},
   "outputs": [],
   "source": [
    "pairs = [[10,20],[30,40]]"
   ]
  },
  {
   "cell_type": "code",
   "execution_count": 116,
   "id": "d12aed35",
   "metadata": {},
   "outputs": [
    {
     "data": {
      "text/plain": [
       "[30, 40]"
      ]
     },
     "execution_count": 116,
     "metadata": {},
     "output_type": "execute_result"
    }
   ],
   "source": [
    "pairs[1]"
   ]
  },
  {
   "cell_type": "code",
   "execution_count": 117,
   "id": "a3508aec",
   "metadata": {},
   "outputs": [
    {
     "data": {
      "text/plain": [
       "[10, 20]"
      ]
     },
     "execution_count": 117,
     "metadata": {},
     "output_type": "execute_result"
    }
   ],
   "source": [
    "pairs[0]"
   ]
  },
  {
   "cell_type": "code",
   "execution_count": 118,
   "id": "df0d5ea1",
   "metadata": {},
   "outputs": [
    {
     "data": {
      "text/plain": [
       "30"
      ]
     },
     "execution_count": 118,
     "metadata": {},
     "output_type": "execute_result"
    }
   ],
   "source": [
    "pairs[1][0]"
   ]
  },
  {
   "cell_type": "code",
   "execution_count": 119,
   "id": "9fcede78",
   "metadata": {},
   "outputs": [
    {
     "data": {
      "text/plain": [
       "True"
      ]
     },
     "execution_count": 119,
     "metadata": {},
     "output_type": "execute_result"
    }
   ],
   "source": [
    "digits=[1,8,2,8]\n",
    "1 in digits"
   ]
  },
  {
   "cell_type": "code",
   "execution_count": 120,
   "id": "fd3df895",
   "metadata": {},
   "outputs": [
    {
     "data": {
      "text/plain": [
       "True"
      ]
     },
     "execution_count": 120,
     "metadata": {},
     "output_type": "execute_result"
    }
   ],
   "source": [
    "5 not in digits"
   ]
  },
  {
   "cell_type": "code",
   "execution_count": 121,
   "id": "081e5854",
   "metadata": {},
   "outputs": [
    {
     "data": {
      "text/plain": [
       "True"
      ]
     },
     "execution_count": 121,
     "metadata": {},
     "output_type": "execute_result"
    }
   ],
   "source": [
    "not(5 in digits)"
   ]
  },
  {
   "cell_type": "code",
   "execution_count": 122,
   "id": "eb51270c",
   "metadata": {},
   "outputs": [
    {
     "data": {
      "text/plain": [
       "False"
      ]
     },
     "execution_count": 122,
     "metadata": {},
     "output_type": "execute_result"
    }
   ],
   "source": [
    "[1,8] in digits"
   ]
  },
  {
   "cell_type": "code",
   "execution_count": 123,
   "id": "309a8485",
   "metadata": {},
   "outputs": [
    {
     "data": {
      "text/plain": [
       "True"
      ]
     },
     "execution_count": 123,
     "metadata": {},
     "output_type": "execute_result"
    }
   ],
   "source": [
    "[1,2] in [3,[1,2],4]"
   ]
  },
  {
   "cell_type": "code",
   "execution_count": 128,
   "id": "4fc9899d",
   "metadata": {},
   "outputs": [
    {
     "data": {
      "text/plain": [
       "True"
      ]
     },
     "execution_count": 128,
     "metadata": {},
     "output_type": "execute_result"
    }
   ],
   "source": [
    "1 in [3,[[1,2]],4][1][0]"
   ]
  },
  {
   "cell_type": "code",
   "execution_count": 126,
   "id": "ead10b3b",
   "metadata": {},
   "outputs": [
    {
     "data": {
      "text/plain": [
       "[1, 2]"
      ]
     },
     "execution_count": 126,
     "metadata": {},
     "output_type": "execute_result"
    }
   ],
   "source": [
    "[3,[[1,2]],4][1][0]"
   ]
  },
  {
   "cell_type": "code",
   "execution_count": 129,
   "id": "39e10242",
   "metadata": {},
   "outputs": [],
   "source": [
    "def count(s, value):\n",
    "    total = 0\n",
    "    for element in s:\n",
    "        if element == value:\n",
    "            total += 1\n",
    "    return total"
   ]
  },
  {
   "cell_type": "code",
   "execution_count": 130,
   "id": "7b38c31d",
   "metadata": {},
   "outputs": [
    {
     "data": {
      "text/plain": [
       "3"
      ]
     },
     "execution_count": 130,
     "metadata": {},
     "output_type": "execute_result"
    }
   ],
   "source": [
    "count([1,2,3,1,1],1)"
   ]
  },
  {
   "cell_type": "code",
   "execution_count": 131,
   "id": "ae734696",
   "metadata": {},
   "outputs": [
    {
     "data": {
      "text/plain": [
       "range(-2, 2)"
      ]
     },
     "execution_count": 131,
     "metadata": {},
     "output_type": "execute_result"
    }
   ],
   "source": [
    "range(-2,2)"
   ]
  },
  {
   "cell_type": "code",
   "execution_count": 132,
   "id": "b70b8b00",
   "metadata": {},
   "outputs": [
    {
     "name": "stdout",
     "output_type": "stream",
     "text": [
      "range(-2, 2)\n"
     ]
    }
   ],
   "source": [
    "print(range(-2,2))"
   ]
  },
  {
   "cell_type": "code",
   "execution_count": 133,
   "id": "91b1bb4d",
   "metadata": {},
   "outputs": [
    {
     "data": {
      "text/plain": [
       "-2"
      ]
     },
     "execution_count": 133,
     "metadata": {},
     "output_type": "execute_result"
    }
   ],
   "source": [
    "range(-2,2)[0]"
   ]
  },
  {
   "cell_type": "code",
   "execution_count": 134,
   "id": "2d08abbc",
   "metadata": {},
   "outputs": [
    {
     "data": {
      "text/plain": [
       "[-2, -1, 0, 1]"
      ]
     },
     "execution_count": 134,
     "metadata": {},
     "output_type": "execute_result"
    }
   ],
   "source": [
    "list(range(-2,2))"
   ]
  },
  {
   "cell_type": "code",
   "execution_count": 135,
   "id": "d0bd32ab",
   "metadata": {},
   "outputs": [
    {
     "data": {
      "text/plain": [
       "[0, 1, 2, 3]"
      ]
     },
     "execution_count": 135,
     "metadata": {},
     "output_type": "execute_result"
    }
   ],
   "source": [
    "list(range(4))"
   ]
  },
  {
   "cell_type": "code",
   "execution_count": 140,
   "id": "269e760a",
   "metadata": {},
   "outputs": [],
   "source": [
    "def sum_below(n):\n",
    "    total = 0\n",
    "    for i in range(n):\n",
    "        total += i\n",
    "    return total"
   ]
  },
  {
   "cell_type": "code",
   "execution_count": 141,
   "id": "ae2b08fd",
   "metadata": {},
   "outputs": [
    {
     "data": {
      "text/plain": [
       "10"
      ]
     },
     "execution_count": 141,
     "metadata": {},
     "output_type": "execute_result"
    }
   ],
   "source": [
    "sum_below(5)"
   ]
  },
  {
   "cell_type": "code",
   "execution_count": 142,
   "id": "c68013b1",
   "metadata": {},
   "outputs": [],
   "source": [
    "def cheer():\n",
    "    for _ in range(3):\n",
    "        print('go bears!')"
   ]
  },
  {
   "cell_type": "code",
   "execution_count": 144,
   "id": "ccb7feb1",
   "metadata": {},
   "outputs": [
    {
     "name": "stdout",
     "output_type": "stream",
     "text": [
      "go bears!\n",
      "go bears!\n",
      "go bears!\n"
     ]
    }
   ],
   "source": [
    "cheer()"
   ]
  },
  {
   "cell_type": "code",
   "execution_count": 153,
   "id": "fea58271",
   "metadata": {},
   "outputs": [],
   "source": [
    "def mysum(L):\n",
    "    assert type(L) == list and len(L) != 0, 'L must be a list including several numbers'\n",
    "\n",
    "    # base case\n",
    "    if len(L) == 1:\n",
    "        return L[0]\n",
    "    # recursive case\n",
    "    else:\n",
    "        return mysum(L[:-1]) + L[-1]\n"
   ]
  },
  {
   "cell_type": "code",
   "execution_count": 154,
   "id": "d9ca92c3",
   "metadata": {},
   "outputs": [
    {
     "data": {
      "text/plain": [
       "12"
      ]
     },
     "execution_count": 154,
     "metadata": {},
     "output_type": "execute_result"
    }
   ],
   "source": [
    "mysum([2,4,1,5])"
   ]
  },
  {
   "cell_type": "code",
   "execution_count": 152,
   "id": "abda6def",
   "metadata": {},
   "outputs": [
    {
     "data": {
      "text/plain": [
       "[2, 4, 1]"
      ]
     },
     "execution_count": 152,
     "metadata": {},
     "output_type": "execute_result"
    }
   ],
   "source": [
    "[2,4,1,5][:-1]"
   ]
  },
  {
   "cell_type": "code",
   "execution_count": 155,
   "id": "99c8d212",
   "metadata": {},
   "outputs": [],
   "source": [
    "def mysum(L):\n",
    "\n",
    "    # base case\n",
    "    if L == []:\n",
    "        return 0\n",
    "    # recursive case\n",
    "    else:\n",
    "        return L[0] + mysum(L[1:])"
   ]
  },
  {
   "cell_type": "code",
   "execution_count": 156,
   "id": "fe0609ef",
   "metadata": {},
   "outputs": [
    {
     "data": {
      "text/plain": [
       "12"
      ]
     },
     "execution_count": 156,
     "metadata": {},
     "output_type": "execute_result"
    }
   ],
   "source": [
    "mysum([2,4,1,5])"
   ]
  },
  {
   "cell_type": "code",
   "execution_count": 157,
   "id": "bc608379",
   "metadata": {},
   "outputs": [],
   "source": [
    "def sum_rec(n):\n",
    "    if (n == 0):\n",
    "        return 0\n",
    "    else:\n",
    "        return n + sum_rec(n-1)"
   ]
  },
  {
   "cell_type": "code",
   "execution_count": 158,
   "id": "a28bb520",
   "metadata": {},
   "outputs": [
    {
     "data": {
      "text/plain": [
       "55"
      ]
     },
     "execution_count": 158,
     "metadata": {},
     "output_type": "execute_result"
    }
   ],
   "source": [
    "sum_rec(10)"
   ]
  },
  {
   "cell_type": "code",
   "execution_count": 159,
   "id": "0f7bed0f",
   "metadata": {},
   "outputs": [
    {
     "data": {
      "text/plain": [
       "[2, 4, 6, 8, 10]"
      ]
     },
     "execution_count": 159,
     "metadata": {},
     "output_type": "execute_result"
    }
   ],
   "source": [
    "odds = [1, 3, 5, 7, 9]\n",
    "[x+1 for x in odds]"
   ]
  },
  {
   "cell_type": "code",
   "execution_count": 160,
   "id": "a03d93d0",
   "metadata": {},
   "outputs": [
    {
     "data": {
      "text/plain": [
       "[1, 5]"
      ]
     },
     "execution_count": 160,
     "metadata": {},
     "output_type": "execute_result"
    }
   ],
   "source": [
    "[x for x in odds if 25 % x == 0]"
   ]
  },
  {
   "cell_type": "code",
   "execution_count": 166,
   "id": "666d607e",
   "metadata": {},
   "outputs": [],
   "source": [
    "def devisors(n):\n",
    "    return [x for x in range(1,n) if n%x ==0]\n"
   ]
  },
  {
   "cell_type": "code",
   "execution_count": 167,
   "id": "739fe7c1",
   "metadata": {},
   "outputs": [
    {
     "data": {
      "text/plain": [
       "[1, 2, 3, 4, 6]"
      ]
     },
     "execution_count": 167,
     "metadata": {},
     "output_type": "execute_result"
    }
   ],
   "source": [
    "devisors(12)"
   ]
  },
  {
   "cell_type": "code",
   "execution_count": 163,
   "id": "501c2a98",
   "metadata": {},
   "outputs": [
    {
     "data": {
      "text/plain": [
       "[2, 3]"
      ]
     },
     "execution_count": 163,
     "metadata": {},
     "output_type": "execute_result"
    }
   ],
   "source": [
    "list(range(2,4))"
   ]
  },
  {
   "cell_type": "code",
   "execution_count": 2,
   "id": "f4e7bfb7",
   "metadata": {},
   "outputs": [],
   "source": [
    "curry = lambda f: lambda x: lambda y: f(x,y)"
   ]
  },
  {
   "cell_type": "code",
   "execution_count": 4,
   "id": "9c16624c",
   "metadata": {},
   "outputs": [],
   "source": [
    "from operator import add"
   ]
  },
  {
   "cell_type": "code",
   "execution_count": 6,
   "id": "ca515991",
   "metadata": {},
   "outputs": [
    {
     "data": {
      "text/plain": [
       "7"
      ]
     },
     "execution_count": 6,
     "metadata": {},
     "output_type": "execute_result"
    }
   ],
   "source": [
    "curry(add)(3)(4)"
   ]
  },
  {
   "cell_type": "code",
   "execution_count": 7,
   "id": "a6cf1321",
   "metadata": {},
   "outputs": [
    {
     "data": {
      "text/plain": [
       "'\\nthe zen of python\\nclaims\\nread more\\n'"
      ]
     },
     "execution_count": 7,
     "metadata": {},
     "output_type": "execute_result"
    }
   ],
   "source": [
    "\"\"\"\n",
    "the zen of python\n",
    "claims\n",
    "read more\n",
    "\"\"\""
   ]
  },
  {
   "cell_type": "code",
   "execution_count": 10,
   "id": "218734a8",
   "metadata": {},
   "outputs": [],
   "source": [
    "def reverse(s):\n",
    "    if s == '':\n",
    "        return s\n",
    "    else:\n",
    "        return reverse(s[1:]) + s[0]"
   ]
  },
  {
   "cell_type": "code",
   "execution_count": 13,
   "id": "5212fca4",
   "metadata": {},
   "outputs": [
    {
     "data": {
      "text/plain": [
       "'1'"
      ]
     },
     "execution_count": 13,
     "metadata": {},
     "output_type": "execute_result"
    }
   ],
   "source": [
    "reverse('1')"
   ]
  },
  {
   "cell_type": "code",
   "execution_count": 1,
   "id": "eea25b24",
   "metadata": {},
   "outputs": [
    {
     "data": {
      "text/plain": [
       "'hello\\tthere'"
      ]
     },
     "execution_count": 1,
     "metadata": {},
     "output_type": "execute_result"
    }
   ],
   "source": [
    "'hello\\tthere'"
   ]
  },
  {
   "cell_type": "code",
   "execution_count": 2,
   "id": "6797f458",
   "metadata": {},
   "outputs": [
    {
     "name": "stdout",
     "output_type": "stream",
     "text": [
      "hello\tthere\n"
     ]
    }
   ],
   "source": [
    "print('hello\\tthere')"
   ]
  },
  {
   "cell_type": "code",
   "execution_count": 3,
   "id": "7b4a2c23",
   "metadata": {},
   "outputs": [
    {
     "name": "stdout",
     "output_type": "stream",
     "text": [
      "hello\n",
      "there\n"
     ]
    }
   ],
   "source": [
    "print('hello\\nthere')"
   ]
  },
  {
   "cell_type": "code",
   "execution_count": 4,
   "id": "60df9728",
   "metadata": {},
   "outputs": [],
   "source": [
    "s= 'hello'"
   ]
  },
  {
   "cell_type": "code",
   "execution_count": 5,
   "id": "3b7c5f87",
   "metadata": {},
   "outputs": [
    {
     "data": {
      "text/plain": [
       "'e'"
      ]
     },
     "execution_count": 5,
     "metadata": {},
     "output_type": "execute_result"
    }
   ],
   "source": [
    "s[1]"
   ]
  },
  {
   "cell_type": "code",
   "execution_count": 6,
   "id": "b5beefd5",
   "metadata": {},
   "outputs": [
    {
     "data": {
      "text/plain": [
       "'el'"
      ]
     },
     "execution_count": 6,
     "metadata": {},
     "output_type": "execute_result"
    }
   ],
   "source": [
    "s[1:3]"
   ]
  },
  {
   "cell_type": "code",
   "execution_count": 7,
   "id": "061ac57f",
   "metadata": {},
   "outputs": [],
   "source": [
    "t = [5, 6, 7, 8]"
   ]
  },
  {
   "cell_type": "code",
   "execution_count": 8,
   "id": "a5800994",
   "metadata": {},
   "outputs": [
    {
     "data": {
      "text/plain": [
       "6"
      ]
     },
     "execution_count": 8,
     "metadata": {},
     "output_type": "execute_result"
    }
   ],
   "source": [
    "t[1]"
   ]
  },
  {
   "cell_type": "code",
   "execution_count": 9,
   "id": "7dfee539",
   "metadata": {},
   "outputs": [
    {
     "data": {
      "text/plain": [
       "[6]"
      ]
     },
     "execution_count": 9,
     "metadata": {},
     "output_type": "execute_result"
    }
   ],
   "source": [
    "[6]"
   ]
  },
  {
   "cell_type": "code",
   "execution_count": 10,
   "id": "2e04dc20",
   "metadata": {},
   "outputs": [
    {
     "data": {
      "text/plain": [
       "[6, 7]"
      ]
     },
     "execution_count": 10,
     "metadata": {},
     "output_type": "execute_result"
    }
   ],
   "source": [
    "# slicing\n",
    "t[1:3]"
   ]
  },
  {
   "cell_type": "code",
   "execution_count": 11,
   "id": "c1345760",
   "metadata": {},
   "outputs": [
    {
     "data": {
      "text/plain": [
       "[5, 6, 7]"
      ]
     },
     "execution_count": 11,
     "metadata": {},
     "output_type": "execute_result"
    }
   ],
   "source": [
    "t[:3]"
   ]
  },
  {
   "cell_type": "code",
   "execution_count": 12,
   "id": "7a26f0ba",
   "metadata": {},
   "outputs": [
    {
     "data": {
      "text/plain": [
       "[6, 7, 8]"
      ]
     },
     "execution_count": 12,
     "metadata": {},
     "output_type": "execute_result"
    }
   ],
   "source": [
    "t[1:]"
   ]
  },
  {
   "cell_type": "code",
   "execution_count": 13,
   "id": "c7f88d37",
   "metadata": {},
   "outputs": [
    {
     "data": {
      "text/plain": [
       "[6, 7, 8]"
      ]
     },
     "execution_count": 13,
     "metadata": {},
     "output_type": "execute_result"
    }
   ],
   "source": [
    "t[1:len(t)]"
   ]
  },
  {
   "cell_type": "code",
   "execution_count": 14,
   "id": "ea6ad1bb",
   "metadata": {},
   "outputs": [
    {
     "data": {
      "text/plain": [
       "[5, 6, 7, 8]"
      ]
     },
     "execution_count": 14,
     "metadata": {},
     "output_type": "execute_result"
    }
   ],
   "source": [
    "t[:]"
   ]
  },
  {
   "cell_type": "code",
   "execution_count": 15,
   "id": "92a5fa70",
   "metadata": {},
   "outputs": [],
   "source": [
    "u = t[:]"
   ]
  },
  {
   "cell_type": "code",
   "execution_count": 16,
   "id": "d0ff65e0",
   "metadata": {},
   "outputs": [
    {
     "data": {
      "text/plain": [
       "8"
      ]
     },
     "execution_count": 16,
     "metadata": {},
     "output_type": "execute_result"
    }
   ],
   "source": [
    "t[-1]"
   ]
  },
  {
   "cell_type": "code",
   "execution_count": 17,
   "id": "d6f5d001",
   "metadata": {},
   "outputs": [
    {
     "data": {
      "text/plain": [
       "[5, 6, 7]"
      ]
     },
     "execution_count": 17,
     "metadata": {},
     "output_type": "execute_result"
    }
   ],
   "source": [
    "t[:-1]"
   ]
  },
  {
   "cell_type": "code",
   "execution_count": 18,
   "id": "5dc77cb5",
   "metadata": {},
   "outputs": [
    {
     "data": {
      "text/plain": [
       "7"
      ]
     },
     "execution_count": 18,
     "metadata": {},
     "output_type": "execute_result"
    }
   ],
   "source": [
    "t[-2]"
   ]
  },
  {
   "cell_type": "code",
   "execution_count": 19,
   "id": "59f8e680",
   "metadata": {},
   "outputs": [
    {
     "data": {
      "text/plain": [
       "[6, 7]"
      ]
     },
     "execution_count": 19,
     "metadata": {},
     "output_type": "execute_result"
    }
   ],
   "source": [
    "t[1:-1]"
   ]
  },
  {
   "cell_type": "code",
   "execution_count": 20,
   "id": "b3de4d8d",
   "metadata": {},
   "outputs": [
    {
     "data": {
      "text/plain": [
       "[6, 7]"
      ]
     },
     "execution_count": 20,
     "metadata": {},
     "output_type": "execute_result"
    }
   ],
   "source": [
    "t[1:len(t)-1]"
   ]
  },
  {
   "cell_type": "code",
   "execution_count": 21,
   "id": "74624925",
   "metadata": {},
   "outputs": [
    {
     "data": {
      "text/plain": [
       "[8, 7]"
      ]
     },
     "execution_count": 21,
     "metadata": {},
     "output_type": "execute_result"
    }
   ],
   "source": [
    "t[-1:1:-1]"
   ]
  },
  {
   "cell_type": "code",
   "execution_count": 22,
   "id": "780d9f5f",
   "metadata": {},
   "outputs": [
    {
     "data": {
      "text/plain": [
       "[5, 7]"
      ]
     },
     "execution_count": 22,
     "metadata": {},
     "output_type": "execute_result"
    }
   ],
   "source": [
    "t[0:len(t):2] # 2 here means steps"
   ]
  },
  {
   "cell_type": "code",
   "execution_count": 23,
   "id": "3d312ef9",
   "metadata": {},
   "outputs": [],
   "source": [
    "r = range(3,10)"
   ]
  },
  {
   "cell_type": "code",
   "execution_count": 24,
   "id": "f3e77eb3",
   "metadata": {},
   "outputs": [
    {
     "data": {
      "text/plain": [
       "range(3, 10)"
      ]
     },
     "execution_count": 24,
     "metadata": {},
     "output_type": "execute_result"
    }
   ],
   "source": [
    "r"
   ]
  },
  {
   "cell_type": "code",
   "execution_count": 25,
   "id": "eadce103",
   "metadata": {},
   "outputs": [
    {
     "data": {
      "text/plain": [
       "[3, 4, 5, 6, 7, 8, 9]"
      ]
     },
     "execution_count": 25,
     "metadata": {},
     "output_type": "execute_result"
    }
   ],
   "source": [
    "list(r)"
   ]
  },
  {
   "cell_type": "code",
   "execution_count": 28,
   "id": "ff9c02e4",
   "metadata": {},
   "outputs": [
    {
     "data": {
      "text/plain": [
       "list"
      ]
     },
     "execution_count": 28,
     "metadata": {},
     "output_type": "execute_result"
    }
   ],
   "source": [
    "type(list(r))"
   ]
  },
  {
   "cell_type": "code",
   "execution_count": 29,
   "id": "74e9e951",
   "metadata": {},
   "outputs": [],
   "source": [
    "r = range(3,100000)"
   ]
  },
  {
   "cell_type": "code",
   "execution_count": 30,
   "id": "f7d3a9ad",
   "metadata": {},
   "outputs": [
    {
     "data": {
      "text/plain": [
       "99997"
      ]
     },
     "execution_count": 30,
     "metadata": {},
     "output_type": "execute_result"
    }
   ],
   "source": [
    "len(r)"
   ]
  },
  {
   "cell_type": "code",
   "execution_count": 31,
   "id": "cb2e2d41",
   "metadata": {},
   "outputs": [
    {
     "data": {
      "text/plain": [
       "1003"
      ]
     },
     "execution_count": 31,
     "metadata": {},
     "output_type": "execute_result"
    }
   ],
   "source": [
    "r[1000]"
   ]
  },
  {
   "cell_type": "code",
   "execution_count": 32,
   "id": "ebf7d5c8",
   "metadata": {},
   "outputs": [
    {
     "data": {
      "text/plain": [
       "[3,\n",
       " 4,\n",
       " 5,\n",
       " 6,\n",
       " 7,\n",
       " 8,\n",
       " 9,\n",
       " 10,\n",
       " 11,\n",
       " 12,\n",
       " 13,\n",
       " 14,\n",
       " 15,\n",
       " 16,\n",
       " 17,\n",
       " 18,\n",
       " 19,\n",
       " 20,\n",
       " 21,\n",
       " 22,\n",
       " 23,\n",
       " 24,\n",
       " 25,\n",
       " 26,\n",
       " 27,\n",
       " 28,\n",
       " 29,\n",
       " 30,\n",
       " 31,\n",
       " 32,\n",
       " 33,\n",
       " 34,\n",
       " 35,\n",
       " 36,\n",
       " 37,\n",
       " 38,\n",
       " 39,\n",
       " 40,\n",
       " 41,\n",
       " 42,\n",
       " 43,\n",
       " 44,\n",
       " 45,\n",
       " 46,\n",
       " 47,\n",
       " 48,\n",
       " 49,\n",
       " 50,\n",
       " 51,\n",
       " 52,\n",
       " 53,\n",
       " 54,\n",
       " 55,\n",
       " 56,\n",
       " 57,\n",
       " 58,\n",
       " 59,\n",
       " 60,\n",
       " 61,\n",
       " 62,\n",
       " 63,\n",
       " 64,\n",
       " 65,\n",
       " 66,\n",
       " 67,\n",
       " 68,\n",
       " 69,\n",
       " 70,\n",
       " 71,\n",
       " 72,\n",
       " 73,\n",
       " 74,\n",
       " 75,\n",
       " 76,\n",
       " 77,\n",
       " 78,\n",
       " 79,\n",
       " 80,\n",
       " 81,\n",
       " 82,\n",
       " 83,\n",
       " 84,\n",
       " 85,\n",
       " 86,\n",
       " 87,\n",
       " 88,\n",
       " 89,\n",
       " 90,\n",
       " 91,\n",
       " 92,\n",
       " 93,\n",
       " 94,\n",
       " 95,\n",
       " 96,\n",
       " 97,\n",
       " 98,\n",
       " 99,\n",
       " 100,\n",
       " 101,\n",
       " 102,\n",
       " 103,\n",
       " 104,\n",
       " 105,\n",
       " 106,\n",
       " 107,\n",
       " 108,\n",
       " 109,\n",
       " 110,\n",
       " 111,\n",
       " 112,\n",
       " 113,\n",
       " 114,\n",
       " 115,\n",
       " 116,\n",
       " 117,\n",
       " 118,\n",
       " 119,\n",
       " 120,\n",
       " 121,\n",
       " 122,\n",
       " 123,\n",
       " 124,\n",
       " 125,\n",
       " 126,\n",
       " 127,\n",
       " 128,\n",
       " 129,\n",
       " 130,\n",
       " 131,\n",
       " 132,\n",
       " 133,\n",
       " 134,\n",
       " 135,\n",
       " 136,\n",
       " 137,\n",
       " 138,\n",
       " 139,\n",
       " 140,\n",
       " 141,\n",
       " 142,\n",
       " 143,\n",
       " 144,\n",
       " 145,\n",
       " 146,\n",
       " 147,\n",
       " 148,\n",
       " 149,\n",
       " 150,\n",
       " 151,\n",
       " 152,\n",
       " 153,\n",
       " 154,\n",
       " 155,\n",
       " 156,\n",
       " 157,\n",
       " 158,\n",
       " 159,\n",
       " 160,\n",
       " 161,\n",
       " 162,\n",
       " 163,\n",
       " 164,\n",
       " 165,\n",
       " 166,\n",
       " 167,\n",
       " 168,\n",
       " 169,\n",
       " 170,\n",
       " 171,\n",
       " 172,\n",
       " 173,\n",
       " 174,\n",
       " 175,\n",
       " 176,\n",
       " 177,\n",
       " 178,\n",
       " 179,\n",
       " 180,\n",
       " 181,\n",
       " 182,\n",
       " 183,\n",
       " 184,\n",
       " 185,\n",
       " 186,\n",
       " 187,\n",
       " 188,\n",
       " 189,\n",
       " 190,\n",
       " 191,\n",
       " 192,\n",
       " 193,\n",
       " 194,\n",
       " 195,\n",
       " 196,\n",
       " 197,\n",
       " 198,\n",
       " 199,\n",
       " 200,\n",
       " 201,\n",
       " 202,\n",
       " 203,\n",
       " 204,\n",
       " 205,\n",
       " 206,\n",
       " 207,\n",
       " 208,\n",
       " 209,\n",
       " 210,\n",
       " 211,\n",
       " 212,\n",
       " 213,\n",
       " 214,\n",
       " 215,\n",
       " 216,\n",
       " 217,\n",
       " 218,\n",
       " 219,\n",
       " 220,\n",
       " 221,\n",
       " 222,\n",
       " 223,\n",
       " 224,\n",
       " 225,\n",
       " 226,\n",
       " 227,\n",
       " 228,\n",
       " 229,\n",
       " 230,\n",
       " 231,\n",
       " 232,\n",
       " 233,\n",
       " 234,\n",
       " 235,\n",
       " 236,\n",
       " 237,\n",
       " 238,\n",
       " 239,\n",
       " 240,\n",
       " 241,\n",
       " 242,\n",
       " 243,\n",
       " 244,\n",
       " 245,\n",
       " 246,\n",
       " 247,\n",
       " 248,\n",
       " 249,\n",
       " 250,\n",
       " 251,\n",
       " 252,\n",
       " 253,\n",
       " 254,\n",
       " 255,\n",
       " 256,\n",
       " 257,\n",
       " 258,\n",
       " 259,\n",
       " 260,\n",
       " 261,\n",
       " 262,\n",
       " 263,\n",
       " 264,\n",
       " 265,\n",
       " 266,\n",
       " 267,\n",
       " 268,\n",
       " 269,\n",
       " 270,\n",
       " 271,\n",
       " 272,\n",
       " 273,\n",
       " 274,\n",
       " 275,\n",
       " 276,\n",
       " 277,\n",
       " 278,\n",
       " 279,\n",
       " 280,\n",
       " 281,\n",
       " 282,\n",
       " 283,\n",
       " 284,\n",
       " 285,\n",
       " 286,\n",
       " 287,\n",
       " 288,\n",
       " 289,\n",
       " 290,\n",
       " 291,\n",
       " 292,\n",
       " 293,\n",
       " 294,\n",
       " 295,\n",
       " 296,\n",
       " 297,\n",
       " 298,\n",
       " 299,\n",
       " 300,\n",
       " 301,\n",
       " 302,\n",
       " 303,\n",
       " 304,\n",
       " 305,\n",
       " 306,\n",
       " 307,\n",
       " 308,\n",
       " 309,\n",
       " 310,\n",
       " 311,\n",
       " 312,\n",
       " 313,\n",
       " 314,\n",
       " 315,\n",
       " 316,\n",
       " 317,\n",
       " 318,\n",
       " 319,\n",
       " 320,\n",
       " 321,\n",
       " 322,\n",
       " 323,\n",
       " 324,\n",
       " 325,\n",
       " 326,\n",
       " 327,\n",
       " 328,\n",
       " 329,\n",
       " 330,\n",
       " 331,\n",
       " 332,\n",
       " 333,\n",
       " 334,\n",
       " 335,\n",
       " 336,\n",
       " 337,\n",
       " 338,\n",
       " 339,\n",
       " 340,\n",
       " 341,\n",
       " 342,\n",
       " 343,\n",
       " 344,\n",
       " 345,\n",
       " 346,\n",
       " 347,\n",
       " 348,\n",
       " 349,\n",
       " 350,\n",
       " 351,\n",
       " 352,\n",
       " 353,\n",
       " 354,\n",
       " 355,\n",
       " 356,\n",
       " 357,\n",
       " 358,\n",
       " 359,\n",
       " 360,\n",
       " 361,\n",
       " 362,\n",
       " 363,\n",
       " 364,\n",
       " 365,\n",
       " 366,\n",
       " 367,\n",
       " 368,\n",
       " 369,\n",
       " 370,\n",
       " 371,\n",
       " 372,\n",
       " 373,\n",
       " 374,\n",
       " 375,\n",
       " 376,\n",
       " 377,\n",
       " 378,\n",
       " 379,\n",
       " 380,\n",
       " 381,\n",
       " 382,\n",
       " 383,\n",
       " 384,\n",
       " 385,\n",
       " 386,\n",
       " 387,\n",
       " 388,\n",
       " 389,\n",
       " 390,\n",
       " 391,\n",
       " 392,\n",
       " 393,\n",
       " 394,\n",
       " 395,\n",
       " 396,\n",
       " 397,\n",
       " 398,\n",
       " 399,\n",
       " 400,\n",
       " 401,\n",
       " 402,\n",
       " 403,\n",
       " 404,\n",
       " 405,\n",
       " 406,\n",
       " 407,\n",
       " 408,\n",
       " 409,\n",
       " 410,\n",
       " 411,\n",
       " 412,\n",
       " 413,\n",
       " 414,\n",
       " 415,\n",
       " 416,\n",
       " 417,\n",
       " 418,\n",
       " 419,\n",
       " 420,\n",
       " 421,\n",
       " 422,\n",
       " 423,\n",
       " 424,\n",
       " 425,\n",
       " 426,\n",
       " 427,\n",
       " 428,\n",
       " 429,\n",
       " 430,\n",
       " 431,\n",
       " 432,\n",
       " 433,\n",
       " 434,\n",
       " 435,\n",
       " 436,\n",
       " 437,\n",
       " 438,\n",
       " 439,\n",
       " 440,\n",
       " 441,\n",
       " 442,\n",
       " 443,\n",
       " 444,\n",
       " 445,\n",
       " 446,\n",
       " 447,\n",
       " 448,\n",
       " 449,\n",
       " 450,\n",
       " 451,\n",
       " 452,\n",
       " 453,\n",
       " 454,\n",
       " 455,\n",
       " 456,\n",
       " 457,\n",
       " 458,\n",
       " 459,\n",
       " 460,\n",
       " 461,\n",
       " 462,\n",
       " 463,\n",
       " 464,\n",
       " 465,\n",
       " 466,\n",
       " 467,\n",
       " 468,\n",
       " 469,\n",
       " 470,\n",
       " 471,\n",
       " 472,\n",
       " 473,\n",
       " 474,\n",
       " 475,\n",
       " 476,\n",
       " 477,\n",
       " 478,\n",
       " 479,\n",
       " 480,\n",
       " 481,\n",
       " 482,\n",
       " 483,\n",
       " 484,\n",
       " 485,\n",
       " 486,\n",
       " 487,\n",
       " 488,\n",
       " 489,\n",
       " 490,\n",
       " 491,\n",
       " 492,\n",
       " 493,\n",
       " 494,\n",
       " 495,\n",
       " 496,\n",
       " 497,\n",
       " 498,\n",
       " 499,\n",
       " 500,\n",
       " 501,\n",
       " 502,\n",
       " 503,\n",
       " 504,\n",
       " 505,\n",
       " 506,\n",
       " 507,\n",
       " 508,\n",
       " 509,\n",
       " 510,\n",
       " 511,\n",
       " 512,\n",
       " 513,\n",
       " 514,\n",
       " 515,\n",
       " 516,\n",
       " 517,\n",
       " 518,\n",
       " 519,\n",
       " 520,\n",
       " 521,\n",
       " 522,\n",
       " 523,\n",
       " 524,\n",
       " 525,\n",
       " 526,\n",
       " 527,\n",
       " 528,\n",
       " 529,\n",
       " 530,\n",
       " 531,\n",
       " 532,\n",
       " 533,\n",
       " 534,\n",
       " 535,\n",
       " 536,\n",
       " 537,\n",
       " 538,\n",
       " 539,\n",
       " 540,\n",
       " 541,\n",
       " 542,\n",
       " 543,\n",
       " 544,\n",
       " 545,\n",
       " 546,\n",
       " 547,\n",
       " 548,\n",
       " 549,\n",
       " 550,\n",
       " 551,\n",
       " 552,\n",
       " 553,\n",
       " 554,\n",
       " 555,\n",
       " 556,\n",
       " 557,\n",
       " 558,\n",
       " 559,\n",
       " 560,\n",
       " 561,\n",
       " 562,\n",
       " 563,\n",
       " 564,\n",
       " 565,\n",
       " 566,\n",
       " 567,\n",
       " 568,\n",
       " 569,\n",
       " 570,\n",
       " 571,\n",
       " 572,\n",
       " 573,\n",
       " 574,\n",
       " 575,\n",
       " 576,\n",
       " 577,\n",
       " 578,\n",
       " 579,\n",
       " 580,\n",
       " 581,\n",
       " 582,\n",
       " 583,\n",
       " 584,\n",
       " 585,\n",
       " 586,\n",
       " 587,\n",
       " 588,\n",
       " 589,\n",
       " 590,\n",
       " 591,\n",
       " 592,\n",
       " 593,\n",
       " 594,\n",
       " 595,\n",
       " 596,\n",
       " 597,\n",
       " 598,\n",
       " 599,\n",
       " 600,\n",
       " 601,\n",
       " 602,\n",
       " 603,\n",
       " 604,\n",
       " 605,\n",
       " 606,\n",
       " 607,\n",
       " 608,\n",
       " 609,\n",
       " 610,\n",
       " 611,\n",
       " 612,\n",
       " 613,\n",
       " 614,\n",
       " 615,\n",
       " 616,\n",
       " 617,\n",
       " 618,\n",
       " 619,\n",
       " 620,\n",
       " 621,\n",
       " 622,\n",
       " 623,\n",
       " 624,\n",
       " 625,\n",
       " 626,\n",
       " 627,\n",
       " 628,\n",
       " 629,\n",
       " 630,\n",
       " 631,\n",
       " 632,\n",
       " 633,\n",
       " 634,\n",
       " 635,\n",
       " 636,\n",
       " 637,\n",
       " 638,\n",
       " 639,\n",
       " 640,\n",
       " 641,\n",
       " 642,\n",
       " 643,\n",
       " 644,\n",
       " 645,\n",
       " 646,\n",
       " 647,\n",
       " 648,\n",
       " 649,\n",
       " 650,\n",
       " 651,\n",
       " 652,\n",
       " 653,\n",
       " 654,\n",
       " 655,\n",
       " 656,\n",
       " 657,\n",
       " 658,\n",
       " 659,\n",
       " 660,\n",
       " 661,\n",
       " 662,\n",
       " 663,\n",
       " 664,\n",
       " 665,\n",
       " 666,\n",
       " 667,\n",
       " 668,\n",
       " 669,\n",
       " 670,\n",
       " 671,\n",
       " 672,\n",
       " 673,\n",
       " 674,\n",
       " 675,\n",
       " 676,\n",
       " 677,\n",
       " 678,\n",
       " 679,\n",
       " 680,\n",
       " 681,\n",
       " 682,\n",
       " 683,\n",
       " 684,\n",
       " 685,\n",
       " 686,\n",
       " 687,\n",
       " 688,\n",
       " 689,\n",
       " 690,\n",
       " 691,\n",
       " 692,\n",
       " 693,\n",
       " 694,\n",
       " 695,\n",
       " 696,\n",
       " 697,\n",
       " 698,\n",
       " 699,\n",
       " 700,\n",
       " 701,\n",
       " 702,\n",
       " 703,\n",
       " 704,\n",
       " 705,\n",
       " 706,\n",
       " 707,\n",
       " 708,\n",
       " 709,\n",
       " 710,\n",
       " 711,\n",
       " 712,\n",
       " 713,\n",
       " 714,\n",
       " 715,\n",
       " 716,\n",
       " 717,\n",
       " 718,\n",
       " 719,\n",
       " 720,\n",
       " 721,\n",
       " 722,\n",
       " 723,\n",
       " 724,\n",
       " 725,\n",
       " 726,\n",
       " 727,\n",
       " 728,\n",
       " 729,\n",
       " 730,\n",
       " 731,\n",
       " 732,\n",
       " 733,\n",
       " 734,\n",
       " 735,\n",
       " 736,\n",
       " 737,\n",
       " 738,\n",
       " 739,\n",
       " 740,\n",
       " 741,\n",
       " 742,\n",
       " 743,\n",
       " 744,\n",
       " 745,\n",
       " 746,\n",
       " 747,\n",
       " 748,\n",
       " 749,\n",
       " 750,\n",
       " 751,\n",
       " 752,\n",
       " 753,\n",
       " 754,\n",
       " 755,\n",
       " 756,\n",
       " 757,\n",
       " 758,\n",
       " 759,\n",
       " 760,\n",
       " 761,\n",
       " 762,\n",
       " 763,\n",
       " 764,\n",
       " 765,\n",
       " 766,\n",
       " 767,\n",
       " 768,\n",
       " 769,\n",
       " 770,\n",
       " 771,\n",
       " 772,\n",
       " 773,\n",
       " 774,\n",
       " 775,\n",
       " 776,\n",
       " 777,\n",
       " 778,\n",
       " 779,\n",
       " 780,\n",
       " 781,\n",
       " 782,\n",
       " 783,\n",
       " 784,\n",
       " 785,\n",
       " 786,\n",
       " 787,\n",
       " 788,\n",
       " 789,\n",
       " 790,\n",
       " 791,\n",
       " 792,\n",
       " 793,\n",
       " 794,\n",
       " 795,\n",
       " 796,\n",
       " 797,\n",
       " 798,\n",
       " 799,\n",
       " 800,\n",
       " 801,\n",
       " 802,\n",
       " 803,\n",
       " 804,\n",
       " 805,\n",
       " 806,\n",
       " 807,\n",
       " 808,\n",
       " 809,\n",
       " 810,\n",
       " 811,\n",
       " 812,\n",
       " 813,\n",
       " 814,\n",
       " 815,\n",
       " 816,\n",
       " 817,\n",
       " 818,\n",
       " 819,\n",
       " 820,\n",
       " 821,\n",
       " 822,\n",
       " 823,\n",
       " 824,\n",
       " 825,\n",
       " 826,\n",
       " 827,\n",
       " 828,\n",
       " 829,\n",
       " 830,\n",
       " 831,\n",
       " 832,\n",
       " 833,\n",
       " 834,\n",
       " 835,\n",
       " 836,\n",
       " 837,\n",
       " 838,\n",
       " 839,\n",
       " 840,\n",
       " 841,\n",
       " 842,\n",
       " 843,\n",
       " 844,\n",
       " 845,\n",
       " 846,\n",
       " 847,\n",
       " 848,\n",
       " 849,\n",
       " 850,\n",
       " 851,\n",
       " 852,\n",
       " 853,\n",
       " 854,\n",
       " 855,\n",
       " 856,\n",
       " 857,\n",
       " 858,\n",
       " 859,\n",
       " 860,\n",
       " 861,\n",
       " 862,\n",
       " 863,\n",
       " 864,\n",
       " 865,\n",
       " 866,\n",
       " 867,\n",
       " 868,\n",
       " 869,\n",
       " 870,\n",
       " 871,\n",
       " 872,\n",
       " 873,\n",
       " 874,\n",
       " 875,\n",
       " 876,\n",
       " 877,\n",
       " 878,\n",
       " 879,\n",
       " 880,\n",
       " 881,\n",
       " 882,\n",
       " 883,\n",
       " 884,\n",
       " 885,\n",
       " 886,\n",
       " 887,\n",
       " 888,\n",
       " 889,\n",
       " 890,\n",
       " 891,\n",
       " 892,\n",
       " 893,\n",
       " 894,\n",
       " 895,\n",
       " 896,\n",
       " 897,\n",
       " 898,\n",
       " 899,\n",
       " 900,\n",
       " 901,\n",
       " 902,\n",
       " 903,\n",
       " 904,\n",
       " 905,\n",
       " 906,\n",
       " 907,\n",
       " 908,\n",
       " 909,\n",
       " 910,\n",
       " 911,\n",
       " 912,\n",
       " 913,\n",
       " 914,\n",
       " 915,\n",
       " 916,\n",
       " 917,\n",
       " 918,\n",
       " 919,\n",
       " 920,\n",
       " 921,\n",
       " 922,\n",
       " 923,\n",
       " 924,\n",
       " 925,\n",
       " 926,\n",
       " 927,\n",
       " 928,\n",
       " 929,\n",
       " 930,\n",
       " 931,\n",
       " 932,\n",
       " 933,\n",
       " 934,\n",
       " 935,\n",
       " 936,\n",
       " 937,\n",
       " 938,\n",
       " 939,\n",
       " 940,\n",
       " 941,\n",
       " 942,\n",
       " 943,\n",
       " 944,\n",
       " 945,\n",
       " 946,\n",
       " 947,\n",
       " 948,\n",
       " 949,\n",
       " 950,\n",
       " 951,\n",
       " 952,\n",
       " 953,\n",
       " 954,\n",
       " 955,\n",
       " 956,\n",
       " 957,\n",
       " 958,\n",
       " 959,\n",
       " 960,\n",
       " 961,\n",
       " 962,\n",
       " 963,\n",
       " 964,\n",
       " 965,\n",
       " 966,\n",
       " 967,\n",
       " 968,\n",
       " 969,\n",
       " 970,\n",
       " 971,\n",
       " 972,\n",
       " 973,\n",
       " 974,\n",
       " 975,\n",
       " 976,\n",
       " 977,\n",
       " 978,\n",
       " 979,\n",
       " 980,\n",
       " 981,\n",
       " 982,\n",
       " 983,\n",
       " 984,\n",
       " 985,\n",
       " 986,\n",
       " 987,\n",
       " 988,\n",
       " 989,\n",
       " 990,\n",
       " 991,\n",
       " 992,\n",
       " 993,\n",
       " 994,\n",
       " 995,\n",
       " 996,\n",
       " 997,\n",
       " 998,\n",
       " 999,\n",
       " 1000,\n",
       " 1001,\n",
       " 1002,\n",
       " ...]"
      ]
     },
     "execution_count": 32,
     "metadata": {},
     "output_type": "execute_result"
    }
   ],
   "source": [
    "list(r)"
   ]
  },
  {
   "cell_type": "code",
   "execution_count": 33,
   "id": "e8f696a4",
   "metadata": {},
   "outputs": [
    {
     "data": {
      "text/plain": [
       "[3, 4, 5, 8, 9, 10]"
      ]
     },
     "execution_count": 33,
     "metadata": {},
     "output_type": "execute_result"
    }
   ],
   "source": [
    "s = [3, 4, 5]\n",
    "t = [8, 9, 10]\n",
    "s + t"
   ]
  },
  {
   "cell_type": "code",
   "execution_count": 34,
   "id": "9fb3352d",
   "metadata": {},
   "outputs": [
    {
     "data": {
      "text/plain": [
       "[3, 4, 5, 8, 9, 10, 8, 9, 10]"
      ]
     },
     "execution_count": 34,
     "metadata": {},
     "output_type": "execute_result"
    }
   ],
   "source": [
    "s + t + t"
   ]
  },
  {
   "cell_type": "code",
   "execution_count": 35,
   "id": "07ea17c7",
   "metadata": {},
   "outputs": [
    {
     "data": {
      "text/plain": [
       "[8, 9, 10, 8, 9, 10]"
      ]
     },
     "execution_count": 35,
     "metadata": {},
     "output_type": "execute_result"
    }
   ],
   "source": [
    "t * 2 "
   ]
  },
  {
   "cell_type": "code",
   "execution_count": 36,
   "id": "facf9ee2",
   "metadata": {},
   "outputs": [
    {
     "data": {
      "text/plain": [
       "'hello'"
      ]
     },
     "execution_count": 36,
     "metadata": {},
     "output_type": "execute_result"
    }
   ],
   "source": [
    "'he' + 'llo'"
   ]
  },
  {
   "cell_type": "code",
   "execution_count": 38,
   "id": "41bb96bb",
   "metadata": {},
   "outputs": [
    {
     "data": {
      "text/plain": [
       "[4, 5, 6]"
      ]
     },
     "execution_count": 38,
     "metadata": {},
     "output_type": "execute_result"
    }
   ],
   "source": [
    "[x + 1 for x in [3, 4, 5]]"
   ]
  },
  {
   "cell_type": "code",
   "execution_count": 39,
   "id": "1a2874fc",
   "metadata": {},
   "outputs": [],
   "source": [
    "t = [3, 4, 5]"
   ]
  },
  {
   "cell_type": "code",
   "execution_count": 41,
   "id": "b941cebc",
   "metadata": {},
   "outputs": [
    {
     "data": {
      "text/plain": [
       "[4, 5, 6]"
      ]
     },
     "execution_count": 41,
     "metadata": {},
     "output_type": "execute_result"
    }
   ],
   "source": [
    "[x + 1 for x in t]"
   ]
  },
  {
   "cell_type": "code",
   "execution_count": 43,
   "id": "62b33e19",
   "metadata": {},
   "outputs": [
    {
     "data": {
      "text/plain": [
       "[6]"
      ]
     },
     "execution_count": 43,
     "metadata": {},
     "output_type": "execute_result"
    }
   ],
   "source": [
    "[x + 1 for x in t if x > 4]"
   ]
  },
  {
   "cell_type": "code",
   "execution_count": 44,
   "id": "64ffdc35",
   "metadata": {},
   "outputs": [],
   "source": [
    "r = range(3, 6)\n",
    "s = [3, 4, 5]"
   ]
  },
  {
   "cell_type": "code",
   "execution_count": 45,
   "id": "ebbb6d74",
   "metadata": {},
   "outputs": [
    {
     "data": {
      "text/plain": [
       "True"
      ]
     },
     "execution_count": 45,
     "metadata": {},
     "output_type": "execute_result"
    }
   ],
   "source": [
    "4 in r"
   ]
  },
  {
   "cell_type": "code",
   "execution_count": 46,
   "id": "401a0526",
   "metadata": {},
   "outputs": [
    {
     "data": {
      "text/plain": [
       "True"
      ]
     },
     "execution_count": 46,
     "metadata": {},
     "output_type": "execute_result"
    }
   ],
   "source": [
    "4 in s"
   ]
  },
  {
   "cell_type": "code",
   "execution_count": 47,
   "id": "2c74b886",
   "metadata": {},
   "outputs": [
    {
     "data": {
      "text/plain": [
       "4"
      ]
     },
     "execution_count": 47,
     "metadata": {},
     "output_type": "execute_result"
    }
   ],
   "source": [
    "r[1]"
   ]
  },
  {
   "cell_type": "code",
   "execution_count": 48,
   "id": "611e1b1b",
   "metadata": {},
   "outputs": [
    {
     "data": {
      "text/plain": [
       "4"
      ]
     },
     "execution_count": 48,
     "metadata": {},
     "output_type": "execute_result"
    }
   ],
   "source": [
    "s[1]"
   ]
  },
  {
   "cell_type": "code",
   "execution_count": 49,
   "id": "d8ee56f1",
   "metadata": {},
   "outputs": [
    {
     "data": {
      "text/plain": [
       "'e'"
      ]
     },
     "execution_count": 49,
     "metadata": {},
     "output_type": "execute_result"
    }
   ],
   "source": [
    "'hello'[1][0]"
   ]
  },
  {
   "cell_type": "code",
   "execution_count": 50,
   "id": "75dd9c20",
   "metadata": {},
   "outputs": [
    {
     "data": {
      "text/plain": [
       "'e'"
      ]
     },
     "execution_count": 50,
     "metadata": {},
     "output_type": "execute_result"
    }
   ],
   "source": [
    "'hello'[1][0][0]"
   ]
  },
  {
   "cell_type": "code",
   "execution_count": 51,
   "id": "69a6755b",
   "metadata": {},
   "outputs": [
    {
     "name": "stdout",
     "output_type": "stream",
     "text": [
      "h\n",
      "e\n",
      "l\n",
      "l\n",
      "o\n"
     ]
    },
    {
     "data": {
      "text/plain": [
       "[None, None, None, None, None]"
      ]
     },
     "execution_count": 51,
     "metadata": {},
     "output_type": "execute_result"
    }
   ],
   "source": [
    "[print(x) for x in 'hello']"
   ]
  },
  {
   "cell_type": "code",
   "execution_count": null,
   "id": "4dc0aa56",
   "metadata": {},
   "outputs": [],
   "source": [
    "def fact(n):\n",
    "    return fact_helper(n, 1, 1)\n",
    "\n",
    "def fact_helper(n, k, result):\n",
    "    \"\"\"computes k * (k + 1) * (k + 2) * ... * n \n",
    "    by accumulating the result.\n",
    "    \"\"\"\n",
    "\n",
    "    if n == k:\n",
    "        return k * result\n",
    "    else:\n",
    "        fact_helper(n, k + 1, k * result)\n",
    "\n",
    "\n",
    "\n",
    "def fact(n):\n",
    "    k = 1\n",
    "    result = 1\n",
    "    while not (k > n):\n",
    "        k, result = k + 1, k * result\n"
   ]
  },
  {
   "cell_type": "code",
   "execution_count": 54,
   "id": "8635d504",
   "metadata": {},
   "outputs": [],
   "source": [
    "def fact(n):\n",
    "\n",
    "    def fact_helper(k, result):\n",
    "        \"\"\"computes k * (k + 1) * (k + 2) * ... * n \n",
    "        by accumulating the result.\n",
    "        \"\"\"\n",
    "\n",
    "        if k > n:\n",
    "            return result\n",
    "        else:\n",
    "            return fact_helper(k + 1, k * result)\n",
    "\n",
    "    return fact_helper(1, 1)"
   ]
  },
  {
   "cell_type": "code",
   "execution_count": 57,
   "id": "f6978ee4",
   "metadata": {},
   "outputs": [
    {
     "data": {
      "text/plain": [
       "6"
      ]
     },
     "execution_count": 57,
     "metadata": {},
     "output_type": "execute_result"
    }
   ],
   "source": [
    "fact(3)"
   ]
  },
  {
   "cell_type": "code",
   "execution_count": 74,
   "id": "405bda56",
   "metadata": {},
   "outputs": [],
   "source": [
    "def mul_rational(x, y):\n",
    "    return rational(numer(x) * numer(y),\n",
    "                    denom(x) * denom(y))\n",
    "\n",
    "def add_rational(x, y):\n",
    "    nx, dx = numer(x), denom(x)\n",
    "    ny, dy = numer(y), denom(y)\n",
    "    return rational(nx * dy + ny * dx, dx * dy)\n",
    "\n",
    "def equal_rational(x, y):\n",
    "    return numer(x) * denom(y) == numer(y) * denom(x)\n",
    "\n",
    "def print_rational(x):\n",
    "    print(numer(x), '/', denom(x))\n"
   ]
  },
  {
   "cell_type": "code",
   "execution_count": 59,
   "id": "6c029d7e",
   "metadata": {},
   "outputs": [],
   "source": [
    "pair = [1, 2]"
   ]
  },
  {
   "cell_type": "code",
   "execution_count": 60,
   "id": "00593f0d",
   "metadata": {},
   "outputs": [
    {
     "data": {
      "text/plain": [
       "[1, 2]"
      ]
     },
     "execution_count": 60,
     "metadata": {},
     "output_type": "execute_result"
    }
   ],
   "source": [
    "pair "
   ]
  },
  {
   "cell_type": "code",
   "execution_count": 61,
   "id": "6956e18e",
   "metadata": {},
   "outputs": [
    {
     "data": {
      "text/plain": [
       "2"
      ]
     },
     "execution_count": 61,
     "metadata": {},
     "output_type": "execute_result"
    }
   ],
   "source": [
    "x, y = pair # unpacking a list\n",
    "x\n",
    "y"
   ]
  },
  {
   "cell_type": "code",
   "execution_count": 62,
   "id": "d3246ae0",
   "metadata": {},
   "outputs": [
    {
     "data": {
      "text/plain": [
       "1"
      ]
     },
     "execution_count": 62,
     "metadata": {},
     "output_type": "execute_result"
    }
   ],
   "source": [
    "x"
   ]
  },
  {
   "cell_type": "code",
   "execution_count": 63,
   "id": "859d38ec",
   "metadata": {},
   "outputs": [
    {
     "data": {
      "text/plain": [
       "2"
      ]
     },
     "execution_count": 63,
     "metadata": {},
     "output_type": "execute_result"
    }
   ],
   "source": [
    "y"
   ]
  },
  {
   "cell_type": "code",
   "execution_count": 64,
   "id": "e2d4f1cf",
   "metadata": {},
   "outputs": [
    {
     "data": {
      "text/plain": [
       "1"
      ]
     },
     "execution_count": 64,
     "metadata": {},
     "output_type": "execute_result"
    }
   ],
   "source": [
    "pair[0] # element selection"
   ]
  },
  {
   "cell_type": "code",
   "execution_count": 65,
   "id": "1684fdfa",
   "metadata": {},
   "outputs": [
    {
     "data": {
      "text/plain": [
       "2"
      ]
     },
     "execution_count": 65,
     "metadata": {},
     "output_type": "execute_result"
    }
   ],
   "source": [
    "pair[1]"
   ]
  },
  {
   "cell_type": "code",
   "execution_count": 66,
   "id": "cbd1c988",
   "metadata": {},
   "outputs": [],
   "source": [
    "from operator import getitem"
   ]
  },
  {
   "cell_type": "code",
   "execution_count": 70,
   "id": "b3325e39",
   "metadata": {},
   "outputs": [
    {
     "data": {
      "text/plain": [
       "1"
      ]
     },
     "execution_count": 70,
     "metadata": {},
     "output_type": "execute_result"
    }
   ],
   "source": [
    "getitem(pair, 0) # element selection function"
   ]
  },
  {
   "cell_type": "code",
   "execution_count": 76,
   "id": "748f1165",
   "metadata": {},
   "outputs": [],
   "source": [
    "def rational(n, d):\n",
    "    \"\"\"construct a rational number that represents N/D.\"\"\"\n",
    "\n",
    "    # contructor is a higher-order function\n",
    "    def select(name):\n",
    "        if name == 'n':\n",
    "            return n\n",
    "        elif name == 'd':\n",
    "            return d\n",
    "    return select\n",
    "\n",
    "def numer(x):\n",
    "    return x('n')\n",
    "\n",
    "def denum(x):\n",
    "    return x('d')"
   ]
  },
  {
   "cell_type": "code",
   "execution_count": 73,
   "id": "993160bb",
   "metadata": {},
   "outputs": [],
   "source": [
    "from math import gcd"
   ]
  },
  {
   "cell_type": "code",
   "execution_count": 75,
   "id": "992539d7",
   "metadata": {},
   "outputs": [],
   "source": [
    "def rational(n, d):\n",
    "    \"\"\"construct a rational number that represents N/D.\"\"\"\n",
    "\n",
    "    g = gcd(n, d) # return greatest common divisor\n",
    "    return [n//g, d//g]\n",
    "\n"
   ]
  },
  {
   "cell_type": "code",
   "execution_count": 79,
   "id": "801b375f",
   "metadata": {},
   "outputs": [
    {
     "data": {
      "text/plain": [
       "3"
      ]
     },
     "execution_count": 79,
     "metadata": {},
     "output_type": "execute_result"
    }
   ],
   "source": [
    "x = rational(3, 8)\n",
    "numer(x)\n",
    "# x"
   ]
  },
  {
   "cell_type": "code",
   "execution_count": 80,
   "id": "a9de4472",
   "metadata": {},
   "outputs": [
    {
     "data": {
      "text/plain": [
       "{'I': 1, 'V': 5, 'X': 10}"
      ]
     },
     "execution_count": 80,
     "metadata": {},
     "output_type": "execute_result"
    }
   ],
   "source": [
    "{'I': 1, 'V': 5, 'X': 10}"
   ]
  },
  {
   "cell_type": "code",
   "execution_count": 81,
   "id": "dc4c806d",
   "metadata": {},
   "outputs": [
    {
     "data": {
      "text/plain": [
       "10"
      ]
     },
     "execution_count": 81,
     "metadata": {},
     "output_type": "execute_result"
    }
   ],
   "source": [
    "numerals = {'I': 1, 'V': 5, 'X': 10}\n",
    "numerals['X']"
   ]
  },
  {
   "cell_type": "code",
   "execution_count": 82,
   "id": "2d86af5d",
   "metadata": {},
   "outputs": [
    {
     "data": {
      "text/plain": [
       "dict_keys(['I', 'V', 'X'])"
      ]
     },
     "execution_count": 82,
     "metadata": {},
     "output_type": "execute_result"
    }
   ],
   "source": [
    "numerals.keys()"
   ]
  },
  {
   "cell_type": "code",
   "execution_count": 83,
   "id": "f2127514",
   "metadata": {},
   "outputs": [
    {
     "data": {
      "text/plain": [
       "dict_values([1, 5, 10])"
      ]
     },
     "execution_count": 83,
     "metadata": {},
     "output_type": "execute_result"
    }
   ],
   "source": [
    "numerals.values()"
   ]
  },
  {
   "cell_type": "code",
   "execution_count": 84,
   "id": "1b1a5844",
   "metadata": {},
   "outputs": [
    {
     "data": {
      "text/plain": [
       "dict_items([('I', 1), ('V', 5), ('X', 10)])"
      ]
     },
     "execution_count": 84,
     "metadata": {},
     "output_type": "execute_result"
    }
   ],
   "source": [
    "numerals.items()"
   ]
  },
  {
   "cell_type": "code",
   "execution_count": 85,
   "id": "e48601d7",
   "metadata": {},
   "outputs": [],
   "source": [
    "items = [('I', 1), ('V', 5), ('X', 10)]"
   ]
  },
  {
   "cell_type": "code",
   "execution_count": 86,
   "id": "1c9c6f45",
   "metadata": {},
   "outputs": [
    {
     "data": {
      "text/plain": [
       "{'I': 1, 'V': 5, 'X': 10}"
      ]
     },
     "execution_count": 86,
     "metadata": {},
     "output_type": "execute_result"
    }
   ],
   "source": [
    "dict(items)"
   ]
  },
  {
   "cell_type": "code",
   "execution_count": 87,
   "id": "e5b1b7cd",
   "metadata": {},
   "outputs": [
    {
     "data": {
      "text/plain": [
       "10"
      ]
     },
     "execution_count": 87,
     "metadata": {},
     "output_type": "execute_result"
    }
   ],
   "source": [
    "dict(items)['X']"
   ]
  },
  {
   "cell_type": "code",
   "execution_count": 88,
   "id": "2d096e0e",
   "metadata": {},
   "outputs": [
    {
     "data": {
      "text/plain": [
       "True"
      ]
     },
     "execution_count": 88,
     "metadata": {},
     "output_type": "execute_result"
    }
   ],
   "source": [
    "'X' in numerals"
   ]
  },
  {
   "cell_type": "code",
   "execution_count": 89,
   "id": "370c752d",
   "metadata": {},
   "outputs": [
    {
     "data": {
      "text/plain": [
       "False"
      ]
     },
     "execution_count": 89,
     "metadata": {},
     "output_type": "execute_result"
    }
   ],
   "source": [
    "'X-ray' in numerals"
   ]
  },
  {
   "cell_type": "code",
   "execution_count": 90,
   "id": "544f6d88",
   "metadata": {},
   "outputs": [
    {
     "data": {
      "text/plain": [
       "10"
      ]
     },
     "execution_count": 90,
     "metadata": {},
     "output_type": "execute_result"
    }
   ],
   "source": [
    "numerals.get('X', 0)"
   ]
  },
  {
   "cell_type": "code",
   "execution_count": 91,
   "id": "4b45b3d4",
   "metadata": {},
   "outputs": [
    {
     "data": {
      "text/plain": [
       "0"
      ]
     },
     "execution_count": 91,
     "metadata": {},
     "output_type": "execute_result"
    }
   ],
   "source": [
    "numerals.get('X-ray', 0)"
   ]
  },
  {
   "cell_type": "code",
   "execution_count": 92,
   "id": "ed084beb",
   "metadata": {},
   "outputs": [
    {
     "data": {
      "text/plain": [
       "{0: 0, 1: 1, 2: 4, 3: 9, 4: 16, 5: 25, 6: 36, 7: 49, 8: 64, 9: 81}"
      ]
     },
     "execution_count": 92,
     "metadata": {},
     "output_type": "execute_result"
    }
   ],
   "source": [
    "{x:x*x for x in range(10)}"
   ]
  },
  {
   "cell_type": "code",
   "execution_count": 93,
   "id": "0d56442b",
   "metadata": {},
   "outputs": [],
   "source": [
    "squares = {x:x*x for x in range(10)}"
   ]
  },
  {
   "cell_type": "code",
   "execution_count": 94,
   "id": "82455e76",
   "metadata": {},
   "outputs": [
    {
     "data": {
      "text/plain": [
       "49"
      ]
     },
     "execution_count": 94,
     "metadata": {},
     "output_type": "execute_result"
    }
   ],
   "source": [
    "squares[7]"
   ]
  },
  {
   "cell_type": "code",
   "execution_count": 95,
   "id": "4f4fa994",
   "metadata": {},
   "outputs": [
    {
     "data": {
      "text/plain": [
       "{1: 3}"
      ]
     },
     "execution_count": 95,
     "metadata": {},
     "output_type": "execute_result"
    }
   ],
   "source": [
    "{1:2, 1:3}"
   ]
  },
  {
   "cell_type": "code",
   "execution_count": 96,
   "id": "34ec66db",
   "metadata": {},
   "outputs": [
    {
     "data": {
      "text/plain": [
       "{1: [2, 3]}"
      ]
     },
     "execution_count": 96,
     "metadata": {},
     "output_type": "execute_result"
    }
   ],
   "source": [
    "{1: [2,3]}"
   ]
  },
  {
   "cell_type": "code",
   "execution_count": 97,
   "id": "11a2e433",
   "metadata": {},
   "outputs": [
    {
     "ename": "TypeError",
     "evalue": "unhashable type: 'list'",
     "output_type": "error",
     "traceback": [
      "\u001b[1;31m---------------------------------------------------------------------------\u001b[0m",
      "\u001b[1;31mTypeError\u001b[0m                                 Traceback (most recent call last)",
      "Cell \u001b[1;32mIn[97], line 1\u001b[0m\n\u001b[1;32m----> 1\u001b[0m {[\u001b[39m1\u001b[39m]: \u001b[39m2\u001b[39m}\n",
      "\u001b[1;31mTypeError\u001b[0m: unhashable type: 'list'"
     ]
    }
   ],
   "source": [
    "{[1]: 2}"
   ]
  },
  {
   "cell_type": "code",
   "execution_count": 102,
   "id": "09427d7c",
   "metadata": {},
   "outputs": [],
   "source": [
    "def choose(paragraphs, select, k):\n",
    "    assert len(paragraphs) > 0, 'there must be more than 1 paragraph'\n",
    "    assert k <= len(paragraphs), 'k must be less than total paragraphs'\n",
    "\n",
    "    valid_paragraphs = []\n",
    "    for p in paragraphs:\n",
    "        if select(p):\n",
    "            valid_paragraphs.append(p)\n",
    "    return valid_paragraphs[k]\n",
    "\n",
    "def has_a(paragraph):\n",
    "    for p in paragraph:\n",
    "        if p == 'a':\n",
    "            return 1\n",
    "    return 0"
   ]
  },
  {
   "cell_type": "code",
   "execution_count": 104,
   "id": "61fd9667",
   "metadata": {},
   "outputs": [
    {
     "data": {
      "text/plain": [
       "'abcde'"
      ]
     },
     "execution_count": 104,
     "metadata": {},
     "output_type": "execute_result"
    }
   ],
   "source": [
    "choose(['ab','bc','abcde'], has_a, 1)"
   ]
  },
  {
   "cell_type": "code",
   "execution_count": 128,
   "id": "ebab88ab",
   "metadata": {},
   "outputs": [],
   "source": [
    "def about(topic):\n",
    "    assert all([str.lower(x) == x for x in topic]), 'topics should be lowercase'\n",
    "\n",
    "    def f(paragraph):\n",
    "        for t in topic:\n",
    "            if t in lower(remove_punctuations(paragraph)):\n",
    "                return 1\n",
    "        return 0\n",
    "    return f"
   ]
  },
  {
   "cell_type": "code",
   "execution_count": 126,
   "id": "3d36d290",
   "metadata": {},
   "outputs": [],
   "source": [
    "about_dogs = about(['dog', 'dogs', 'pup', 'puppy'])"
   ]
  },
  {
   "cell_type": "code",
   "execution_count": 127,
   "id": "2319036c",
   "metadata": {},
   "outputs": [
    {
     "data": {
      "text/plain": [
       "'Nice pup!'"
      ]
     },
     "execution_count": 127,
     "metadata": {},
     "output_type": "execute_result"
    }
   ],
   "source": [
    "choose(['Cute Dog!', 'That is a cat.', 'Nice pup!'], about_dogs, 1)"
   ]
  },
  {
   "cell_type": "code",
   "execution_count": 122,
   "id": "84f16d41",
   "metadata": {},
   "outputs": [],
   "source": [
    "def remove_punctuations(s):\n",
    "    return s.strip().translate(punctuation_remover)"
   ]
  },
  {
   "cell_type": "code",
   "execution_count": 123,
   "id": "5e225e43",
   "metadata": {},
   "outputs": [],
   "source": [
    "def lower(s):\n",
    "    return s.lower()"
   ]
  },
  {
   "cell_type": "code",
   "execution_count": 124,
   "id": "79962d6d",
   "metadata": {},
   "outputs": [],
   "source": [
    "def split(s):\n",
    "    return s.split()"
   ]
  },
  {
   "cell_type": "code",
   "execution_count": 167,
   "id": "286b52c7",
   "metadata": {},
   "outputs": [],
   "source": [
    "def accuracy(typed, reference):\n",
    "    typed_words = split(typed)\n",
    "    reference_words = split(reference)\n",
    "    acc_numer = 0\n",
    "    acc_denom = 0\n",
    "\n",
    "    if typed == '':\n",
    "        return 0.0\n",
    "\n",
    "    for i in range(len(typed_words)):\n",
    "        acc_denom += 1\n",
    "        if i + 1 > len(reference_words):\n",
    "            pass\n",
    "        elif typed_words[i] == reference_words[i]:\n",
    "            acc_numer += 1\n",
    "    return acc_numer/acc_denom * 100.0\n"
   ]
  },
  {
   "cell_type": "code",
   "execution_count": 168,
   "id": "42335935",
   "metadata": {},
   "outputs": [
    {
     "data": {
      "text/plain": [
       "50.0"
      ]
     },
     "execution_count": 168,
     "metadata": {},
     "output_type": "execute_result"
    }
   ],
   "source": [
    "accuracy('cute Dog.', 'Cute Dog.')"
   ]
  },
  {
   "cell_type": "code",
   "execution_count": 176,
   "id": "d2d3b7d8",
   "metadata": {},
   "outputs": [],
   "source": [
    "def wpm(typed, elapsed):\n",
    "    assert type(typed) == str and len(typed) > 0, 'typed must be string with more than 1 character'\n",
    "    assert type(elapsed) == int and elapsed > 0, 'elapsed time(seconds) must be integer more than 1'\n",
    "\n",
    "    return (len(typed)/5) / (elapsed/60)"
   ]
  },
  {
   "cell_type": "code",
   "execution_count": 177,
   "id": "8ffb8424",
   "metadata": {},
   "outputs": [
    {
     "data": {
      "text/plain": [
       "18.0"
      ]
     },
     "execution_count": 177,
     "metadata": {},
     "output_type": "execute_result"
    }
   ],
   "source": [
    "wpm('smidamsidmsaidmias', 12)"
   ]
  },
  {
   "cell_type": "code",
   "execution_count": 178,
   "id": "eda285ed",
   "metadata": {},
   "outputs": [],
   "source": [
    "def length_diff(w1, w2, limit):\n",
    "    return min(limit + 1, abs(len(w2) - len(w1)))"
   ]
  },
  {
   "cell_type": "code",
   "execution_count": 246,
   "id": "8d5fbb3a",
   "metadata": {},
   "outputs": [],
   "source": [
    "def autocorrect(user_words, valid_words, diff_function, limit):\n",
    "    diff_dict = {vw: diff_function(user_words, vw, limit) for vw in valid_words}\n",
    "    min_diff = min(diff_dict.items(), key = lambda item: item[1])\n",
    "\n",
    "    if user_words in valid_words:\n",
    "        return user_words\n",
    "    elif min_diff[1] > limit:\n",
    "        return user_words\n",
    "    else:\n",
    "        return min_diff[0]"
   ]
  },
  {
   "cell_type": "code",
   "execution_count": 247,
   "id": "5795197c",
   "metadata": {},
   "outputs": [
    {
     "data": {
      "text/plain": [
       "'happ'"
      ]
     },
     "execution_count": 247,
     "metadata": {},
     "output_type": "execute_result"
    }
   ],
   "source": [
    "autocorrect('ha', ['happ', 'apdaspy', 'dasdas', 'mismiadsmaidsma'], length_diff, 6)"
   ]
  },
  {
   "cell_type": "code",
   "execution_count": 281,
   "id": "4c2eb2d2",
   "metadata": {},
   "outputs": [],
   "source": [
    "def shifty_shifts(start, goal, big_limit):\n",
    "    # base case\n",
    "    if len(start) == 0 or len(goal) == 0:\n",
    "        return 0\n",
    "    # recursive case\n",
    "    elif shifty_shifts(start[1:], goal[1:], big_limit) >= big_limit:\n",
    "        return True\n",
    "    elif len(start) < len(goal):\n",
    "        len_diff = len(goal) - len(start)\n",
    "        return shifty_shifts(start, goal[:-len_diff], big_limit) + len_diff\n",
    "    elif start[0] != goal[0]:\n",
    "        return shifty_shifts(start[1:], goal[1:], big_limit) + 1\n",
    "    elif start[0] == goal[0]:\n",
    "        return shifty_shifts(start[1:], goal[1:], big_limit)\n"
   ]
  },
  {
   "cell_type": "code",
   "execution_count": 282,
   "id": "0eb602c5",
   "metadata": {},
   "outputs": [
    {
     "data": {
      "text/plain": [
       "5"
      ]
     },
     "execution_count": 282,
     "metadata": {},
     "output_type": "execute_result"
    }
   ],
   "source": [
    "shifty_shifts('rose', 'hello', 5)"
   ]
  },
  {
   "cell_type": "code",
   "execution_count": 94,
   "id": "b979c9fd",
   "metadata": {},
   "outputs": [],
   "source": [
    "def pawsible_patches(start, goal, big_limit):\n",
    "    \n",
    "    # base case\n",
    "    if len(start) == 0 or len(goal) == 0:\n",
    "        return 0\n",
    "    # recursive case\n",
    "    elif pawsible_patches(start[1:], goal[1:], big_limit) >= big_limit:\n",
    "        return True\n",
    "    elif goal[0] == start[0]:\n",
    "        return pawsible_patches(start[1:], goal[1:], big_limit)\n",
    "    else:\n",
    "        start, goal, add_diff = add(start, goal)\n",
    "        start, goal, remove_diff = remove(start, goal)\n",
    "        start, goal, substitute_diff = substitute(start, goal)\n",
    "        return pawsible_patches(start, goal, big_limit) + add_diff + remove_diff + substitute_diff\n"
   ]
  },
  {
   "cell_type": "code",
   "execution_count": 95,
   "id": "5eb65f35",
   "metadata": {},
   "outputs": [],
   "source": [
    "def add(start, goal):\n",
    "    if start[0] == goal[1]:\n",
    "        goal = goal[1:]\n",
    "        return start, goal, 1\n",
    "    return start, goal, 0\n",
    "    \n",
    "def remove(start, goal):\n",
    "    if start[1] == goal[0]:\n",
    "        start = start[1:]\n",
    "        return start, goal, 1\n",
    "    return start, goal, 0\n",
    "    \n",
    "def substitute(start, goal):\n",
    "    if start[1] == goal[1]:\n",
    "        start = start[1:]\n",
    "        goal = goal[1:]\n",
    "        return start, goal, 1\n",
    "    return start, goal, 0"
   ]
  },
  {
   "cell_type": "code",
   "execution_count": 98,
   "id": "1596f4a9",
   "metadata": {},
   "outputs": [
    {
     "data": {
      "text/plain": [
       "1"
      ]
     },
     "execution_count": 98,
     "metadata": {},
     "output_type": "execute_result"
    }
   ],
   "source": [
    "pawsible_patches('hello', 'mello', 4)"
   ]
  },
  {
   "cell_type": "code",
   "execution_count": 108,
   "id": "ae677de6",
   "metadata": {},
   "outputs": [],
   "source": [
    "def report_progress(typed, prompt, user_id, send):\n",
    "    assert len(typed) < len(prompt), 'typed should never be more words than prompt'\n",
    "\n",
    "    total = 0\n",
    "    for t in typed:\n",
    "        if t in prompt:\n",
    "            total += 1\n",
    "        else:\n",
    "            break\n",
    "    progress = total / len(prompt)\n",
    "    report = {\n",
    "        'id': user_id,\n",
    "        'progress': progress\n",
    "    }\n",
    "    send(report)\n",
    "    return progress"
   ]
  },
  {
   "cell_type": "code",
   "execution_count": 109,
   "id": "65ed2625",
   "metadata": {},
   "outputs": [
    {
     "name": "stdout",
     "output_type": "stream",
     "text": [
      "{'id': 'student1', 'progress': 0.25}\n"
     ]
    },
    {
     "data": {
      "text/plain": [
       "0.25"
      ]
     },
     "execution_count": 109,
     "metadata": {},
     "output_type": "execute_result"
    }
   ],
   "source": [
    "report_progress(['hello','ths','is'], ['hello','this','is','wrong'], 'student1', print)"
   ]
  },
  {
   "cell_type": "code",
   "execution_count": null,
   "id": "828ef947",
   "metadata": {},
   "outputs": [],
   "source": [
    "def time_per_word(times_per_player, words):\n",
    "    times = [[inner[i] - inner[i-1] for i in range(1, len(inner))] for inner in times_per_player]\n",
    "    return game(words, times)\n"
   ]
  },
  {
   "cell_type": "code",
   "execution_count": null,
   "id": "42fde967",
   "metadata": {},
   "outputs": [],
   "source": [
    "def fastest_words(game):\n",
    "    \"\"\"Return a list of lists of which words each player typed fastest.\n",
    "\n",
    "    Arguments:\n",
    "        game: a game data abstraction as returned by time_per_word.\n",
    "    Returns:\n",
    "        a list of lists containing which words each player typed fastest\n",
    "    \"\"\"\n",
    "    player_indices = range(len(all_times(game)))  # contains an *index* for each player\n",
    "    word_indices = range(len(all_words(game)))    # contains an *index* for each word\n",
    "    # BEGIN PROBLEM 10\n",
    "    \"*** YOUR CODE HERE ***\"\n",
    "    fastest_words = []\n",
    "    for p in player_indices:\n",
    "        fastest_words_player = []\n",
    "        for w in word_indices:\n",
    "            if all_times(game)[p][w] == min(all_times(game)[p]):\n",
    "                fastest_words_player.append(word_at(game, all_times(game)[p][w]))\n",
    "        fastest_words.append(fastest_words_player)\n",
    "    return fastest_words\n",
    "\n",
    "    # END PROBLEM 10"
   ]
  },
  {
   "cell_type": "code",
   "execution_count": 115,
   "id": "c1a3d68d",
   "metadata": {},
   "outputs": [
    {
     "data": {
      "text/plain": [
       "[3, 5]"
      ]
     },
     "execution_count": 115,
     "metadata": {},
     "output_type": "execute_result"
    }
   ],
   "source": [
    "odds = [1, 3, 5, 7]\n",
    "[odds[i] for i in range(1,3)]"
   ]
  },
  {
   "cell_type": "code",
   "execution_count": 116,
   "id": "5020f388",
   "metadata": {},
   "outputs": [
    {
     "data": {
      "text/plain": [
       "[3, 5]"
      ]
     },
     "execution_count": 116,
     "metadata": {},
     "output_type": "execute_result"
    }
   ],
   "source": [
    "odds[1:3]"
   ]
  },
  {
   "cell_type": "code",
   "execution_count": 117,
   "id": "a8a39791",
   "metadata": {},
   "outputs": [
    {
     "data": {
      "text/plain": [
       "[1, 3, 5]"
      ]
     },
     "execution_count": 117,
     "metadata": {},
     "output_type": "execute_result"
    }
   ],
   "source": [
    "odds[:3]"
   ]
  },
  {
   "cell_type": "code",
   "execution_count": 118,
   "id": "a1257210",
   "metadata": {},
   "outputs": [
    {
     "data": {
      "text/plain": [
       "[3, 5, 7]"
      ]
     },
     "execution_count": 118,
     "metadata": {},
     "output_type": "execute_result"
    }
   ],
   "source": [
    "odds[1:]"
   ]
  },
  {
   "cell_type": "code",
   "execution_count": 121,
   "id": "2f7bc313",
   "metadata": {},
   "outputs": [
    {
     "data": {
      "text/plain": [
       "4"
      ]
     },
     "execution_count": 121,
     "metadata": {},
     "output_type": "execute_result"
    }
   ],
   "source": [
    "max([1,2,3,4], key = lambda x: x*2)"
   ]
  },
  {
   "cell_type": "code",
   "execution_count": 122,
   "id": "d02be8c3",
   "metadata": {},
   "outputs": [
    {
     "data": {
      "text/plain": [
       "[True, True, True, True, True]"
      ]
     },
     "execution_count": 122,
     "metadata": {},
     "output_type": "execute_result"
    }
   ],
   "source": [
    "[x < 5 for x in range(5)]"
   ]
  },
  {
   "cell_type": "code",
   "execution_count": 124,
   "id": "915acc02",
   "metadata": {},
   "outputs": [
    {
     "data": {
      "text/plain": [
       "[1, 2, 3, 4]"
      ]
     },
     "execution_count": 124,
     "metadata": {},
     "output_type": "execute_result"
    }
   ],
   "source": [
    "sum([[1], [2,3] , [4]], [])"
   ]
  },
  {
   "cell_type": "code",
   "execution_count": 125,
   "id": "9063b341",
   "metadata": {},
   "outputs": [
    {
     "data": {
      "text/plain": [
       "[1, 2, 3]"
      ]
     },
     "execution_count": 125,
     "metadata": {},
     "output_type": "execute_result"
    }
   ],
   "source": [
    "[1] + [2, 3]"
   ]
  },
  {
   "cell_type": "code",
   "execution_count": null,
   "id": "82573d1d",
   "metadata": {},
   "outputs": [],
   "source": [
    "def add_chars(w1, w2):\n",
    "    if len(w1) == 0:\n",
    "        return w2\n",
    "    if w1[0] == w2[0]:\n",
    "        return add_chars(w1[1:], w2[1:])\n",
    "    else:\n",
    "        return w2[0] + add_chars(w1, w2[1:])"
   ]
  },
  {
   "cell_type": "code",
   "execution_count": 127,
   "id": "6f6eb947",
   "metadata": {},
   "outputs": [
    {
     "name": "stdout",
     "output_type": "stream",
     "text": [
      "120\n"
     ]
    }
   ],
   "source": [
    "print((lambda n: (lambda f: f(n, f))(lambda n, fact: 1 if n == 1 else n * fact(n - 1, fact)))(5))"
   ]
  },
  {
   "cell_type": "code",
   "execution_count": 1,
   "id": "fb078b04",
   "metadata": {},
   "outputs": [],
   "source": [
    "def fact_times(n, k):\n",
    "    # computes k * n * (n-1) * ...\n",
    "    \n",
    "    if n == 0:\n",
    "        return k\n",
    "    else:\n",
    "        return fact_times(n - 1, k * n)"
   ]
  },
  {
   "cell_type": "code",
   "execution_count": 2,
   "id": "61fe360d",
   "metadata": {},
   "outputs": [
    {
     "data": {
      "text/plain": [
       "30"
      ]
     },
     "execution_count": 2,
     "metadata": {},
     "output_type": "execute_result"
    }
   ],
   "source": [
    "fact_times(3, 5)"
   ]
  },
  {
   "cell_type": "code",
   "execution_count": 11,
   "id": "5d678e38",
   "metadata": {},
   "outputs": [
    {
     "data": {
      "text/plain": [
       "5"
      ]
     },
     "execution_count": 11,
     "metadata": {},
     "output_type": "execute_result"
    }
   ],
   "source": [
    "min([3, 2, 5, 6], key = lambda x: abs(x * x - 24))"
   ]
  },
  {
   "cell_type": "code",
   "execution_count": 13,
   "id": "22e3453a",
   "metadata": {},
   "outputs": [
    {
     "data": {
      "text/plain": [
       "[15, 20, 1, 12]"
      ]
     },
     "execution_count": 13,
     "metadata": {},
     "output_type": "execute_result"
    }
   ],
   "source": [
    "f = lambda x: abs(x * x - 24)\n",
    "[f(x) for x in [3, 2, 5, 6]]"
   ]
  },
  {
   "cell_type": "code",
   "execution_count": 15,
   "id": "9b70e4d0",
   "metadata": {},
   "outputs": [
    {
     "data": {
      "text/plain": [
       "[[15, 3], [20, 2], [1, 5], [12, 6]]"
      ]
     },
     "execution_count": 15,
     "metadata": {},
     "output_type": "execute_result"
    }
   ],
   "source": [
    "[[f(x), x] for x in [3, 2, 5, 6]]"
   ]
  },
  {
   "cell_type": "code",
   "execution_count": 17,
   "id": "cbef8c68",
   "metadata": {},
   "outputs": [
    {
     "data": {
      "text/plain": [
       "2"
      ]
     },
     "execution_count": 17,
     "metadata": {},
     "output_type": "execute_result"
    }
   ],
   "source": [
    "min([-3, 2, -5, 6], key = abs)"
   ]
  },
  {
   "cell_type": "code",
   "execution_count": 18,
   "id": "cd9433e7",
   "metadata": {},
   "outputs": [
    {
     "data": {
      "text/plain": [
       "5"
      ]
     },
     "execution_count": 18,
     "metadata": {},
     "output_type": "execute_result"
    }
   ],
   "source": [
    "def f(x, y):\n",
    "    return abs(x * x - y)\n",
    "\n",
    "min([3, 2, 5, 6], key = lambda x: f(x, 24))"
   ]
  },
  {
   "cell_type": "code",
   "execution_count": 19,
   "id": "7fe4eabb",
   "metadata": {},
   "outputs": [
    {
     "data": {
      "text/plain": [
       "True"
      ]
     },
     "execution_count": 19,
     "metadata": {},
     "output_type": "execute_result"
    }
   ],
   "source": [
    "[15, 3] < [20, 2]\n",
    "# only compares the first element in the list"
   ]
  },
  {
   "cell_type": "code",
   "execution_count": 20,
   "id": "5d22d75f",
   "metadata": {},
   "outputs": [
    {
     "data": {
      "text/plain": [
       "datetime.date"
      ]
     },
     "execution_count": 20,
     "metadata": {},
     "output_type": "execute_result"
    }
   ],
   "source": [
    "from datetime import date\n",
    "date"
   ]
  },
  {
   "cell_type": "code",
   "execution_count": 21,
   "id": "9862fc9d",
   "metadata": {},
   "outputs": [],
   "source": [
    "today = date(2015, 2, 20)"
   ]
  },
  {
   "cell_type": "code",
   "execution_count": 22,
   "id": "4e5f8027",
   "metadata": {},
   "outputs": [
    {
     "data": {
      "text/plain": [
       "datetime.date(2015, 2, 20)"
      ]
     },
     "execution_count": 22,
     "metadata": {},
     "output_type": "execute_result"
    }
   ],
   "source": [
    "today"
   ]
  },
  {
   "cell_type": "code",
   "execution_count": 23,
   "id": "93a14b6b",
   "metadata": {},
   "outputs": [],
   "source": [
    "freedom = date(2015, 5, 12)"
   ]
  },
  {
   "cell_type": "code",
   "execution_count": 24,
   "id": "b1b90460",
   "metadata": {},
   "outputs": [
    {
     "data": {
      "text/plain": [
       "'81 days, 0:00:00'"
      ]
     },
     "execution_count": 24,
     "metadata": {},
     "output_type": "execute_result"
    }
   ],
   "source": [
    "str(freedom - today)"
   ]
  },
  {
   "cell_type": "code",
   "execution_count": 25,
   "id": "7d4f9040",
   "metadata": {},
   "outputs": [
    {
     "data": {
      "text/plain": [
       "2015"
      ]
     },
     "execution_count": 25,
     "metadata": {},
     "output_type": "execute_result"
    }
   ],
   "source": [
    "today.year"
   ]
  },
  {
   "cell_type": "code",
   "execution_count": 26,
   "id": "0b5c493b",
   "metadata": {},
   "outputs": [
    {
     "data": {
      "text/plain": [
       "2"
      ]
     },
     "execution_count": 26,
     "metadata": {},
     "output_type": "execute_result"
    }
   ],
   "source": [
    "today.month"
   ]
  },
  {
   "cell_type": "code",
   "execution_count": 27,
   "id": "b1500231",
   "metadata": {},
   "outputs": [
    {
     "data": {
      "text/plain": [
       "'Friday February 20'"
      ]
     },
     "execution_count": 27,
     "metadata": {},
     "output_type": "execute_result"
    }
   ],
   "source": [
    "today.strftime('%A %B %d')"
   ]
  },
  {
   "cell_type": "code",
   "execution_count": 28,
   "id": "9cd83dab",
   "metadata": {},
   "outputs": [
    {
     "data": {
      "text/plain": [
       "'HELLO'"
      ]
     },
     "execution_count": 28,
     "metadata": {},
     "output_type": "execute_result"
    }
   ],
   "source": [
    "s = 'hello'\n",
    "s.upper()"
   ]
  },
  {
   "cell_type": "code",
   "execution_count": 29,
   "id": "e86479f3",
   "metadata": {},
   "outputs": [
    {
     "data": {
      "text/plain": [
       "'hello'"
      ]
     },
     "execution_count": 29,
     "metadata": {},
     "output_type": "execute_result"
    }
   ],
   "source": [
    "s.lower()"
   ]
  },
  {
   "cell_type": "code",
   "execution_count": 30,
   "id": "941484c8",
   "metadata": {},
   "outputs": [
    {
     "data": {
      "text/plain": [
       "'HELLO'"
      ]
     },
     "execution_count": 30,
     "metadata": {},
     "output_type": "execute_result"
    }
   ],
   "source": [
    "s.swapcase()"
   ]
  },
  {
   "cell_type": "code",
   "execution_count": 31,
   "id": "6e38ff76",
   "metadata": {},
   "outputs": [
    {
     "data": {
      "text/plain": [
       "'hello'"
      ]
     },
     "execution_count": 31,
     "metadata": {},
     "output_type": "execute_result"
    }
   ],
   "source": [
    "s"
   ]
  },
  {
   "cell_type": "code",
   "execution_count": 32,
   "id": "ee13bbba",
   "metadata": {},
   "outputs": [
    {
     "data": {
      "text/plain": [
       "65"
      ]
     },
     "execution_count": 32,
     "metadata": {},
     "output_type": "execute_result"
    }
   ],
   "source": [
    "a = 'A'\n",
    "ord(a)"
   ]
  },
  {
   "cell_type": "code",
   "execution_count": 33,
   "id": "78bc82e7",
   "metadata": {},
   "outputs": [
    {
     "data": {
      "text/plain": [
       "'0x41'"
      ]
     },
     "execution_count": 33,
     "metadata": {},
     "output_type": "execute_result"
    }
   ],
   "source": [
    "hex(ord(a))"
   ]
  },
  {
   "cell_type": "code",
   "execution_count": 34,
   "id": "1d1dc11d",
   "metadata": {},
   "outputs": [
    {
     "name": "stdout",
     "output_type": "stream",
     "text": [
      "\n",
      "\n",
      "\n",
      "\n"
     ]
    }
   ],
   "source": [
    "print('\\n\\n\\n')"
   ]
  },
  {
   "cell_type": "code",
   "execution_count": 36,
   "id": "608d1ee0",
   "metadata": {},
   "outputs": [
    {
     "name": "stdout",
     "output_type": "stream",
     "text": [
      "\u0007\u0007\u0007\n"
     ]
    }
   ],
   "source": [
    "print('\\a\\a\\a')"
   ]
  },
  {
   "cell_type": "code",
   "execution_count": 37,
   "id": "9d4205bf",
   "metadata": {},
   "outputs": [],
   "source": [
    "from unicodedata import name, lookup"
   ]
  },
  {
   "cell_type": "code",
   "execution_count": 38,
   "id": "fb575d3f",
   "metadata": {},
   "outputs": [
    {
     "data": {
      "text/plain": [
       "'LATIN CAPITAL LETTER A'"
      ]
     },
     "execution_count": 38,
     "metadata": {},
     "output_type": "execute_result"
    }
   ],
   "source": [
    "name('A')"
   ]
  },
  {
   "cell_type": "code",
   "execution_count": 39,
   "id": "7882fc41",
   "metadata": {},
   "outputs": [
    {
     "data": {
      "text/plain": [
       "'LATIN SMALL LETTER A'"
      ]
     },
     "execution_count": 39,
     "metadata": {},
     "output_type": "execute_result"
    }
   ],
   "source": [
    "name('a')"
   ]
  },
  {
   "cell_type": "code",
   "execution_count": 41,
   "id": "765597e7",
   "metadata": {},
   "outputs": [
    {
     "data": {
      "text/plain": [
       "'☺'"
      ]
     },
     "execution_count": 41,
     "metadata": {},
     "output_type": "execute_result"
    }
   ],
   "source": [
    "lookup('WHITE SMILING FACE')"
   ]
  },
  {
   "cell_type": "code",
   "execution_count": 42,
   "id": "1b03a795",
   "metadata": {},
   "outputs": [
    {
     "data": {
      "text/plain": [
       "'☃'"
      ]
     },
     "execution_count": 42,
     "metadata": {},
     "output_type": "execute_result"
    }
   ],
   "source": [
    "lookup('SNOWMAN')"
   ]
  },
  {
   "cell_type": "code",
   "execution_count": 43,
   "id": "48b5fda7",
   "metadata": {},
   "outputs": [
    {
     "data": {
      "text/plain": [
       "'👶'"
      ]
     },
     "execution_count": 43,
     "metadata": {},
     "output_type": "execute_result"
    }
   ],
   "source": [
    "lookup('BABY')"
   ]
  },
  {
   "cell_type": "code",
   "execution_count": 44,
   "id": "9747e60a",
   "metadata": {},
   "outputs": [
    {
     "data": {
      "text/plain": [
       "b'\\xf0\\x9f\\x91\\xb6'"
      ]
     },
     "execution_count": 44,
     "metadata": {},
     "output_type": "execute_result"
    }
   ],
   "source": [
    "lookup('BABY').encode()"
   ]
  },
  {
   "cell_type": "code",
   "execution_count": 49,
   "id": "f98ac895",
   "metadata": {},
   "outputs": [],
   "source": [
    "suits = ['coin' , 'string', 'myriad']"
   ]
  },
  {
   "cell_type": "code",
   "execution_count": 50,
   "id": "987bc1e8",
   "metadata": {},
   "outputs": [],
   "source": [
    "original_suits = suits"
   ]
  },
  {
   "cell_type": "code",
   "execution_count": 51,
   "id": "2a823867",
   "metadata": {},
   "outputs": [
    {
     "data": {
      "text/plain": [
       "'myriad'"
      ]
     },
     "execution_count": 51,
     "metadata": {},
     "output_type": "execute_result"
    }
   ],
   "source": [
    "suits.pop()"
   ]
  },
  {
   "cell_type": "code",
   "execution_count": 52,
   "id": "d8ed7b43",
   "metadata": {},
   "outputs": [
    {
     "data": {
      "text/plain": [
       "['coin']"
      ]
     },
     "execution_count": 52,
     "metadata": {},
     "output_type": "execute_result"
    }
   ],
   "source": [
    "suits.remove('string')\n",
    "suits"
   ]
  },
  {
   "cell_type": "code",
   "execution_count": 53,
   "id": "3d95d476",
   "metadata": {},
   "outputs": [],
   "source": [
    "suits.append('cup')"
   ]
  },
  {
   "cell_type": "code",
   "execution_count": 54,
   "id": "57003ea5",
   "metadata": {},
   "outputs": [],
   "source": [
    "suits.extend(['sword', 'club'])"
   ]
  },
  {
   "cell_type": "code",
   "execution_count": 61,
   "id": "480ca85a",
   "metadata": {},
   "outputs": [
    {
     "data": {
      "text/plain": [
       "['heart', 'diamond', 'club', 'spade', 'club']"
      ]
     },
     "execution_count": 61,
     "metadata": {},
     "output_type": "execute_result"
    }
   ],
   "source": [
    "suits"
   ]
  },
  {
   "cell_type": "code",
   "execution_count": 62,
   "id": "fde8f8e7",
   "metadata": {},
   "outputs": [],
   "source": [
    "suits[2] = 'spade'"
   ]
  },
  {
   "cell_type": "code",
   "execution_count": 63,
   "id": "745e5a05",
   "metadata": {},
   "outputs": [],
   "source": [
    "suits[0:2] = ['heart', 'diamond']"
   ]
  },
  {
   "cell_type": "code",
   "execution_count": 64,
   "id": "f5110277",
   "metadata": {},
   "outputs": [
    {
     "data": {
      "text/plain": [
       "['heart', 'diamond', 'spade', 'spade', 'club']"
      ]
     },
     "execution_count": 64,
     "metadata": {},
     "output_type": "execute_result"
    }
   ],
   "source": [
    "suits"
   ]
  },
  {
   "cell_type": "code",
   "execution_count": 65,
   "id": "34a703a1",
   "metadata": {},
   "outputs": [
    {
     "data": {
      "text/plain": [
       "{'I': 1, 'V': 5, 'X': 10}"
      ]
     },
     "execution_count": 65,
     "metadata": {},
     "output_type": "execute_result"
    }
   ],
   "source": [
    "numerals = {'I': 1, 'V': 5, 'X': 10}\n",
    "numerals"
   ]
  },
  {
   "cell_type": "code",
   "execution_count": 66,
   "id": "a1ed2245",
   "metadata": {},
   "outputs": [
    {
     "data": {
      "text/plain": [
       "10"
      ]
     },
     "execution_count": 66,
     "metadata": {},
     "output_type": "execute_result"
    }
   ],
   "source": [
    "numerals['X']"
   ]
  },
  {
   "cell_type": "code",
   "execution_count": 67,
   "id": "de823e4b",
   "metadata": {},
   "outputs": [],
   "source": [
    "numerals['X'] = 11"
   ]
  },
  {
   "cell_type": "code",
   "execution_count": 68,
   "id": "2be0c559",
   "metadata": {},
   "outputs": [
    {
     "data": {
      "text/plain": [
       "11"
      ]
     },
     "execution_count": 68,
     "metadata": {},
     "output_type": "execute_result"
    }
   ],
   "source": [
    "numerals['X']"
   ]
  },
  {
   "cell_type": "code",
   "execution_count": 70,
   "id": "ae4e547d",
   "metadata": {},
   "outputs": [],
   "source": [
    "numerals['L'] = 50"
   ]
  },
  {
   "cell_type": "code",
   "execution_count": 71,
   "id": "0a5d3490",
   "metadata": {},
   "outputs": [
    {
     "data": {
      "text/plain": [
       "{'I': 1, 'V': 5, 'X': 11, 'L': 50}"
      ]
     },
     "execution_count": 71,
     "metadata": {},
     "output_type": "execute_result"
    }
   ],
   "source": [
    "numerals"
   ]
  },
  {
   "cell_type": "code",
   "execution_count": 72,
   "id": "35830fc6",
   "metadata": {},
   "outputs": [
    {
     "data": {
      "text/plain": [
       "50"
      ]
     },
     "execution_count": 72,
     "metadata": {},
     "output_type": "execute_result"
    }
   ],
   "source": [
    "numerals['L']"
   ]
  },
  {
   "cell_type": "code",
   "execution_count": 73,
   "id": "2731f25f",
   "metadata": {},
   "outputs": [
    {
     "data": {
      "text/plain": [
       "11"
      ]
     },
     "execution_count": 73,
     "metadata": {},
     "output_type": "execute_result"
    }
   ],
   "source": [
    "numerals.pop('X')"
   ]
  },
  {
   "cell_type": "code",
   "execution_count": 74,
   "id": "486269e2",
   "metadata": {},
   "outputs": [],
   "source": [
    "numerals.get('X')"
   ]
  },
  {
   "cell_type": "code",
   "execution_count": 80,
   "id": "31eb45d9",
   "metadata": {},
   "outputs": [
    {
     "data": {
      "text/plain": [
       "4"
      ]
     },
     "execution_count": 80,
     "metadata": {},
     "output_type": "execute_result"
    }
   ],
   "source": [
    "four = [1, 2, 3, 4]\n",
    "len(four)"
   ]
  },
  {
   "cell_type": "code",
   "execution_count": 77,
   "id": "0caa529c",
   "metadata": {},
   "outputs": [],
   "source": [
    "def mystery(x):\n",
    "    x.pop()\n",
    "    x.pop()\n",
    "mystery(four)"
   ]
  },
  {
   "cell_type": "code",
   "execution_count": 78,
   "id": "5169dbbd",
   "metadata": {},
   "outputs": [
    {
     "data": {
      "text/plain": [
       "[1, 2]"
      ]
     },
     "execution_count": 78,
     "metadata": {},
     "output_type": "execute_result"
    }
   ],
   "source": [
    "four"
   ]
  },
  {
   "cell_type": "code",
   "execution_count": 79,
   "id": "7b5ef16b",
   "metadata": {},
   "outputs": [],
   "source": [
    "def mystery(s):\n",
    "    s[2:] = []"
   ]
  },
  {
   "cell_type": "code",
   "execution_count": 81,
   "id": "cff1fd86",
   "metadata": {},
   "outputs": [
    {
     "data": {
      "text/plain": [
       "[1, 2]"
      ]
     },
     "execution_count": 81,
     "metadata": {},
     "output_type": "execute_result"
    }
   ],
   "source": [
    "mystery(four)\n",
    "four"
   ]
  },
  {
   "cell_type": "code",
   "execution_count": 82,
   "id": "f4dcd35f",
   "metadata": {},
   "outputs": [
    {
     "data": {
      "text/plain": [
       "(3, 4, 5, 6)"
      ]
     },
     "execution_count": 82,
     "metadata": {},
     "output_type": "execute_result"
    }
   ],
   "source": [
    "(3, 4, 5, 6)"
   ]
  },
  {
   "cell_type": "code",
   "execution_count": 83,
   "id": "68068043",
   "metadata": {},
   "outputs": [
    {
     "data": {
      "text/plain": [
       "(3, 4, 5, 6)"
      ]
     },
     "execution_count": 83,
     "metadata": {},
     "output_type": "execute_result"
    }
   ],
   "source": [
    "3, 4, 5, 6"
   ]
  },
  {
   "cell_type": "code",
   "execution_count": 84,
   "id": "b5c1215b",
   "metadata": {},
   "outputs": [
    {
     "data": {
      "text/plain": [
       "()"
      ]
     },
     "execution_count": 84,
     "metadata": {},
     "output_type": "execute_result"
    }
   ],
   "source": [
    "()"
   ]
  },
  {
   "cell_type": "code",
   "execution_count": 85,
   "id": "a50a9128",
   "metadata": {},
   "outputs": [
    {
     "data": {
      "text/plain": [
       "()"
      ]
     },
     "execution_count": 85,
     "metadata": {},
     "output_type": "execute_result"
    }
   ],
   "source": [
    "tuple()"
   ]
  },
  {
   "cell_type": "code",
   "execution_count": 86,
   "id": "a2ecb230",
   "metadata": {},
   "outputs": [
    {
     "data": {
      "text/plain": [
       "(3, 4, 5)"
      ]
     },
     "execution_count": 86,
     "metadata": {},
     "output_type": "execute_result"
    }
   ],
   "source": [
    "tuple([3,4,5])"
   ]
  },
  {
   "cell_type": "code",
   "execution_count": 87,
   "id": "7cd403dd",
   "metadata": {},
   "outputs": [
    {
     "data": {
      "text/plain": [
       "(2,)"
      ]
     },
     "execution_count": 87,
     "metadata": {},
     "output_type": "execute_result"
    }
   ],
   "source": [
    "2,"
   ]
  },
  {
   "cell_type": "code",
   "execution_count": 88,
   "id": "4503e6ab",
   "metadata": {},
   "outputs": [
    {
     "data": {
      "text/plain": [
       "2"
      ]
     },
     "execution_count": 88,
     "metadata": {},
     "output_type": "execute_result"
    }
   ],
   "source": [
    "2"
   ]
  },
  {
   "cell_type": "code",
   "execution_count": 89,
   "id": "637faf64",
   "metadata": {},
   "outputs": [
    {
     "data": {
      "text/plain": [
       "(3, 4, 5, 6)"
      ]
     },
     "execution_count": 89,
     "metadata": {},
     "output_type": "execute_result"
    }
   ],
   "source": [
    "(3, 4) + (5, 6)"
   ]
  },
  {
   "cell_type": "code",
   "execution_count": 90,
   "id": "86cfe1f6",
   "metadata": {},
   "outputs": [
    {
     "data": {
      "text/plain": [
       "True"
      ]
     },
     "execution_count": 90,
     "metadata": {},
     "output_type": "execute_result"
    }
   ],
   "source": [
    "5 in (3, 4, 5)"
   ]
  },
  {
   "cell_type": "code",
   "execution_count": 91,
   "id": "5990dd90",
   "metadata": {},
   "outputs": [
    {
     "data": {
      "text/plain": [
       "{(1, 2): 3}"
      ]
     },
     "execution_count": 91,
     "metadata": {},
     "output_type": "execute_result"
    }
   ],
   "source": [
    "{(1, 2) : 3}"
   ]
  },
  {
   "cell_type": "code",
   "execution_count": 92,
   "id": "2bf081c5",
   "metadata": {},
   "outputs": [
    {
     "ename": "NameError",
     "evalue": "name 'ooze' is not defined",
     "output_type": "error",
     "traceback": [
      "\u001b[1;31m---------------------------------------------------------------------------\u001b[0m",
      "\u001b[1;31mNameError\u001b[0m                                 Traceback (most recent call last)",
      "Cell \u001b[1;32mIn[92], line 2\u001b[0m\n\u001b[0;32m      1\u001b[0m turtle \u001b[39m=\u001b[39m (\u001b[39m1\u001b[39m, \u001b[39m2\u001b[39m, \u001b[39m3\u001b[39m)\n\u001b[1;32m----> 2\u001b[0m ooze()\n\u001b[0;32m      3\u001b[0m turtle\n",
      "\u001b[1;31mNameError\u001b[0m: name 'ooze' is not defined"
     ]
    }
   ],
   "source": [
    "turtle = (1, 2, 3)\n",
    "ooze()\n",
    "turtle"
   ]
  },
  {
   "cell_type": "code",
   "execution_count": 93,
   "id": "a4072009",
   "metadata": {},
   "outputs": [
    {
     "data": {
      "text/plain": [
       "4"
      ]
     },
     "execution_count": 93,
     "metadata": {},
     "output_type": "execute_result"
    }
   ],
   "source": [
    "x = 2 \n",
    "\n",
    "x + x "
   ]
  },
  {
   "cell_type": "code",
   "execution_count": 94,
   "id": "e3a0f5b8",
   "metadata": {},
   "outputs": [
    {
     "data": {
      "text/plain": [
       "[1, 2, 1, 2]"
      ]
     },
     "execution_count": 94,
     "metadata": {},
     "output_type": "execute_result"
    }
   ],
   "source": [
    "x = [1,2]\n",
    "x + x"
   ]
  },
  {
   "cell_type": "code",
   "execution_count": 95,
   "id": "6912f9f1",
   "metadata": {},
   "outputs": [],
   "source": [
    "x.append(3)"
   ]
  },
  {
   "cell_type": "code",
   "execution_count": 96,
   "id": "dc0599fc",
   "metadata": {},
   "outputs": [
    {
     "data": {
      "text/plain": [
       "[1, 2, 3, 1, 2, 3]"
      ]
     },
     "execution_count": 96,
     "metadata": {},
     "output_type": "execute_result"
    }
   ],
   "source": [
    "x + x "
   ]
  },
  {
   "cell_type": "code",
   "execution_count": 97,
   "id": "1a227447",
   "metadata": {},
   "outputs": [],
   "source": [
    "s = ([1, 2], 3)"
   ]
  },
  {
   "cell_type": "code",
   "execution_count": 98,
   "id": "0e587ccf",
   "metadata": {},
   "outputs": [
    {
     "data": {
      "text/plain": [
       "[1, 2]"
      ]
     },
     "execution_count": 98,
     "metadata": {},
     "output_type": "execute_result"
    }
   ],
   "source": [
    "s[0]"
   ]
  },
  {
   "cell_type": "code",
   "execution_count": 99,
   "id": "62c8d2be",
   "metadata": {},
   "outputs": [
    {
     "ename": "TypeError",
     "evalue": "'tuple' object does not support item assignment",
     "output_type": "error",
     "traceback": [
      "\u001b[1;31m---------------------------------------------------------------------------\u001b[0m",
      "\u001b[1;31mTypeError\u001b[0m                                 Traceback (most recent call last)",
      "Cell \u001b[1;32mIn[99], line 1\u001b[0m\n\u001b[1;32m----> 1\u001b[0m s[\u001b[39m0\u001b[39;49m] \u001b[39m=\u001b[39m \u001b[39m4\u001b[39m\n",
      "\u001b[1;31mTypeError\u001b[0m: 'tuple' object does not support item assignment"
     ]
    }
   ],
   "source": [
    "s[0] = 4"
   ]
  },
  {
   "cell_type": "code",
   "execution_count": 100,
   "id": "403deae9",
   "metadata": {},
   "outputs": [],
   "source": [
    "s[0][0] = 4"
   ]
  },
  {
   "cell_type": "code",
   "execution_count": 101,
   "id": "17699e9f",
   "metadata": {},
   "outputs": [
    {
     "data": {
      "text/plain": [
       "([4, 2], 3)"
      ]
     },
     "execution_count": 101,
     "metadata": {},
     "output_type": "execute_result"
    }
   ],
   "source": [
    "s"
   ]
  },
  {
   "cell_type": "code",
   "execution_count": 102,
   "id": "b8e519a9",
   "metadata": {},
   "outputs": [
    {
     "data": {
      "text/plain": [
       "True"
      ]
     },
     "execution_count": 102,
     "metadata": {},
     "output_type": "execute_result"
    }
   ],
   "source": [
    "a = [10]\n",
    "b = a\n",
    "a == b"
   ]
  },
  {
   "cell_type": "code",
   "execution_count": 103,
   "id": "3e281f4d",
   "metadata": {},
   "outputs": [],
   "source": [
    "a.append(20)"
   ]
  },
  {
   "cell_type": "code",
   "execution_count": 104,
   "id": "f253b352",
   "metadata": {},
   "outputs": [
    {
     "data": {
      "text/plain": [
       "True"
      ]
     },
     "execution_count": 104,
     "metadata": {},
     "output_type": "execute_result"
    }
   ],
   "source": [
    "a == b"
   ]
  },
  {
   "cell_type": "code",
   "execution_count": 105,
   "id": "db012d3f",
   "metadata": {},
   "outputs": [
    {
     "data": {
      "text/plain": [
       "[10, 20]"
      ]
     },
     "execution_count": 105,
     "metadata": {},
     "output_type": "execute_result"
    }
   ],
   "source": [
    "a"
   ]
  },
  {
   "cell_type": "code",
   "execution_count": 106,
   "id": "a1abb75a",
   "metadata": {},
   "outputs": [
    {
     "data": {
      "text/plain": [
       "[10, 20]"
      ]
     },
     "execution_count": 106,
     "metadata": {},
     "output_type": "execute_result"
    }
   ],
   "source": [
    "b"
   ]
  },
  {
   "cell_type": "code",
   "execution_count": 107,
   "id": "48d4b00d",
   "metadata": {},
   "outputs": [
    {
     "data": {
      "text/plain": [
       "True"
      ]
     },
     "execution_count": 107,
     "metadata": {},
     "output_type": "execute_result"
    }
   ],
   "source": [
    "a = [10]\n",
    "b = [10]\n",
    "a == b "
   ]
  },
  {
   "cell_type": "code",
   "execution_count": 108,
   "id": "89134b02",
   "metadata": {},
   "outputs": [],
   "source": [
    "b.append(20)"
   ]
  },
  {
   "cell_type": "code",
   "execution_count": 109,
   "id": "edbccf61",
   "metadata": {},
   "outputs": [
    {
     "data": {
      "text/plain": [
       "False"
      ]
     },
     "execution_count": 109,
     "metadata": {},
     "output_type": "execute_result"
    }
   ],
   "source": [
    "a == b "
   ]
  },
  {
   "cell_type": "code",
   "execution_count": 110,
   "id": "b492eeaf",
   "metadata": {},
   "outputs": [
    {
     "data": {
      "text/plain": [
       "False"
      ]
     },
     "execution_count": 110,
     "metadata": {},
     "output_type": "execute_result"
    }
   ],
   "source": [
    "a is b "
   ]
  },
  {
   "cell_type": "code",
   "execution_count": 111,
   "id": "9c257d84",
   "metadata": {},
   "outputs": [
    {
     "data": {
      "text/plain": [
       "True"
      ]
     },
     "execution_count": 111,
     "metadata": {},
     "output_type": "execute_result"
    }
   ],
   "source": [
    "[10] == [10]"
   ]
  },
  {
   "cell_type": "code",
   "execution_count": 112,
   "id": "2423e6dc",
   "metadata": {},
   "outputs": [],
   "source": [
    "a = [10]\n",
    "b = [10]"
   ]
  },
  {
   "cell_type": "code",
   "execution_count": 113,
   "id": "b99c5ca7",
   "metadata": {},
   "outputs": [
    {
     "data": {
      "text/plain": [
       "False"
      ]
     },
     "execution_count": 113,
     "metadata": {},
     "output_type": "execute_result"
    }
   ],
   "source": [
    "a is b "
   ]
  },
  {
   "cell_type": "code",
   "execution_count": 114,
   "id": "0836921e",
   "metadata": {},
   "outputs": [
    {
     "data": {
      "text/plain": [
       "True"
      ]
     },
     "execution_count": 114,
     "metadata": {},
     "output_type": "execute_result"
    }
   ],
   "source": [
    "a == b"
   ]
  },
  {
   "cell_type": "code",
   "execution_count": 115,
   "id": "a6431581",
   "metadata": {},
   "outputs": [],
   "source": [
    "def f(s=[]):\n",
    "    s.append(5)\n",
    "    return len(s)"
   ]
  },
  {
   "cell_type": "code",
   "execution_count": 116,
   "id": "edbab02f",
   "metadata": {},
   "outputs": [
    {
     "data": {
      "text/plain": [
       "1"
      ]
     },
     "execution_count": 116,
     "metadata": {},
     "output_type": "execute_result"
    }
   ],
   "source": [
    "f()"
   ]
  },
  {
   "cell_type": "code",
   "execution_count": 117,
   "id": "52130f93",
   "metadata": {},
   "outputs": [
    {
     "data": {
      "text/plain": [
       "2"
      ]
     },
     "execution_count": 117,
     "metadata": {},
     "output_type": "execute_result"
    }
   ],
   "source": [
    "f()"
   ]
  },
  {
   "cell_type": "code",
   "execution_count": 118,
   "id": "381922b7",
   "metadata": {},
   "outputs": [
    {
     "name": "stdout",
     "output_type": "stream",
     "text": [
      "[1, [2, 3, 4]]\n"
     ]
    }
   ],
   "source": [
    "a = [1, [2, 3]]\n",
    "b = a \n",
    "c = a[1]\n",
    "c.append(4)\n",
    "print(b)"
   ]
  },
  {
   "cell_type": "code",
   "execution_count": 119,
   "id": "ce1bf6b5",
   "metadata": {},
   "outputs": [
    {
     "name": "stdout",
     "output_type": "stream",
     "text": [
      "[1, [...]]\n"
     ]
    }
   ],
   "source": [
    "t = [1, 2, 3]\n",
    "t[1:3] = [t]\n",
    "print(t)"
   ]
  },
  {
   "cell_type": "code",
   "execution_count": 121,
   "id": "ad2033dd",
   "metadata": {},
   "outputs": [
    {
     "data": {
      "text/plain": [
       "[1, [...]]"
      ]
     },
     "execution_count": 121,
     "metadata": {},
     "output_type": "execute_result"
    }
   ],
   "source": [
    "t = [1]\n",
    "t.append(t)\n",
    "t"
   ]
  },
  {
   "cell_type": "code",
   "execution_count": 128,
   "id": "b2a1287f",
   "metadata": {},
   "outputs": [],
   "source": [
    "s = [1,2,3]\n",
    "t = [4,5,6]\n",
    "s[0:0] = t"
   ]
  },
  {
   "cell_type": "code",
   "execution_count": 129,
   "id": "c8a42bf6",
   "metadata": {},
   "outputs": [
    {
     "data": {
      "text/plain": [
       "[4, 5, 6, 1, 2, 3]"
      ]
     },
     "execution_count": 129,
     "metadata": {},
     "output_type": "execute_result"
    }
   ],
   "source": [
    "s"
   ]
  },
  {
   "cell_type": "code",
   "execution_count": 130,
   "id": "22c3f588",
   "metadata": {},
   "outputs": [
    {
     "data": {
      "text/plain": [
       "range(0, 100)"
      ]
     },
     "execution_count": 130,
     "metadata": {},
     "output_type": "execute_result"
    }
   ],
   "source": [
    "t = range(100)\n",
    "t"
   ]
  },
  {
   "cell_type": "code",
   "execution_count": 131,
   "id": "55eeff38",
   "metadata": {},
   "outputs": [
    {
     "name": "stdout",
     "output_type": "stream",
     "text": [
      "range(0, 100)\n"
     ]
    }
   ],
   "source": [
    "print(t)"
   ]
  },
  {
   "cell_type": "code",
   "execution_count": 132,
   "id": "326f02f2",
   "metadata": {},
   "outputs": [
    {
     "name": "stdout",
     "output_type": "stream",
     "text": [
      "0\n",
      "1\n",
      "2\n",
      "3\n",
      "4\n",
      "5\n",
      "6\n",
      "7\n",
      "8\n",
      "9\n",
      "10\n",
      "11\n",
      "12\n",
      "13\n",
      "14\n",
      "15\n",
      "16\n",
      "17\n",
      "18\n",
      "19\n",
      "20\n",
      "21\n",
      "22\n",
      "23\n",
      "24\n",
      "25\n",
      "26\n",
      "27\n",
      "28\n",
      "29\n",
      "30\n",
      "31\n",
      "32\n",
      "33\n",
      "34\n",
      "35\n",
      "36\n",
      "37\n",
      "38\n",
      "39\n",
      "40\n",
      "41\n",
      "42\n",
      "43\n",
      "44\n",
      "45\n",
      "46\n",
      "47\n",
      "48\n",
      "49\n",
      "50\n",
      "51\n",
      "52\n",
      "53\n",
      "54\n",
      "55\n",
      "56\n",
      "57\n",
      "58\n",
      "59\n",
      "60\n",
      "61\n",
      "62\n",
      "63\n",
      "64\n",
      "65\n",
      "66\n",
      "67\n",
      "68\n",
      "69\n",
      "70\n",
      "71\n",
      "72\n",
      "73\n",
      "74\n",
      "75\n",
      "76\n",
      "77\n",
      "78\n",
      "79\n",
      "80\n",
      "81\n",
      "82\n",
      "83\n",
      "84\n",
      "85\n",
      "86\n",
      "87\n",
      "88\n",
      "89\n",
      "90\n",
      "91\n",
      "92\n",
      "93\n",
      "94\n",
      "95\n",
      "96\n",
      "97\n",
      "98\n",
      "99\n"
     ]
    }
   ],
   "source": [
    "for et in t:\n",
    "    print(et)"
   ]
  },
  {
   "cell_type": "code",
   "execution_count": 153,
   "id": "b250439a",
   "metadata": {},
   "outputs": [],
   "source": [
    "def make_withdraw(balance):\n",
    "    def withdraw(amount):\n",
    "        nonlocal balance\n",
    "        if amount > balance:\n",
    "            return 'insufficient funds'\n",
    "        balance = balance - amount\n",
    "        return balance\n",
    "    return withdraw"
   ]
  },
  {
   "cell_type": "code",
   "execution_count": 154,
   "id": "367c2aed",
   "metadata": {},
   "outputs": [],
   "source": [
    "withdraw = make_withdraw(100)"
   ]
  },
  {
   "cell_type": "code",
   "execution_count": 155,
   "id": "ed27f395",
   "metadata": {},
   "outputs": [
    {
     "data": {
      "text/plain": [
       "75"
      ]
     },
     "execution_count": 155,
     "metadata": {},
     "output_type": "execute_result"
    }
   ],
   "source": [
    "withdraw(25)"
   ]
  },
  {
   "cell_type": "code",
   "execution_count": 156,
   "id": "584c81a6",
   "metadata": {},
   "outputs": [
    {
     "data": {
      "text/plain": [
       "50"
      ]
     },
     "execution_count": 156,
     "metadata": {},
     "output_type": "execute_result"
    }
   ],
   "source": [
    "withdraw(25)"
   ]
  },
  {
   "cell_type": "code",
   "execution_count": 157,
   "id": "966d13e4",
   "metadata": {},
   "outputs": [
    {
     "data": {
      "text/plain": [
       "'insufficient funds'"
      ]
     },
     "execution_count": 157,
     "metadata": {},
     "output_type": "execute_result"
    }
   ],
   "source": [
    "withdraw(60)"
   ]
  },
  {
   "cell_type": "code",
   "execution_count": 149,
   "id": "938427cd",
   "metadata": {},
   "outputs": [],
   "source": [
    "def make_withdraw_list(balance):\n",
    "    b = [balance]\n",
    "    def withdraw(amount):\n",
    "        if amount > b[0]:\n",
    "            return 'insufficient funds'\n",
    "        b[0] = b[0] - amount\n",
    "        return b[0]\n",
    "    return withdraw\n"
   ]
  },
  {
   "cell_type": "code",
   "execution_count": 150,
   "id": "3f145de4",
   "metadata": {},
   "outputs": [],
   "source": [
    "withdraw = make_withdraw_list(100)"
   ]
  },
  {
   "cell_type": "code",
   "execution_count": 151,
   "id": "c09b3420",
   "metadata": {},
   "outputs": [
    {
     "data": {
      "text/plain": [
       "75"
      ]
     },
     "execution_count": 151,
     "metadata": {},
     "output_type": "execute_result"
    }
   ],
   "source": [
    "withdraw(25)"
   ]
  },
  {
   "cell_type": "code",
   "execution_count": 152,
   "id": "df875d7a",
   "metadata": {},
   "outputs": [
    {
     "data": {
      "text/plain": [
       "'insufficient funds'"
      ]
     },
     "execution_count": 152,
     "metadata": {},
     "output_type": "execute_result"
    }
   ],
   "source": [
    "withdraw(80)"
   ]
  },
  {
   "cell_type": "code",
   "execution_count": 165,
   "id": "0203f1c4",
   "metadata": {},
   "outputs": [
    {
     "ename": "UnboundLocalError",
     "evalue": "cannot access local variable 'x' where it is not associated with a value",
     "output_type": "error",
     "traceback": [
      "\u001b[1;31m---------------------------------------------------------------------------\u001b[0m",
      "\u001b[1;31mUnboundLocalError\u001b[0m                         Traceback (most recent call last)",
      "Cell \u001b[1;32mIn[165], line 7\u001b[0m\n\u001b[0;32m      4\u001b[0m         x \u001b[39m=\u001b[39m y \n\u001b[0;32m      5\u001b[0m     \u001b[39mreturn\u001b[39;00m g\n\u001b[1;32m----> 7\u001b[0m f(\u001b[39m3\u001b[39;49m)(\u001b[39m4\u001b[39;49m)\n",
      "Cell \u001b[1;32mIn[165], line 3\u001b[0m, in \u001b[0;36mf.<locals>.g\u001b[1;34m(y)\u001b[0m\n\u001b[0;32m      2\u001b[0m \u001b[39mdef\u001b[39;00m \u001b[39mg\u001b[39m(y):\n\u001b[1;32m----> 3\u001b[0m     \u001b[39mprint\u001b[39m(x\u001b[39m+\u001b[39m\u001b[39m1\u001b[39m)\n\u001b[0;32m      4\u001b[0m     x \u001b[39m=\u001b[39m y\n",
      "\u001b[1;31mUnboundLocalError\u001b[0m: cannot access local variable 'x' where it is not associated with a value"
     ]
    }
   ],
   "source": [
    "def f(x):\n",
    "    def g(y):\n",
    "        print(x+1)\n",
    "        x = y \n",
    "    return g\n",
    "\n",
    "f(3)(4)"
   ]
  },
  {
   "cell_type": "code",
   "execution_count": 170,
   "id": "111555ef",
   "metadata": {},
   "outputs": [
    {
     "data": {
      "text/plain": [
       "[1, 2]"
      ]
     },
     "execution_count": 170,
     "metadata": {},
     "output_type": "execute_result"
    }
   ],
   "source": [
    "a = [1, 2]\n",
    "b = [3, 4]\n",
    "c = a\n",
    "c"
   ]
  },
  {
   "cell_type": "code",
   "execution_count": 169,
   "id": "7c8398a8",
   "metadata": {},
   "outputs": [
    {
     "data": {
      "text/plain": [
       "[1, 2]"
      ]
     },
     "execution_count": 169,
     "metadata": {},
     "output_type": "execute_result"
    }
   ],
   "source": [
    "a = a + b\n",
    "c"
   ]
  },
  {
   "cell_type": "code",
   "execution_count": 171,
   "id": "a3ca24c5",
   "metadata": {},
   "outputs": [
    {
     "data": {
      "text/plain": [
       "[1, 2, 3, 4]"
      ]
     },
     "execution_count": 171,
     "metadata": {},
     "output_type": "execute_result"
    }
   ],
   "source": [
    "a += b\n",
    "c"
   ]
  },
  {
   "cell_type": "code",
   "execution_count": 172,
   "id": "2724511a",
   "metadata": {},
   "outputs": [
    {
     "data": {
      "text/plain": [
       "3"
      ]
     },
     "execution_count": 172,
     "metadata": {},
     "output_type": "execute_result"
    }
   ],
   "source": [
    "s = [3, 4, 5]\n",
    "t = iter(s)\n",
    "next(t)"
   ]
  },
  {
   "cell_type": "code",
   "execution_count": 173,
   "id": "a9715ace",
   "metadata": {},
   "outputs": [
    {
     "data": {
      "text/plain": [
       "4"
      ]
     },
     "execution_count": 173,
     "metadata": {},
     "output_type": "execute_result"
    }
   ],
   "source": [
    "next(t)"
   ]
  },
  {
   "cell_type": "code",
   "execution_count": 174,
   "id": "0900cb2c",
   "metadata": {},
   "outputs": [
    {
     "name": "stdout",
     "output_type": "stream",
     "text": [
      "<list_iterator object at 0x00000130EF34EA40>\n"
     ]
    }
   ],
   "source": [
    "print(t)"
   ]
  },
  {
   "cell_type": "code",
   "execution_count": 1,
   "id": "075dc904",
   "metadata": {},
   "outputs": [],
   "source": [
    "bcd = ['b', 'c', 'd']\n"
   ]
  },
  {
   "cell_type": "code",
   "execution_count": 2,
   "id": "fca28260",
   "metadata": {},
   "outputs": [
    {
     "data": {
      "text/plain": [
       "['B', 'C', 'D']"
      ]
     },
     "execution_count": 2,
     "metadata": {},
     "output_type": "execute_result"
    }
   ],
   "source": [
    "[x.upper() for x in bcd]"
   ]
  },
  {
   "cell_type": "code",
   "execution_count": 9,
   "id": "3b4ab621",
   "metadata": {},
   "outputs": [],
   "source": [
    "m = map(lambda x: x.upper(), bcd)"
   ]
  },
  {
   "cell_type": "code",
   "execution_count": 10,
   "id": "398b38e4",
   "metadata": {},
   "outputs": [
    {
     "data": {
      "text/plain": [
       "'B'"
      ]
     },
     "execution_count": 10,
     "metadata": {},
     "output_type": "execute_result"
    }
   ],
   "source": [
    "next(m)"
   ]
  },
  {
   "cell_type": "code",
   "execution_count": 11,
   "id": "8caa905e",
   "metadata": {},
   "outputs": [],
   "source": [
    "def double(x):\n",
    "    print('**', x, '==>', 2*x, '**')\n",
    "    return 2*x\n",
    "\n",
    "m = map(double, range(3,7))"
   ]
  },
  {
   "cell_type": "code",
   "execution_count": 12,
   "id": "9cc060da",
   "metadata": {},
   "outputs": [],
   "source": [
    "f = lambda y: y >= 10"
   ]
  },
  {
   "cell_type": "code",
   "execution_count": 13,
   "id": "75fabc87",
   "metadata": {},
   "outputs": [],
   "source": [
    "t = filter(f, m)"
   ]
  },
  {
   "cell_type": "code",
   "execution_count": 14,
   "id": "ee736bab",
   "metadata": {},
   "outputs": [
    {
     "name": "stdout",
     "output_type": "stream",
     "text": [
      "** 3 ==> 6 **\n",
      "** 4 ==> 8 **\n",
      "** 5 ==> 10 **\n"
     ]
    },
    {
     "data": {
      "text/plain": [
       "10"
      ]
     },
     "execution_count": 14,
     "metadata": {},
     "output_type": "execute_result"
    }
   ],
   "source": [
    "next(t)"
   ]
  },
  {
   "cell_type": "code",
   "execution_count": 15,
   "id": "173cee2c",
   "metadata": {},
   "outputs": [
    {
     "name": "stdout",
     "output_type": "stream",
     "text": [
      "** 6 ==> 12 **\n"
     ]
    },
    {
     "data": {
      "text/plain": [
       "12"
      ]
     },
     "execution_count": 15,
     "metadata": {},
     "output_type": "execute_result"
    }
   ],
   "source": [
    "next(t)"
   ]
  },
  {
   "cell_type": "code",
   "execution_count": 16,
   "id": "053348b6",
   "metadata": {},
   "outputs": [
    {
     "data": {
      "text/plain": [
       "[]"
      ]
     },
     "execution_count": 16,
     "metadata": {},
     "output_type": "execute_result"
    }
   ],
   "source": [
    "list(t)"
   ]
  },
  {
   "cell_type": "code",
   "execution_count": 17,
   "id": "586c8a9a",
   "metadata": {},
   "outputs": [
    {
     "name": "stdout",
     "output_type": "stream",
     "text": [
      "** 3 ==> 6 **\n",
      "** 4 ==> 8 **\n",
      "** 5 ==> 10 **\n",
      "** 6 ==> 12 **\n"
     ]
    },
    {
     "data": {
      "text/plain": [
       "[10, 12]"
      ]
     },
     "execution_count": 17,
     "metadata": {},
     "output_type": "execute_result"
    }
   ],
   "source": [
    "list(filter(f, map(double, range(3, 7))))"
   ]
  },
  {
   "cell_type": "code",
   "execution_count": 18,
   "id": "3dfe2beb",
   "metadata": {},
   "outputs": [
    {
     "data": {
      "text/plain": [
       "[1, 2, 3, 2, 1]"
      ]
     },
     "execution_count": 18,
     "metadata": {},
     "output_type": "execute_result"
    }
   ],
   "source": [
    "t = [1,2,3,2,1]\n",
    "t"
   ]
  },
  {
   "cell_type": "code",
   "execution_count": 19,
   "id": "401c6c1b",
   "metadata": {},
   "outputs": [
    {
     "data": {
      "text/plain": [
       "<list_reverseiterator at 0x168130aa1a0>"
      ]
     },
     "execution_count": 19,
     "metadata": {},
     "output_type": "execute_result"
    }
   ],
   "source": [
    "reversed(t)"
   ]
  },
  {
   "cell_type": "code",
   "execution_count": 20,
   "id": "7ac09464",
   "metadata": {},
   "outputs": [
    {
     "data": {
      "text/plain": [
       "False"
      ]
     },
     "execution_count": 20,
     "metadata": {},
     "output_type": "execute_result"
    }
   ],
   "source": [
    "reversed(t) == t"
   ]
  },
  {
   "cell_type": "code",
   "execution_count": 21,
   "id": "f97312ab",
   "metadata": {},
   "outputs": [
    {
     "data": {
      "text/plain": [
       "True"
      ]
     },
     "execution_count": 21,
     "metadata": {},
     "output_type": "execute_result"
    }
   ],
   "source": [
    "list(reversed(t)) == t"
   ]
  },
  {
   "cell_type": "code",
   "execution_count": 22,
   "id": "d2fa505f",
   "metadata": {},
   "outputs": [],
   "source": [
    "tr = reversed(t)"
   ]
  },
  {
   "cell_type": "code",
   "execution_count": 23,
   "id": "2da9d054",
   "metadata": {},
   "outputs": [
    {
     "data": {
      "text/plain": [
       "1"
      ]
     },
     "execution_count": 23,
     "metadata": {},
     "output_type": "execute_result"
    }
   ],
   "source": [
    "next(tr)"
   ]
  },
  {
   "cell_type": "code",
   "execution_count": 24,
   "id": "e732742a",
   "metadata": {},
   "outputs": [
    {
     "data": {
      "text/plain": [
       "[2, 3, 2, 1]"
      ]
     },
     "execution_count": 24,
     "metadata": {},
     "output_type": "execute_result"
    }
   ],
   "source": [
    "list(tr)"
   ]
  },
  {
   "cell_type": "code",
   "execution_count": 25,
   "id": "e6b34c04",
   "metadata": {},
   "outputs": [
    {
     "data": {
      "text/plain": [
       "{'a': 1, 'b': 2}"
      ]
     },
     "execution_count": 25,
     "metadata": {},
     "output_type": "execute_result"
    }
   ],
   "source": [
    "d = {'a': 1, 'b': 2}\n",
    "d"
   ]
  },
  {
   "cell_type": "code",
   "execution_count": 26,
   "id": "7b3c56af",
   "metadata": {},
   "outputs": [],
   "source": [
    "items = iter(d.items())"
   ]
  },
  {
   "cell_type": "code",
   "execution_count": 27,
   "id": "9bfeeb02",
   "metadata": {},
   "outputs": [
    {
     "data": {
      "text/plain": [
       "<dict_itemiterator at 0x168131223e0>"
      ]
     },
     "execution_count": 27,
     "metadata": {},
     "output_type": "execute_result"
    }
   ],
   "source": [
    "items"
   ]
  },
  {
   "cell_type": "code",
   "execution_count": 28,
   "id": "6962fddf",
   "metadata": {},
   "outputs": [
    {
     "data": {
      "text/plain": [
       "('a', 1)"
      ]
     },
     "execution_count": 28,
     "metadata": {},
     "output_type": "execute_result"
    }
   ],
   "source": [
    "next(items)"
   ]
  },
  {
   "cell_type": "code",
   "execution_count": 29,
   "id": "1b263a40",
   "metadata": {},
   "outputs": [],
   "source": [
    "items = zip(d.keys(), d.values())"
   ]
  },
  {
   "cell_type": "code",
   "execution_count": 30,
   "id": "676e3078",
   "metadata": {},
   "outputs": [
    {
     "data": {
      "text/plain": [
       "('a', 1)"
      ]
     },
     "execution_count": 30,
     "metadata": {},
     "output_type": "execute_result"
    }
   ],
   "source": [
    "next(items)"
   ]
  },
  {
   "cell_type": "code",
   "execution_count": 50,
   "id": "b11a2084",
   "metadata": {},
   "outputs": [],
   "source": [
    "def plus_minus(x):\n",
    "    yield x\n",
    "    yield -x"
   ]
  },
  {
   "cell_type": "code",
   "execution_count": 51,
   "id": "e6b33f5e",
   "metadata": {},
   "outputs": [],
   "source": [
    "t = plus_minus(3)"
   ]
  },
  {
   "cell_type": "code",
   "execution_count": 53,
   "id": "87d05a55",
   "metadata": {},
   "outputs": [
    {
     "data": {
      "text/plain": [
       "-3"
      ]
     },
     "execution_count": 53,
     "metadata": {},
     "output_type": "execute_result"
    }
   ],
   "source": [
    "next(t)"
   ]
  },
  {
   "cell_type": "code",
   "execution_count": 35,
   "id": "2a2cc975",
   "metadata": {},
   "outputs": [
    {
     "ename": "StopIteration",
     "evalue": "",
     "output_type": "error",
     "traceback": [
      "\u001b[1;31m---------------------------------------------------------------------------\u001b[0m",
      "\u001b[1;31mStopIteration\u001b[0m                             Traceback (most recent call last)",
      "Cell \u001b[1;32mIn[35], line 1\u001b[0m\n\u001b[1;32m----> 1\u001b[0m \u001b[39mnext\u001b[39;49m(t)\n",
      "\u001b[1;31mStopIteration\u001b[0m: "
     ]
    }
   ],
   "source": [
    "next(t)"
   ]
  },
  {
   "cell_type": "code",
   "execution_count": 43,
   "id": "95c3f9c0",
   "metadata": {},
   "outputs": [],
   "source": [
    "def evens(start, end):\n",
    "    even = start + (start % 2)\n",
    "    while even < end:\n",
    "        yield even\n",
    "        even += 2"
   ]
  },
  {
   "cell_type": "code",
   "execution_count": 44,
   "id": "eba99f3d",
   "metadata": {},
   "outputs": [
    {
     "data": {
      "text/plain": [
       "<generator object evens at 0x0000016813183060>"
      ]
     },
     "execution_count": 44,
     "metadata": {},
     "output_type": "execute_result"
    }
   ],
   "source": [
    "t = evens(2, 10)\n",
    "t"
   ]
  },
  {
   "cell_type": "code",
   "execution_count": 45,
   "id": "a7ad1a5f",
   "metadata": {},
   "outputs": [
    {
     "data": {
      "text/plain": [
       "2"
      ]
     },
     "execution_count": 45,
     "metadata": {},
     "output_type": "execute_result"
    }
   ],
   "source": [
    "next(t)"
   ]
  },
  {
   "cell_type": "code",
   "execution_count": 46,
   "id": "5d8e0b59",
   "metadata": {},
   "outputs": [
    {
     "data": {
      "text/plain": [
       "[2, 4, 6, 8]"
      ]
     },
     "execution_count": 46,
     "metadata": {},
     "output_type": "execute_result"
    }
   ],
   "source": [
    "list(evens(1,10))"
   ]
  },
  {
   "cell_type": "code",
   "execution_count": 47,
   "id": "0fff8331",
   "metadata": {},
   "outputs": [
    {
     "data": {
      "text/plain": [
       "[3, 4, 5, 6]"
      ]
     },
     "execution_count": 47,
     "metadata": {},
     "output_type": "execute_result"
    }
   ],
   "source": [
    "def a_then_b(a, b):\n",
    "    for x in a:\n",
    "        yield x\n",
    "    for x in b:\n",
    "        yield x\n",
    "        \n",
    "list(a_then_b([3,4], [5,6]))"
   ]
  },
  {
   "cell_type": "code",
   "execution_count": 48,
   "id": "67819a33",
   "metadata": {},
   "outputs": [
    {
     "data": {
      "text/plain": [
       "[3, 4, 5, 6]"
      ]
     },
     "execution_count": 48,
     "metadata": {},
     "output_type": "execute_result"
    }
   ],
   "source": [
    "def a_then_b(a, b):\n",
    "    yield from a\n",
    "    yield from b\n",
    "        \n",
    "list(a_then_b([3,4], [5,6]))"
   ]
  },
  {
   "cell_type": "code",
   "execution_count": 49,
   "id": "1bcabdd6",
   "metadata": {},
   "outputs": [],
   "source": [
    "def countdown(k):\n",
    "    if k > 0:\n",
    "        yield k\n",
    "        yield from countdown(k-1)\n",
    "    else:\n",
    "        yield 'blast off'"
   ]
  },
  {
   "cell_type": "code",
   "execution_count": 50,
   "id": "cfd79b49",
   "metadata": {},
   "outputs": [
    {
     "name": "stdout",
     "output_type": "stream",
     "text": [
      "3\n",
      "2\n",
      "1\n",
      "blast off\n"
     ]
    }
   ],
   "source": [
    "for k in countdown(3):\n",
    "    print(k)"
   ]
  },
  {
   "cell_type": "code",
   "execution_count": 66,
   "id": "f361c0d0",
   "metadata": {},
   "outputs": [],
   "source": [
    "def prefixes(s):\n",
    "    if s:\n",
    "        yield from prefixes(s[:-1])\n",
    "        yield s\n",
    "        # for x in s[:-1]:\n",
    "        #     yield x"
   ]
  },
  {
   "cell_type": "code",
   "execution_count": 67,
   "id": "e892c531",
   "metadata": {},
   "outputs": [
    {
     "data": {
      "text/plain": [
       "['b', 'o', 't']"
      ]
     },
     "execution_count": 67,
     "metadata": {},
     "output_type": "execute_result"
    }
   ],
   "source": [
    "list(prefixes('both'))"
   ]
  },
  {
   "cell_type": "code",
   "execution_count": 58,
   "id": "66848665",
   "metadata": {},
   "outputs": [],
   "source": [
    "def substrings(s):\n",
    "    if s:\n",
    "        yield from prefixes(s)\n",
    "        yield from substrings(s[1:])"
   ]
  },
  {
   "cell_type": "code",
   "execution_count": 59,
   "id": "604f539e",
   "metadata": {},
   "outputs": [
    {
     "data": {
      "text/plain": [
       "['t', 'to', 'top', 'tops', 'o', 'op', 'ops', 'p', 'ps', 's']"
      ]
     },
     "execution_count": 59,
     "metadata": {},
     "output_type": "execute_result"
    }
   ],
   "source": [
    "list(substrings('tops'))"
   ]
  },
  {
   "cell_type": "code",
   "execution_count": 68,
   "id": "c270f6aa",
   "metadata": {},
   "outputs": [],
   "source": [
    "class clown:\n",
    "    nose = 'big and red'\n",
    "    def dance():\n",
    "        return 'no thanks'\n"
   ]
  },
  {
   "cell_type": "code",
   "execution_count": 69,
   "id": "8d4dc7ab",
   "metadata": {},
   "outputs": [
    {
     "data": {
      "text/plain": [
       "'big and red'"
      ]
     },
     "execution_count": 69,
     "metadata": {},
     "output_type": "execute_result"
    }
   ],
   "source": [
    "clown.nose"
   ]
  },
  {
   "cell_type": "code",
   "execution_count": 70,
   "id": "0be5c443",
   "metadata": {},
   "outputs": [
    {
     "data": {
      "text/plain": [
       "'no thanks'"
      ]
     },
     "execution_count": 70,
     "metadata": {},
     "output_type": "execute_result"
    }
   ],
   "source": [
    "clown.dance()"
   ]
  },
  {
   "cell_type": "code",
   "execution_count": 71,
   "id": "5063442d",
   "metadata": {},
   "outputs": [],
   "source": [
    "class Account:\n",
    "    def __init__(self, account_holder):\n",
    "        self.balance = 0 \n",
    "        self.holder = account_holder"
   ]
  },
  {
   "cell_type": "code",
   "execution_count": 72,
   "id": "d89d6962",
   "metadata": {},
   "outputs": [
    {
     "data": {
      "text/plain": [
       "0"
      ]
     },
     "execution_count": 72,
     "metadata": {},
     "output_type": "execute_result"
    }
   ],
   "source": [
    "a = Account('Jim')\n",
    "a.balance"
   ]
  },
  {
   "cell_type": "code",
   "execution_count": 74,
   "id": "319f6860",
   "metadata": {},
   "outputs": [
    {
     "data": {
      "text/plain": [
       "'Jim'"
      ]
     },
     "execution_count": 74,
     "metadata": {},
     "output_type": "execute_result"
    }
   ],
   "source": [
    "a.holder"
   ]
  },
  {
   "cell_type": "code",
   "execution_count": 75,
   "id": "4a8e5f84",
   "metadata": {},
   "outputs": [
    {
     "data": {
      "text/plain": [
       "True"
      ]
     },
     "execution_count": 75,
     "metadata": {},
     "output_type": "execute_result"
    }
   ],
   "source": [
    "c = a\n",
    "c is a "
   ]
  },
  {
   "cell_type": "code",
   "execution_count": 76,
   "id": "5c704771",
   "metadata": {},
   "outputs": [],
   "source": [
    "class Account:\n",
    "    def __init__(self, account_holder):\n",
    "        self.balance = 0 \n",
    "        self.holder = account_holder\n",
    "    \n",
    "    def deposit(self, amount):\n",
    "        self.balance = self.balance + amount\n",
    "        return self.balance\n",
    "    \n",
    "    def withdraw(self, amount):\n",
    "        if amount > self.balance:\n",
    "            return 'insufficient balance'\n",
    "        self.balance = self.balance - amount\n",
    "        return self.balance"
   ]
  },
  {
   "cell_type": "code",
   "execution_count": 77,
   "id": "67384e32",
   "metadata": {},
   "outputs": [
    {
     "data": {
      "text/plain": [
       "100"
      ]
     },
     "execution_count": 77,
     "metadata": {},
     "output_type": "execute_result"
    }
   ],
   "source": [
    "tom_account = Account('Tom')\n",
    "tom_account.deposit(100)"
   ]
  },
  {
   "cell_type": "code",
   "execution_count": 78,
   "id": "656a4ff4",
   "metadata": {},
   "outputs": [
    {
     "data": {
      "text/plain": [
       "<__main__.Account at 0x168130d6210>"
      ]
     },
     "execution_count": 78,
     "metadata": {},
     "output_type": "execute_result"
    }
   ],
   "source": [
    "tom_account"
   ]
  },
  {
   "cell_type": "code",
   "execution_count": 79,
   "id": "ca2ef52c",
   "metadata": {},
   "outputs": [
    {
     "data": {
      "text/plain": [
       "100"
      ]
     },
     "execution_count": 79,
     "metadata": {},
     "output_type": "execute_result"
    }
   ],
   "source": [
    "tom_account.balance"
   ]
  },
  {
   "cell_type": "code",
   "execution_count": 80,
   "id": "bdb12575",
   "metadata": {},
   "outputs": [
    {
     "data": {
      "text/plain": [
       "70"
      ]
     },
     "execution_count": 80,
     "metadata": {},
     "output_type": "execute_result"
    }
   ],
   "source": [
    "tom_account.withdraw(30)"
   ]
  },
  {
   "cell_type": "code",
   "execution_count": 81,
   "id": "9a8209df",
   "metadata": {},
   "outputs": [
    {
     "data": {
      "text/plain": [
       "70"
      ]
     },
     "execution_count": 81,
     "metadata": {},
     "output_type": "execute_result"
    }
   ],
   "source": [
    "tom_account.balance"
   ]
  },
  {
   "cell_type": "code",
   "execution_count": 82,
   "id": "085dec06",
   "metadata": {},
   "outputs": [
    {
     "data": {
      "text/plain": [
       "70"
      ]
     },
     "execution_count": 82,
     "metadata": {},
     "output_type": "execute_result"
    }
   ],
   "source": [
    "getattr(tom_account, 'balance')"
   ]
  },
  {
   "cell_type": "code",
   "execution_count": 83,
   "id": "c1d439a6",
   "metadata": {},
   "outputs": [
    {
     "data": {
      "text/plain": [
       "170"
      ]
     },
     "execution_count": 83,
     "metadata": {},
     "output_type": "execute_result"
    }
   ],
   "source": [
    "tom_account.deposit(100)"
   ]
  },
  {
   "cell_type": "code",
   "execution_count": 84,
   "id": "5a978444",
   "metadata": {},
   "outputs": [
    {
     "data": {
      "text/plain": [
       "170"
      ]
     },
     "execution_count": 84,
     "metadata": {},
     "output_type": "execute_result"
    }
   ],
   "source": [
    "getattr(tom_account, 'balance')"
   ]
  },
  {
   "cell_type": "code",
   "execution_count": 85,
   "id": "755996e4",
   "metadata": {},
   "outputs": [
    {
     "data": {
      "text/plain": [
       "True"
      ]
     },
     "execution_count": 85,
     "metadata": {},
     "output_type": "execute_result"
    }
   ],
   "source": [
    "hasattr(tom_account, 'balance')"
   ]
  },
  {
   "cell_type": "code",
   "execution_count": 86,
   "id": "aee69c6a",
   "metadata": {},
   "outputs": [
    {
     "data": {
      "text/plain": [
       "False"
      ]
     },
     "execution_count": 86,
     "metadata": {},
     "output_type": "execute_result"
    }
   ],
   "source": [
    "hasattr(tom_account, 'lance')"
   ]
  },
  {
   "cell_type": "code",
   "execution_count": 87,
   "id": "c3845bee",
   "metadata": {},
   "outputs": [
    {
     "data": {
      "text/plain": [
       "function"
      ]
     },
     "execution_count": 87,
     "metadata": {},
     "output_type": "execute_result"
    }
   ],
   "source": [
    "type(Account.deposit)"
   ]
  },
  {
   "cell_type": "code",
   "execution_count": 88,
   "id": "131aec84",
   "metadata": {},
   "outputs": [
    {
     "data": {
      "text/plain": [
       "method"
      ]
     },
     "execution_count": 88,
     "metadata": {},
     "output_type": "execute_result"
    }
   ],
   "source": [
    "type(tom_account.deposit)"
   ]
  },
  {
   "cell_type": "code",
   "execution_count": 89,
   "id": "616b7b09",
   "metadata": {},
   "outputs": [
    {
     "data": {
      "text/plain": [
       "270"
      ]
     },
     "execution_count": 89,
     "metadata": {},
     "output_type": "execute_result"
    }
   ],
   "source": [
    "Account.deposit(tom_account, 100)"
   ]
  },
  {
   "cell_type": "code",
   "execution_count": 90,
   "id": "ce213873",
   "metadata": {},
   "outputs": [
    {
     "data": {
      "text/plain": [
       "270"
      ]
     },
     "execution_count": 90,
     "metadata": {},
     "output_type": "execute_result"
    }
   ],
   "source": [
    "tom_account.balance"
   ]
  },
  {
   "cell_type": "code",
   "execution_count": 91,
   "id": "1697fb4c",
   "metadata": {},
   "outputs": [],
   "source": [
    "class Account:\n",
    "\n",
    "    interest = 0.02 # A class attribute\n",
    "\n",
    "    def __init__(self, account_holder):\n",
    "        self.balance = 0 \n",
    "        self.holder = account_holder\n",
    "    \n",
    "    def deposit(self, amount):\n",
    "        self.balance = self.balance + amount\n",
    "        return self.balance\n",
    "    \n",
    "    def withdraw(self, amount):\n",
    "        if amount > self.balance:\n",
    "            return 'insufficient balance'\n",
    "        self.balance = self.balance - amount\n",
    "        return self.balance"
   ]
  },
  {
   "cell_type": "code",
   "execution_count": 92,
   "id": "7c784094",
   "metadata": {},
   "outputs": [],
   "source": [
    "tom_account = Account('Tom')"
   ]
  },
  {
   "cell_type": "code",
   "execution_count": 93,
   "id": "03d82c29",
   "metadata": {},
   "outputs": [],
   "source": [
    "jim_account = Account('Jim')"
   ]
  },
  {
   "cell_type": "code",
   "execution_count": 94,
   "id": "c28d4f06",
   "metadata": {},
   "outputs": [
    {
     "data": {
      "text/plain": [
       "0.02"
      ]
     },
     "execution_count": 94,
     "metadata": {},
     "output_type": "execute_result"
    }
   ],
   "source": [
    "tom_account.interest"
   ]
  },
  {
   "cell_type": "code",
   "execution_count": 95,
   "id": "ef028b44",
   "metadata": {},
   "outputs": [
    {
     "data": {
      "text/plain": [
       "0.02"
      ]
     },
     "execution_count": 95,
     "metadata": {},
     "output_type": "execute_result"
    }
   ],
   "source": [
    "jim_account.interest"
   ]
  },
  {
   "cell_type": "code",
   "execution_count": 96,
   "id": "62071858",
   "metadata": {},
   "outputs": [
    {
     "data": {
      "text/plain": [
       "<function __main__.Account.deposit(self, amount)>"
      ]
     },
     "execution_count": 96,
     "metadata": {},
     "output_type": "execute_result"
    }
   ],
   "source": [
    "Account.deposit"
   ]
  },
  {
   "cell_type": "code",
   "execution_count": 97,
   "id": "6cc9399c",
   "metadata": {},
   "outputs": [
    {
     "data": {
      "text/plain": [
       "10"
      ]
     },
     "execution_count": 97,
     "metadata": {},
     "output_type": "execute_result"
    }
   ],
   "source": [
    "g = Account.deposit\n",
    "g(a, 10)"
   ]
  },
  {
   "cell_type": "code",
   "execution_count": 98,
   "id": "272a97cf",
   "metadata": {},
   "outputs": [
    {
     "data": {
      "text/plain": [
       "10"
      ]
     },
     "execution_count": 98,
     "metadata": {},
     "output_type": "execute_result"
    }
   ],
   "source": [
    "a.balance"
   ]
  },
  {
   "cell_type": "code",
   "execution_count": 103,
   "id": "4b3a3976",
   "metadata": {},
   "outputs": [],
   "source": [
    "class Account:\n",
    "\n",
    "    # interest = 0.02 # A class attribute\n",
    "\n",
    "    def __init__(self, account_holder):\n",
    "        self.balance = 0 \n",
    "        self.holder = account_holder\n",
    "        self.deposit(400)\n",
    "    \n",
    "    def deposit(self, amount):\n",
    "        self.balance += amount\n",
    "        return self.balance\n",
    "    \n",
    "    def withdraw(self, amount):\n",
    "        if amount > self.balance:\n",
    "            return 'insufficient balance'\n",
    "        self.balance = self.balance - amount\n",
    "        return self.balance"
   ]
  },
  {
   "cell_type": "code",
   "execution_count": 101,
   "id": "6ca19cc5",
   "metadata": {},
   "outputs": [],
   "source": [
    "john_account = Account('John')"
   ]
  },
  {
   "cell_type": "code",
   "execution_count": 102,
   "id": "568ee6f6",
   "metadata": {},
   "outputs": [
    {
     "data": {
      "text/plain": [
       "400"
      ]
     },
     "execution_count": 102,
     "metadata": {},
     "output_type": "execute_result"
    }
   ],
   "source": [
    "john_account.balance"
   ]
  },
  {
   "cell_type": "code",
   "execution_count": 104,
   "id": "1b226a31",
   "metadata": {},
   "outputs": [],
   "source": [
    "Account.interst = 0.03"
   ]
  },
  {
   "cell_type": "code",
   "execution_count": 105,
   "id": "01cfe35a",
   "metadata": {},
   "outputs": [],
   "source": [
    "a = Account('John')"
   ]
  },
  {
   "cell_type": "code",
   "execution_count": 106,
   "id": "a157e998",
   "metadata": {},
   "outputs": [
    {
     "data": {
      "text/plain": [
       "0.03"
      ]
     },
     "execution_count": 106,
     "metadata": {},
     "output_type": "execute_result"
    }
   ],
   "source": [
    "a.interst"
   ]
  },
  {
   "cell_type": "code",
   "execution_count": 107,
   "id": "53f9d77c",
   "metadata": {},
   "outputs": [],
   "source": [
    "a.interst = 0.05"
   ]
  },
  {
   "cell_type": "code",
   "execution_count": 108,
   "id": "edf41628",
   "metadata": {},
   "outputs": [
    {
     "data": {
      "text/plain": [
       "0.05"
      ]
     },
     "execution_count": 108,
     "metadata": {},
     "output_type": "execute_result"
    }
   ],
   "source": [
    "a.interst"
   ]
  },
  {
   "cell_type": "code",
   "execution_count": 109,
   "id": "8268985b",
   "metadata": {},
   "outputs": [
    {
     "data": {
      "text/plain": [
       "0.03"
      ]
     },
     "execution_count": 109,
     "metadata": {},
     "output_type": "execute_result"
    }
   ],
   "source": [
    "Account.interst"
   ]
  },
  {
   "cell_type": "code",
   "execution_count": 143,
   "id": "bc6df4d8",
   "metadata": {},
   "outputs": [],
   "source": [
    "class Account:\n",
    "\n",
    "    # interest = 0.02 # A class attribute\n",
    "\n",
    "    def __init__(self, account_holder):\n",
    "        self.balance = 0 \n",
    "        self.holder = account_holder\n",
    "        self.deposit(400)\n",
    "    \n",
    "    def deposit(self, amount):\n",
    "        self.balance += amount\n",
    "        return self.balance\n",
    "    \n",
    "    def withdraw(self, amount):\n",
    "        # self.__check_that_balance_is_not_negative()\n",
    "\n",
    "        if amount > self.balance:\n",
    "            return 'insufficient balance'\n",
    "        self.balance = self.balance - amount\n",
    "        return self.balance\n",
    "    \n",
    "    # getter\n",
    "    def get_balance(self):\n",
    "        return self.balance\n",
    "    \n",
    "    # setter\n",
    "    def set_balance(self, value):\n",
    "        self.balance = value\n",
    "\n",
    "    # put 2 __ in the first place of naming, it can protect this function from outside accessing \n",
    "    # put 1 _ in the first place of naming, it was told by the writer that it should not be accessed directly with\n",
    "    def __check_that_balance_is_not_negative(self):\n",
    "        assert self.balance >= 0, 'balance should be positive integer'"
   ]
  },
  {
   "cell_type": "code",
   "execution_count": 144,
   "id": "bd48a044",
   "metadata": {},
   "outputs": [],
   "source": [
    "a = Account(a)"
   ]
  },
  {
   "cell_type": "code",
   "execution_count": 145,
   "id": "f3b68f27",
   "metadata": {},
   "outputs": [
    {
     "data": {
      "text/plain": [
       "400"
      ]
     },
     "execution_count": 145,
     "metadata": {},
     "output_type": "execute_result"
    }
   ],
   "source": [
    "a.balance"
   ]
  },
  {
   "cell_type": "code",
   "execution_count": 147,
   "id": "cba465c3",
   "metadata": {},
   "outputs": [
    {
     "data": {
      "text/plain": [
       "'insufficient balance'"
      ]
     },
     "execution_count": 147,
     "metadata": {},
     "output_type": "execute_result"
    }
   ],
   "source": [
    "a.withdraw(400)"
   ]
  },
  {
   "cell_type": "code",
   "execution_count": 148,
   "id": "116af372",
   "metadata": {},
   "outputs": [],
   "source": [
    "a = [1, 2, 3]"
   ]
  },
  {
   "cell_type": "code",
   "execution_count": 149,
   "id": "7f4006fd",
   "metadata": {},
   "outputs": [],
   "source": [
    "del a[0]"
   ]
  },
  {
   "cell_type": "code",
   "execution_count": 150,
   "id": "6bb4d363",
   "metadata": {},
   "outputs": [
    {
     "data": {
      "text/plain": [
       "[2, 3]"
      ]
     },
     "execution_count": 150,
     "metadata": {},
     "output_type": "execute_result"
    }
   ],
   "source": [
    "a"
   ]
  },
  {
   "cell_type": "code",
   "execution_count": 151,
   "id": "cce43f1f",
   "metadata": {},
   "outputs": [],
   "source": [
    "a.remove(2)"
   ]
  },
  {
   "cell_type": "code",
   "execution_count": 152,
   "id": "8cece2c8",
   "metadata": {},
   "outputs": [
    {
     "data": {
      "text/plain": [
       "[3]"
      ]
     },
     "execution_count": 152,
     "metadata": {},
     "output_type": "execute_result"
    }
   ],
   "source": [
    "a"
   ]
  },
  {
   "cell_type": "code",
   "execution_count": 153,
   "id": "5adfde22",
   "metadata": {},
   "outputs": [],
   "source": [
    "class math:\n",
    "    @staticmethod\n",
    "    def square(x):\n",
    "        return x*x"
   ]
  },
  {
   "cell_type": "code",
   "execution_count": 154,
   "id": "bffe3200",
   "metadata": {},
   "outputs": [
    {
     "data": {
      "text/plain": [
       "25"
      ]
     },
     "execution_count": 154,
     "metadata": {},
     "output_type": "execute_result"
    }
   ],
   "source": [
    "math.square(5)"
   ]
  },
  {
   "cell_type": "code",
   "execution_count": 1,
   "id": "faaf76de",
   "metadata": {},
   "outputs": [],
   "source": [
    "def make_withdraw(balance):\n",
    "    def withdraw(amount):\n",
    "        nonlocal balance\n",
    "        if amount > balance:\n",
    "            return 'insufficient funds'\n",
    "        balance = balance - amount\n",
    "        return balance\n",
    "    return withdraw"
   ]
  },
  {
   "cell_type": "code",
   "execution_count": 3,
   "id": "4f5a3ba3",
   "metadata": {},
   "outputs": [],
   "source": [
    "withdraw = make_withdraw(1000)"
   ]
  },
  {
   "cell_type": "code",
   "execution_count": 4,
   "id": "e0dd6e9a",
   "metadata": {},
   "outputs": [
    {
     "data": {
      "text/plain": [
       "<function __main__.make_withdraw.<locals>.withdraw(amount)>"
      ]
     },
     "execution_count": 4,
     "metadata": {},
     "output_type": "execute_result"
    }
   ],
   "source": [
    "withdraw"
   ]
  },
  {
   "cell_type": "code",
   "execution_count": 5,
   "id": "87df19ae",
   "metadata": {},
   "outputs": [
    {
     "data": {
      "text/plain": [
       "900"
      ]
     },
     "execution_count": 5,
     "metadata": {},
     "output_type": "execute_result"
    }
   ],
   "source": [
    "withdraw(100)"
   ]
  },
  {
   "cell_type": "code",
   "execution_count": 6,
   "id": "4835eb91",
   "metadata": {},
   "outputs": [
    {
     "data": {
      "text/plain": [
       "0"
      ]
     },
     "execution_count": 6,
     "metadata": {},
     "output_type": "execute_result"
    }
   ],
   "source": [
    "withdraw(900)"
   ]
  },
  {
   "cell_type": "code",
   "execution_count": 7,
   "id": "ee9e8081",
   "metadata": {},
   "outputs": [
    {
     "data": {
      "text/plain": [
       "'insufficient funds'"
      ]
     },
     "execution_count": 7,
     "metadata": {},
     "output_type": "execute_result"
    }
   ],
   "source": [
    "withdraw(900)"
   ]
  },
  {
   "cell_type": "code",
   "execution_count": 33,
   "id": "c2bc996c",
   "metadata": {},
   "outputs": [],
   "source": [
    "def make_bank(balance):\n",
    "    def bank(message, amount):\n",
    "        nonlocal balance\n",
    "        if message != 'deposit' and message != 'withdraw':\n",
    "            return 'invalid message'\n",
    "        elif message == 'withdraw' and amount > balance:\n",
    "            return 'insufficient funds'\n",
    "        elif message == 'withdraw':\n",
    "            balance = balance - amount\n",
    "            return balance\n",
    "        elif message == 'deposit':\n",
    "            balance = balance + amount\n",
    "            return balance\n",
    "    return bank\n",
    "\n"
   ]
  },
  {
   "cell_type": "code",
   "execution_count": 34,
   "id": "bb11abaf",
   "metadata": {},
   "outputs": [],
   "source": [
    "b = make_bank(1000)"
   ]
  },
  {
   "cell_type": "code",
   "execution_count": null,
   "id": "ad0d6773",
   "metadata": {},
   "outputs": [],
   "source": [
    "b('deposit', 1000)"
   ]
  },
  {
   "cell_type": "code",
   "execution_count": 13,
   "id": "9d3942c8",
   "metadata": {},
   "outputs": [],
   "source": [
    "def make_withdraw(balance, password):\n",
    "    attempts = []\n",
    "    def withdraw(amount, enter_password):\n",
    "        nonlocal balance, password, attempts\n",
    "        if amount > balance:\n",
    "            return 'insufficient funds'\n",
    "        elif enter_password != password and len(attempts) < 3:\n",
    "            attempts.extend(enter_password)\n",
    "            return 'incorrect password'\n",
    "        elif len(attempts) == 3:\n",
    "            return 'Frozen account. Attempts: ' + str(attempts)\n",
    "        balance = balance - amount\n",
    "        return balance\n",
    "    return withdraw"
   ]
  },
  {
   "cell_type": "code",
   "execution_count": 14,
   "id": "ba24196e",
   "metadata": {},
   "outputs": [],
   "source": [
    "a = make_withdraw(100, 'abcd')"
   ]
  },
  {
   "cell_type": "code",
   "execution_count": 15,
   "id": "bc23852d",
   "metadata": {},
   "outputs": [
    {
     "data": {
      "text/plain": [
       "90"
      ]
     },
     "execution_count": 15,
     "metadata": {},
     "output_type": "execute_result"
    }
   ],
   "source": [
    "a(10, 'abcd')"
   ]
  },
  {
   "cell_type": "code",
   "execution_count": 19,
   "id": "f1137c26",
   "metadata": {},
   "outputs": [
    {
     "data": {
      "text/plain": [
       "\"Frozen account. Attempts: ['b', 'a', 'c']\""
      ]
     },
     "execution_count": 19,
     "metadata": {},
     "output_type": "execute_result"
    }
   ],
   "source": [
    "a(10, 'd')"
   ]
  },
  {
   "cell_type": "code",
   "execution_count": 20,
   "id": "ffa060df",
   "metadata": {},
   "outputs": [
    {
     "data": {
      "text/plain": [
       "str"
      ]
     },
     "execution_count": 20,
     "metadata": {},
     "output_type": "execute_result"
    }
   ],
   "source": [
    "type(a(10, 'abcd'))"
   ]
  },
  {
   "cell_type": "code",
   "execution_count": 122,
   "id": "a3c9d8ed",
   "metadata": {},
   "outputs": [],
   "source": [
    "def repeated(t, k):\n",
    "    assert k > 1\n",
    "\n",
    "    rep_times = 1\n",
    "    cur_num = 0\n",
    "    pre_num = 0\n",
    "\n",
    "    try:\n",
    "        while t:\n",
    "            pre_num = cur_num\n",
    "            cur_num = next(t)\n",
    "            if pre_num != cur_num:\n",
    "                rep_times == 1\n",
    "            elif pre_num == cur_num:\n",
    "                rep_times += 1\n",
    "\n",
    "            if rep_times == k:\n",
    "                return cur_num\n",
    "    except StopIteration:\n",
    "        print('no more valid number found repeated ', k, ' times')\n",
    "\n"
   ]
  },
  {
   "cell_type": "code",
   "execution_count": 123,
   "id": "551ffc41",
   "metadata": {},
   "outputs": [
    {
     "data": {
      "text/plain": [
       "2"
      ]
     },
     "execution_count": 123,
     "metadata": {},
     "output_type": "execute_result"
    }
   ],
   "source": [
    "s = iter([3, 2, 2, 2, 1, 2, 1, 4, 4, 5, 5, 5])\n",
    "repeated(s, 3)"
   ]
  },
  {
   "cell_type": "code",
   "execution_count": 125,
   "id": "92d5e5f1",
   "metadata": {},
   "outputs": [
    {
     "name": "stdout",
     "output_type": "stream",
     "text": [
      "no more valid number found repeatet  3  times\n"
     ]
    }
   ],
   "source": [
    "repeated(s, 3)"
   ]
  },
  {
   "cell_type": "code",
   "execution_count": 152,
   "id": "f7642866",
   "metadata": {},
   "outputs": [],
   "source": [
    "def permutations(seq):\n",
    "    if len(seq) <= 1:\n",
    "        yield seq\n",
    "    else:\n",
    "        for i in range(len(seq)):\n",
    "            for perm in permutations(seq[:i] + seq[i+1:]):\n",
    "                yield [seq[i]] + perm"
   ]
  },
  {
   "cell_type": "code",
   "execution_count": 155,
   "id": "cd8284e6",
   "metadata": {},
   "outputs": [],
   "source": [
    "perms = permutations([1,2,3])"
   ]
  },
  {
   "cell_type": "code",
   "execution_count": 162,
   "id": "eae2afc5",
   "metadata": {},
   "outputs": [
    {
     "ename": "StopIteration",
     "evalue": "",
     "output_type": "error",
     "traceback": [
      "\u001b[1;31m---------------------------------------------------------------------------\u001b[0m",
      "\u001b[1;31mStopIteration\u001b[0m                             Traceback (most recent call last)",
      "Cell \u001b[1;32mIn[162], line 1\u001b[0m\n\u001b[1;32m----> 1\u001b[0m \u001b[39mnext\u001b[39;49m(perms)\n",
      "\u001b[1;31mStopIteration\u001b[0m: "
     ]
    }
   ],
   "source": [
    "next(perms)"
   ]
  },
  {
   "cell_type": "code",
   "execution_count": 141,
   "id": "7bd3ceed",
   "metadata": {},
   "outputs": [],
   "source": [
    "def gen():\n",
    "    yield 1\n",
    "    yield 2"
   ]
  },
  {
   "cell_type": "code",
   "execution_count": 142,
   "id": "3474e20c",
   "metadata": {},
   "outputs": [],
   "source": [
    "def gen2():\n",
    "    for elem in gen():\n",
    "        yield elem + 1"
   ]
  },
  {
   "cell_type": "code",
   "execution_count": 149,
   "id": "d7ddb0a0",
   "metadata": {},
   "outputs": [],
   "source": [
    "my_generator = gen2()"
   ]
  },
  {
   "cell_type": "code",
   "execution_count": 151,
   "id": "1c0c0364",
   "metadata": {},
   "outputs": [
    {
     "data": {
      "text/plain": [
       "3"
      ]
     },
     "execution_count": 151,
     "metadata": {},
     "output_type": "execute_result"
    }
   ],
   "source": [
    "next(my_generator)"
   ]
  },
  {
   "cell_type": "code",
   "execution_count": 163,
   "id": "75afd401",
   "metadata": {},
   "outputs": [],
   "source": [
    "class Account:\n",
    "\n",
    "    interest = 0.02 # A class attribute\n",
    "\n",
    "    def __init__(self, account_holder):\n",
    "        self.balance = 0 \n",
    "        self.holder = account_holder\n",
    "        self.deposit(400)\n",
    "    \n",
    "    def deposit(self, amount):\n",
    "        self.balance += amount\n",
    "        return self.balance\n",
    "    \n",
    "    def withdraw(self, amount):\n",
    "        # self.__check_that_balance_is_not_negative()\n",
    "        if amount > self.balance:\n",
    "            return 'insufficient balance'\n",
    "        self.balance = self.balance - amount\n",
    "        return self.balance\n",
    "    \n",
    "    # getter\n",
    "    def get_balance(self):\n",
    "        return self.balance\n",
    "    \n",
    "    # setter\n",
    "    def set_balance(self, value):\n",
    "        self.balance = value\n",
    "\n",
    "    # put 2 __ in the first place of naming, it can protect this function from outside accessing \n",
    "    # put 1 _ in the first place of naming, it was told by the writer that it should not be accessed directly with\n",
    "    def __check_that_balance_is_not_negative(self):\n",
    "        assert self.balance >= 0, 'balance should be positive integer'\n",
    "\n",
    "class CheckingAccount(Account):\n",
    "    # a bank account that charges for withdrawals\n",
    "    withdraw_fee = 1\n",
    "    interest = 0.01\n",
    "    def withdraw(self, amount):\n",
    "        return Account.withdraw(self, amount + self.withdraw_fee)\n",
    "    \n",
    "a = CheckingAccount('Jack')"
   ]
  },
  {
   "cell_type": "code",
   "execution_count": 165,
   "id": "bd5c46d2",
   "metadata": {},
   "outputs": [
    {
     "data": {
      "text/plain": [
       "299"
      ]
     },
     "execution_count": 165,
     "metadata": {},
     "output_type": "execute_result"
    }
   ],
   "source": [
    "a.withdraw(100)"
   ]
  },
  {
   "cell_type": "code",
   "execution_count": 167,
   "id": "e1416e83",
   "metadata": {},
   "outputs": [
    {
     "data": {
      "text/plain": [
       "0.01"
      ]
     },
     "execution_count": 167,
     "metadata": {},
     "output_type": "execute_result"
    }
   ],
   "source": [
    "a.interest"
   ]
  },
  {
   "cell_type": "code",
   "execution_count": 168,
   "id": "a249b293",
   "metadata": {},
   "outputs": [
    {
     "data": {
      "text/plain": [
       "399"
      ]
     },
     "execution_count": 168,
     "metadata": {},
     "output_type": "execute_result"
    }
   ],
   "source": [
    "a.deposit(100)"
   ]
  },
  {
   "cell_type": "code",
   "execution_count": 169,
   "id": "1b721190",
   "metadata": {},
   "outputs": [],
   "source": [
    "class Bank:\n",
    "    # a bank has accounts\n",
    "    def __init__(self):\n",
    "        self.accounts = []\n",
    "\n",
    "    def open_account(self, holder, amount, kind=Account):\n",
    "        account = kind(holder)\n",
    "        account.deposit(amount)\n",
    "        self.accounts.append(account)\n",
    "        return account\n",
    "    \n",
    "    def pay_interest(self):\n",
    "        for a in self.accounts:\n",
    "            a.deposit(a.balance * a.interest)\n",
    "        \n",
    "    def too_big_to_fail(self):\n",
    "        return len(self.accounts) > 1\n",
    "    \n",
    "    "
   ]
  },
  {
   "cell_type": "code",
   "execution_count": 172,
   "id": "dfd89b0e",
   "metadata": {},
   "outputs": [],
   "source": [
    "class A:\n",
    "    z = -1 \n",
    "    def f(self, x):\n",
    "        return B(x-1)\n",
    "\n",
    "class B(A):\n",
    "    n = 4\n",
    "    def __init__(self, y):\n",
    "        if y:\n",
    "            self.z = self.f(y)\n",
    "        else:\n",
    "            self.z = C(y+1)\n",
    "\n",
    "class C(B):\n",
    "    def f(self, x):\n",
    "        return x"
   ]
  },
  {
   "cell_type": "code",
   "execution_count": 173,
   "id": "83237b43",
   "metadata": {},
   "outputs": [],
   "source": [
    "a = A()\n",
    "b = B(1)\n",
    "b.n = 5"
   ]
  },
  {
   "cell_type": "code",
   "execution_count": 178,
   "id": "69692fb6",
   "metadata": {},
   "outputs": [],
   "source": [
    "class SavingAccount(Account):\n",
    "    # a bank account that charges for withdrawals\n",
    "    deposit_fee = 2\n",
    "    interest = 0.01\n",
    "    def deposit(self, amount):\n",
    "        return Account.deposit(self, amount - self.deposit_fee)"
   ]
  },
  {
   "cell_type": "code",
   "execution_count": 179,
   "id": "74bcbffc",
   "metadata": {},
   "outputs": [],
   "source": [
    "class AsSeenOnTVAccount(CheckingAccount, SavingAccount):\n",
    "    def __init__(self, account_holder):\n",
    "        self.holder = account_holder\n",
    "        self.balance = 1   # a free dollar"
   ]
  },
  {
   "cell_type": "code",
   "execution_count": 180,
   "id": "04c73a7c",
   "metadata": {},
   "outputs": [],
   "source": [
    "such_a_deal = AsSeenOnTVAccount('John')"
   ]
  },
  {
   "cell_type": "code",
   "execution_count": 181,
   "id": "7746c3b2",
   "metadata": {},
   "outputs": [
    {
     "data": {
      "text/plain": [
       "1"
      ]
     },
     "execution_count": 181,
     "metadata": {},
     "output_type": "execute_result"
    }
   ],
   "source": [
    "such_a_deal.balance"
   ]
  },
  {
   "cell_type": "code",
   "execution_count": 182,
   "id": "3b1459fa",
   "metadata": {},
   "outputs": [
    {
     "data": {
      "text/plain": [
       "'insufficient balance'"
      ]
     },
     "execution_count": 182,
     "metadata": {},
     "output_type": "execute_result"
    }
   ],
   "source": [
    "such_a_deal.withdraw(20)"
   ]
  },
  {
   "cell_type": "code",
   "execution_count": 183,
   "id": "ccb7c69b",
   "metadata": {},
   "outputs": [
    {
     "data": {
      "text/plain": [
       "19"
      ]
     },
     "execution_count": 183,
     "metadata": {},
     "output_type": "execute_result"
    }
   ],
   "source": [
    "such_a_deal.deposit(20)"
   ]
  },
  {
   "cell_type": "code",
   "execution_count": 184,
   "id": "5f05e851",
   "metadata": {},
   "outputs": [],
   "source": [
    "class Account:\n",
    "    def __init__(self, holder):\n",
    "        self.holder = holder\n",
    "        self.balance = 0\n",
    "    \n",
    "class Bank:\n",
    "    def __init__(self):\n",
    "        self.accounts = []\n",
    "    \n",
    "    def open_account(self, name):\n",
    "        self.accounts.append(Account(name))"
   ]
  },
  {
   "cell_type": "code",
   "execution_count": 185,
   "id": "62769538",
   "metadata": {},
   "outputs": [],
   "source": [
    "goldman = Bank()"
   ]
  },
  {
   "cell_type": "code",
   "execution_count": 186,
   "id": "b16f675a",
   "metadata": {},
   "outputs": [],
   "source": [
    "goldman.open_account('John')"
   ]
  },
  {
   "cell_type": "code",
   "execution_count": 188,
   "id": "46f2d1c6",
   "metadata": {},
   "outputs": [
    {
     "data": {
      "text/plain": [
       "<__main__.Bank at 0x24cd226fc10>"
      ]
     },
     "execution_count": 188,
     "metadata": {},
     "output_type": "execute_result"
    }
   ],
   "source": [
    "goldman"
   ]
  },
  {
   "cell_type": "code",
   "execution_count": 189,
   "id": "2b19db9c",
   "metadata": {},
   "outputs": [
    {
     "data": {
      "text/plain": [
       "[<__main__.Account at 0x24cd23b2b90>]"
      ]
     },
     "execution_count": 189,
     "metadata": {},
     "output_type": "execute_result"
    }
   ],
   "source": [
    "goldman.accounts"
   ]
  },
  {
   "cell_type": "code",
   "execution_count": 190,
   "id": "30bf8e91",
   "metadata": {},
   "outputs": [
    {
     "data": {
      "text/plain": [
       "<__main__.Account at 0x24cd23b2b90>"
      ]
     },
     "execution_count": 190,
     "metadata": {},
     "output_type": "execute_result"
    }
   ],
   "source": [
    "goldman.accounts[0]"
   ]
  },
  {
   "cell_type": "code",
   "execution_count": 191,
   "id": "5068fe3c",
   "metadata": {},
   "outputs": [
    {
     "data": {
      "text/plain": [
       "0"
      ]
     },
     "execution_count": 191,
     "metadata": {},
     "output_type": "execute_result"
    }
   ],
   "source": [
    "goldman.accounts[0].balance"
   ]
  },
  {
   "cell_type": "code",
   "execution_count": 192,
   "id": "b53b19f6",
   "metadata": {},
   "outputs": [
    {
     "data": {
      "text/plain": [
       "'John'"
      ]
     },
     "execution_count": 192,
     "metadata": {},
     "output_type": "execute_result"
    }
   ],
   "source": [
    "goldman.accounts[0].holder"
   ]
  },
  {
   "cell_type": "code",
   "execution_count": 193,
   "id": "58b0b89d",
   "metadata": {},
   "outputs": [],
   "source": [
    "class CheckingAccount(Account):\n",
    "    withdraw_fee = 1\n",
    "    interest = 0.01\n",
    "    def withdraw(self, amount):\n",
    "        return Account.withdraw(self, amount + self.withdraw_fee)\n",
    "        # alternatively\n",
    "        return super().withdraw(amount + self.withdraw_fee)"
   ]
  },
  {
   "cell_type": "code",
   "execution_count": 194,
   "id": "4bba98e7",
   "metadata": {},
   "outputs": [],
   "source": [
    "def max_subseq(n, t):\n",
    "    # return the maximum subsequence of length at most t that can be found in the given number n.\n",
    "    if t == 0 or n == 0:\n",
    "        return 0\n",
    "    \n",
    "    # n = 123, t = 2\n",
    "    last_digit = n % 10 # 3\n",
    "    rest = n // 10      # 12\n",
    "\n",
    "    keep_last_digit = max_subseq(rest, t-1) * 10 + last_digit  # 23\n",
    "    drop_last_digit = max_subseq(rest, t)                      # 12\n",
    "    return max(keep_last_digit, drop_last_digit)               # 23"
   ]
  },
  {
   "cell_type": "code",
   "execution_count": 195,
   "id": "a37e6445",
   "metadata": {},
   "outputs": [
    {
     "data": {
      "text/plain": [
       "225"
      ]
     },
     "execution_count": 195,
     "metadata": {},
     "output_type": "execute_result"
    }
   ],
   "source": [
    "max_subseq(20125, 3)"
   ]
  },
  {
   "cell_type": "code",
   "execution_count": 196,
   "id": "7483d049",
   "metadata": {},
   "outputs": [
    {
     "data": {
      "text/plain": [
       "'<built-in function min>'"
      ]
     },
     "execution_count": 196,
     "metadata": {},
     "output_type": "execute_result"
    }
   ],
   "source": [
    "repr(min)"
   ]
  },
  {
   "cell_type": "code",
   "execution_count": 197,
   "id": "08fc2ced",
   "metadata": {},
   "outputs": [],
   "source": [
    "from fractions import Fraction"
   ]
  },
  {
   "cell_type": "code",
   "execution_count": 199,
   "id": "e05dffe0",
   "metadata": {},
   "outputs": [
    {
     "data": {
      "text/plain": [
       "'Fraction(1, 2)'"
      ]
     },
     "execution_count": 199,
     "metadata": {},
     "output_type": "execute_result"
    }
   ],
   "source": [
    "half = Fraction(1, 2)\n",
    "repr(half)"
   ]
  },
  {
   "cell_type": "code",
   "execution_count": 200,
   "id": "29de2a84",
   "metadata": {},
   "outputs": [
    {
     "data": {
      "text/plain": [
       "'1/2'"
      ]
     },
     "execution_count": 200,
     "metadata": {},
     "output_type": "execute_result"
    }
   ],
   "source": [
    "str(half)"
   ]
  },
  {
   "cell_type": "code",
   "execution_count": 201,
   "id": "5b0b6d29",
   "metadata": {},
   "outputs": [
    {
     "name": "stdout",
     "output_type": "stream",
     "text": [
      "1/2\n"
     ]
    }
   ],
   "source": [
    "print(half)"
   ]
  },
  {
   "cell_type": "code",
   "execution_count": 202,
   "id": "939e0ab2",
   "metadata": {},
   "outputs": [
    {
     "data": {
      "text/plain": [
       "Fraction(1, 2)"
      ]
     },
     "execution_count": 202,
     "metadata": {},
     "output_type": "execute_result"
    }
   ],
   "source": [
    "eval(repr(half))"
   ]
  },
  {
   "cell_type": "code",
   "execution_count": 203,
   "id": "858c5aaf",
   "metadata": {},
   "outputs": [
    {
     "data": {
      "text/plain": [
       "0.5"
      ]
     },
     "execution_count": 203,
     "metadata": {},
     "output_type": "execute_result"
    }
   ],
   "source": [
    "eval(str(half))"
   ]
  },
  {
   "cell_type": "code",
   "execution_count": 204,
   "id": "182ffdee",
   "metadata": {},
   "outputs": [
    {
     "data": {
      "text/plain": [
       "'hello world'"
      ]
     },
     "execution_count": 204,
     "metadata": {},
     "output_type": "execute_result"
    }
   ],
   "source": [
    "s = 'hello world'\n",
    "s"
   ]
  },
  {
   "cell_type": "code",
   "execution_count": 205,
   "id": "7ff6d0c6",
   "metadata": {},
   "outputs": [
    {
     "data": {
      "text/plain": [
       "\"'hello world'\""
      ]
     },
     "execution_count": 205,
     "metadata": {},
     "output_type": "execute_result"
    }
   ],
   "source": [
    "repr(s)"
   ]
  },
  {
   "cell_type": "code",
   "execution_count": 206,
   "id": "bc2d388f",
   "metadata": {},
   "outputs": [
    {
     "name": "stdout",
     "output_type": "stream",
     "text": [
      "'hello world'\n"
     ]
    }
   ],
   "source": [
    "print(repr(s))"
   ]
  },
  {
   "cell_type": "code",
   "execution_count": 207,
   "id": "69f4ae7c",
   "metadata": {},
   "outputs": [
    {
     "name": "stdout",
     "output_type": "stream",
     "text": [
      "hello world\n"
     ]
    }
   ],
   "source": [
    "print(s)"
   ]
  },
  {
   "cell_type": "code",
   "execution_count": 208,
   "id": "db77700d",
   "metadata": {},
   "outputs": [
    {
     "data": {
      "text/plain": [
       "'hello world'"
      ]
     },
     "execution_count": 208,
     "metadata": {},
     "output_type": "execute_result"
    }
   ],
   "source": [
    "str(s)"
   ]
  },
  {
   "cell_type": "code",
   "execution_count": 209,
   "id": "632f72e9",
   "metadata": {},
   "outputs": [
    {
     "data": {
      "text/plain": [
       "\"'hello world'\""
      ]
     },
     "execution_count": 209,
     "metadata": {},
     "output_type": "execute_result"
    }
   ],
   "source": [
    "repr(s)"
   ]
  },
  {
   "cell_type": "code",
   "execution_count": 210,
   "id": "067c9922",
   "metadata": {},
   "outputs": [
    {
     "data": {
      "text/plain": [
       "'hello world'"
      ]
     },
     "execution_count": 210,
     "metadata": {},
     "output_type": "execute_result"
    }
   ],
   "source": [
    "eval(repr(s))"
   ]
  },
  {
   "cell_type": "code",
   "execution_count": 211,
   "id": "baf0e73e",
   "metadata": {},
   "outputs": [
    {
     "data": {
      "text/plain": [
       "'\\'\"\\\\\\'hello world\\\\\\'\"\\''"
      ]
     },
     "execution_count": 211,
     "metadata": {},
     "output_type": "execute_result"
    }
   ],
   "source": [
    "repr(repr(repr(s)))"
   ]
  },
  {
   "cell_type": "code",
   "execution_count": 212,
   "id": "f5395ae6",
   "metadata": {},
   "outputs": [
    {
     "ename": "SyntaxError",
     "evalue": "invalid syntax (<string>, line 1)",
     "output_type": "error",
     "traceback": [
      "Traceback \u001b[1;36m(most recent call last)\u001b[0m:\n",
      "\u001b[0m  File \u001b[0;32m~\\AppData\\Roaming\\Python\\Python311\\site-packages\\IPython\\core\\interactiveshell.py:3505\u001b[0m in \u001b[0;35mrun_code\u001b[0m\n    exec(code_obj, self.user_global_ns, self.user_ns)\u001b[0m\n",
      "\u001b[1;36m  Cell \u001b[1;32mIn[212], line 1\u001b[1;36m\n\u001b[1;33m    eval(s)\u001b[1;36m\n",
      "\u001b[1;36m  File \u001b[1;32m<string>:1\u001b[1;36m\u001b[0m\n\u001b[1;33m    hello world\u001b[0m\n\u001b[1;37m          ^\u001b[0m\n\u001b[1;31mSyntaxError\u001b[0m\u001b[1;31m:\u001b[0m invalid syntax\n"
     ]
    }
   ],
   "source": [
    "eval(s)"
   ]
  },
  {
   "cell_type": "code",
   "execution_count": 213,
   "id": "f0e4a562",
   "metadata": {},
   "outputs": [
    {
     "data": {
      "text/plain": [
       "'hello world'"
      ]
     },
     "execution_count": 213,
     "metadata": {},
     "output_type": "execute_result"
    }
   ],
   "source": [
    "eval(repr(s))"
   ]
  },
  {
   "cell_type": "code",
   "execution_count": 214,
   "id": "62879257",
   "metadata": {},
   "outputs": [
    {
     "data": {
      "text/plain": [
       "'Fraction(1, 2)'"
      ]
     },
     "execution_count": 214,
     "metadata": {},
     "output_type": "execute_result"
    }
   ],
   "source": [
    "half.__repr__()"
   ]
  },
  {
   "cell_type": "code",
   "execution_count": 215,
   "id": "4b30ee6c",
   "metadata": {},
   "outputs": [
    {
     "data": {
      "text/plain": [
       "'1/2'"
      ]
     },
     "execution_count": 215,
     "metadata": {},
     "output_type": "execute_result"
    }
   ],
   "source": [
    "half.__str__()"
   ]
  },
  {
   "cell_type": "code",
   "execution_count": 216,
   "id": "39c0374d",
   "metadata": {},
   "outputs": [],
   "source": [
    "class Ratio:\n",
    "    def __init__(self, n, d):\n",
    "        self.numer = n\n",
    "        self.denom = d\n",
    "\n",
    "    def __repr__(self):\n",
    "        return 'Ratio({0}, {1})'.format(self.numer, self.denom)\n",
    "    \n",
    "    def __str__(self):\n",
    "        return '{0}/{1}'.format(self.numer, self.denom)"
   ]
  },
  {
   "cell_type": "code",
   "execution_count": 217,
   "id": "c9657874",
   "metadata": {},
   "outputs": [],
   "source": [
    "half = Ratio(1, 2)"
   ]
  },
  {
   "cell_type": "code",
   "execution_count": 218,
   "id": "441c5e91",
   "metadata": {},
   "outputs": [
    {
     "name": "stdout",
     "output_type": "stream",
     "text": [
      "1/2\n"
     ]
    }
   ],
   "source": [
    "print(half)"
   ]
  },
  {
   "cell_type": "code",
   "execution_count": 219,
   "id": "e72f0714",
   "metadata": {},
   "outputs": [
    {
     "data": {
      "text/plain": [
       "Ratio(1, 2)"
      ]
     },
     "execution_count": 219,
     "metadata": {},
     "output_type": "execute_result"
    }
   ],
   "source": [
    "half"
   ]
  },
  {
   "cell_type": "code",
   "execution_count": 220,
   "id": "1276666c",
   "metadata": {},
   "outputs": [
    {
     "data": {
      "text/plain": [
       "'Ratio(1, 2)'"
      ]
     },
     "execution_count": 220,
     "metadata": {},
     "output_type": "execute_result"
    }
   ],
   "source": [
    "repr(half)"
   ]
  },
  {
   "cell_type": "code",
   "execution_count": 221,
   "id": "187239cc",
   "metadata": {},
   "outputs": [
    {
     "data": {
      "text/plain": [
       "Ratio(1, 2)"
      ]
     },
     "execution_count": 221,
     "metadata": {},
     "output_type": "execute_result"
    }
   ],
   "source": [
    "eval(repr(half))"
   ]
  },
  {
   "cell_type": "code",
   "execution_count": 222,
   "id": "d368217a",
   "metadata": {},
   "outputs": [
    {
     "data": {
      "text/plain": [
       "0.5"
      ]
     },
     "execution_count": 222,
     "metadata": {},
     "output_type": "execute_result"
    }
   ],
   "source": [
    "1/3 + 1/6"
   ]
  },
  {
   "cell_type": "code",
   "execution_count": 223,
   "id": "32173dd7",
   "metadata": {},
   "outputs": [
    {
     "ename": "AttributeError",
     "evalue": "'Ratio' object has no attribute '__add__'",
     "output_type": "error",
     "traceback": [
      "\u001b[1;31m---------------------------------------------------------------------------\u001b[0m",
      "\u001b[1;31mAttributeError\u001b[0m                            Traceback (most recent call last)",
      "Cell \u001b[1;32mIn[223], line 1\u001b[0m\n\u001b[1;32m----> 1\u001b[0m Ratio(\u001b[39m1\u001b[39;49m,\u001b[39m3\u001b[39;49m)\u001b[39m.\u001b[39;49m\u001b[39m__add__\u001b[39;49m(Ratio(\u001b[39m1\u001b[39m,\u001b[39m6\u001b[39m))\n",
      "\u001b[1;31mAttributeError\u001b[0m: 'Ratio' object has no attribute '__add__'"
     ]
    }
   ],
   "source": [
    "Ratio(1,3).__add__(Ratio(1,6))"
   ]
  },
  {
   "cell_type": "code",
   "execution_count": 258,
   "id": "2012d168",
   "metadata": {},
   "outputs": [],
   "source": [
    "class Kangaroo:\n",
    "    def __init__(self):\n",
    "        self.pouch_contents = []\n",
    "    \n",
    "    def put_in_pouch(self, x):\n",
    "        if x in self.pouch_contents:\n",
    "            print('object already in pouch')\n",
    "        else:\n",
    "            self.pouch_contents.append(x)\n",
    "    \n",
    "    def __str__(self):\n",
    "        if not self.pouch_contents:\n",
    "            return \"the kangaroo's pouch is empty\"\n",
    "        else:\n",
    "            return \"pouch contents: \" + str(self.pouch_contents)"
   ]
  },
  {
   "cell_type": "code",
   "execution_count": 259,
   "id": "a809fc3b",
   "metadata": {},
   "outputs": [],
   "source": [
    "short_driver = Kangaroo()"
   ]
  },
  {
   "cell_type": "code",
   "execution_count": 260,
   "id": "4c8d7cd2",
   "metadata": {},
   "outputs": [
    {
     "name": "stdout",
     "output_type": "stream",
     "text": [
      "the kangaroo's pouch is empty\n"
     ]
    }
   ],
   "source": [
    "print(short_driver)"
   ]
  },
  {
   "cell_type": "code",
   "execution_count": 261,
   "id": "0c40dcef",
   "metadata": {},
   "outputs": [],
   "source": [
    "short_driver.put_in_pouch('happy')"
   ]
  },
  {
   "cell_type": "code",
   "execution_count": 262,
   "id": "b3331601",
   "metadata": {},
   "outputs": [
    {
     "name": "stdout",
     "output_type": "stream",
     "text": [
      "pouch contents: ['happy']\n"
     ]
    }
   ],
   "source": [
    "print(short_driver)"
   ]
  },
  {
   "cell_type": "code",
   "execution_count": 263,
   "id": "072e42a5",
   "metadata": {},
   "outputs": [
    {
     "name": "stdout",
     "output_type": "stream",
     "text": [
      "pouch contents: ['happy', 'happy!']\n"
     ]
    }
   ],
   "source": [
    "short_driver.put_in_pouch('happy!')\n",
    "print(short_driver)"
   ]
  },
  {
   "cell_type": "code",
   "execution_count": 264,
   "id": "2841a044",
   "metadata": {},
   "outputs": [
    {
     "name": "stdout",
     "output_type": "stream",
     "text": [
      "pouch contents: ['happy', 'happy!', 'happy!!']\n"
     ]
    }
   ],
   "source": [
    "short_driver.put_in_pouch('happy!!')\n",
    "print(short_driver)"
   ]
  },
  {
   "cell_type": "code",
   "execution_count": 1,
   "id": "0a38e1d9",
   "metadata": {},
   "outputs": [
    {
     "data": {
      "text/plain": [
       "str"
      ]
     },
     "execution_count": 1,
     "metadata": {},
     "output_type": "execute_result"
    }
   ],
   "source": [
    "str"
   ]
  },
  {
   "cell_type": "code",
   "execution_count": 2,
   "id": "02226a33",
   "metadata": {},
   "outputs": [
    {
     "data": {
      "text/plain": [
       "type"
      ]
     },
     "execution_count": 2,
     "metadata": {},
     "output_type": "execute_result"
    }
   ],
   "source": [
    "type(str)"
   ]
  },
  {
   "cell_type": "code",
   "execution_count": 3,
   "id": "42b1134c",
   "metadata": {},
   "outputs": [
    {
     "data": {
      "text/plain": [
       "'2'"
      ]
     },
     "execution_count": 3,
     "metadata": {},
     "output_type": "execute_result"
    }
   ],
   "source": [
    "str(2)"
   ]
  },
  {
   "cell_type": "code",
   "execution_count": 7,
   "id": "bab2aac1",
   "metadata": {},
   "outputs": [
    {
     "data": {
      "text/plain": [
       "<slot wrapper '__repr__' of 'list' objects>"
      ]
     },
     "execution_count": 7,
     "metadata": {},
     "output_type": "execute_result"
    }
   ],
   "source": [
    "type([1, 2]).__repr__"
   ]
  },
  {
   "cell_type": "code",
   "execution_count": 8,
   "id": "cc8b2b3f",
   "metadata": {},
   "outputs": [],
   "source": [
    "def print_all_paths(t):\n",
    "    for path in all_paths(t):\n",
    "        print(path)\n",
    "\n",
    "def all_paths(t):\n",
    "    if is_leaf(t):\n",
    "        yield [label(t)]\n",
    "    for b in branches(t):\n",
    "        for path in all_paths(b):\n",
    "            yield [label(t)] + path               "
   ]
  },
  {
   "cell_type": "code",
   "execution_count": 217,
   "id": "f1b47ee3",
   "metadata": {},
   "outputs": [],
   "source": [
    "class Link:\n",
    "\n",
    "    empty = ()\n",
    "\n",
    "    def __init__(self, first, rest=empty):\n",
    "        assert rest is Link.empty or isinstance(rest, Link) # returns whether rest is a Link\n",
    "        self.first = first\n",
    "        self.rest = rest\n",
    "\n",
    "    def __repr__(self):\n",
    "        if self.rest:\n",
    "            rest_str = ', ' + repr(self.rest)\n",
    "        else:\n",
    "            rest_str = ''\n",
    "        return 'Link({0}{1}'.format(self.first, rest_str)\n",
    "    \n",
    "    def __str__(self):\n",
    "        string = '<'\n",
    "        while self.rest is not Link.empty:\n",
    "            string += str(self.first) + ' '\n",
    "            self = self.rest\n",
    "        return string + str(self.first) + '>'\n",
    "    "
   ]
  },
  {
   "cell_type": "code",
   "execution_count": 91,
   "id": "03a27e4e",
   "metadata": {},
   "outputs": [],
   "source": [
    "s = Link(3, Link(4, Link(5)))"
   ]
  },
  {
   "cell_type": "code",
   "execution_count": 92,
   "id": "f6f326a7",
   "metadata": {},
   "outputs": [
    {
     "data": {
      "text/plain": [
       "3"
      ]
     },
     "execution_count": 92,
     "metadata": {},
     "output_type": "execute_result"
    }
   ],
   "source": [
    "s.first"
   ]
  },
  {
   "cell_type": "code",
   "execution_count": 93,
   "id": "9625f3c7",
   "metadata": {},
   "outputs": [
    {
     "data": {
      "text/plain": [
       "Link(4, Link(5))"
      ]
     },
     "execution_count": 93,
     "metadata": {},
     "output_type": "execute_result"
    }
   ],
   "source": [
    "s.rest"
   ]
  },
  {
   "cell_type": "code",
   "execution_count": 94,
   "id": "8edfea34",
   "metadata": {},
   "outputs": [
    {
     "data": {
      "text/plain": [
       "4"
      ]
     },
     "execution_count": 94,
     "metadata": {},
     "output_type": "execute_result"
    }
   ],
   "source": [
    "s.rest.first"
   ]
  },
  {
   "cell_type": "code",
   "execution_count": 95,
   "id": "b525880a",
   "metadata": {},
   "outputs": [
    {
     "data": {
      "text/plain": [
       "5"
      ]
     },
     "execution_count": 95,
     "metadata": {},
     "output_type": "execute_result"
    }
   ],
   "source": [
    "s.rest.rest.first"
   ]
  },
  {
   "cell_type": "code",
   "execution_count": 16,
   "id": "cc78dc5f",
   "metadata": {},
   "outputs": [
    {
     "data": {
      "text/plain": [
       "True"
      ]
     },
     "execution_count": 16,
     "metadata": {},
     "output_type": "execute_result"
    }
   ],
   "source": [
    "s.rest.rest.rest is Link.empty"
   ]
  },
  {
   "cell_type": "code",
   "execution_count": 17,
   "id": "e4d2c841",
   "metadata": {},
   "outputs": [],
   "source": [
    "s.rest.first = 7"
   ]
  },
  {
   "cell_type": "code",
   "execution_count": 96,
   "id": "86070765",
   "metadata": {},
   "outputs": [
    {
     "data": {
      "text/plain": [
       "'Link(3, Link(4, Link(5)))'"
      ]
     },
     "execution_count": 96,
     "metadata": {},
     "output_type": "execute_result"
    }
   ],
   "source": [
    "repr(s)"
   ]
  },
  {
   "cell_type": "code",
   "execution_count": 22,
   "id": "95ca8a17",
   "metadata": {},
   "outputs": [
    {
     "data": {
      "text/plain": [
       "[1, 9, 25]"
      ]
     },
     "execution_count": 22,
     "metadata": {},
     "output_type": "execute_result"
    }
   ],
   "source": [
    "sqaure, odd = lambda x: x * x, lambda x: x % 2 == 1\n",
    "list(map(sqaure, filter(odd, range(1, 6))))"
   ]
  },
  {
   "cell_type": "code",
   "execution_count": null,
   "id": "da8fc844",
   "metadata": {},
   "outputs": [],
   "source": [
    "map_link(sqaure, filter_link(odd, range_link(1, 6)))"
   ]
  },
  {
   "cell_type": "code",
   "execution_count": 23,
   "id": "050bd02b",
   "metadata": {},
   "outputs": [],
   "source": [
    "def range_link(start, end):\n",
    "    if start >= end:\n",
    "        return Link.empty\n",
    "    else:\n",
    "        return Link(start, range_link(start + 1, end))\n",
    "\n",
    "def map_link(f, s):\n",
    "    if s is Link.empty:\n",
    "        return s\n",
    "    else:\n",
    "        return Link(f(s.first), map_link(f, s.rest))\n",
    "\n",
    "def filter_link(f, s):\n",
    "    if s is Link.empty:\n",
    "        return s\n",
    "    filtered_rest = filter_link(f, s.rest)\n",
    "    if f(s.first):\n",
    "        return Link(s.first, filtered_rest)\n",
    "    else:\n",
    "        return filtered_rest"
   ]
  },
  {
   "cell_type": "code",
   "execution_count": 24,
   "id": "e35d8c21",
   "metadata": {},
   "outputs": [],
   "source": [
    "r = range_link(1, 6)"
   ]
  },
  {
   "cell_type": "code",
   "execution_count": 25,
   "id": "d3a933f6",
   "metadata": {},
   "outputs": [
    {
     "data": {
      "text/plain": [
       "<__main__.Link at 0x1c9b6e9c590>"
      ]
     },
     "execution_count": 25,
     "metadata": {},
     "output_type": "execute_result"
    }
   ],
   "source": [
    "r"
   ]
  },
  {
   "cell_type": "code",
   "execution_count": 26,
   "id": "3e635a38",
   "metadata": {},
   "outputs": [],
   "source": [
    "s = filter_link(odd, r)"
   ]
  },
  {
   "cell_type": "code",
   "execution_count": 27,
   "id": "0b5fc787",
   "metadata": {},
   "outputs": [],
   "source": [
    "t = map_link(sqaure, s)"
   ]
  },
  {
   "cell_type": "code",
   "execution_count": 28,
   "id": "599908e4",
   "metadata": {},
   "outputs": [
    {
     "data": {
      "text/plain": [
       "<__main__.Link at 0x1c9b6e9c890>"
      ]
     },
     "execution_count": 28,
     "metadata": {},
     "output_type": "execute_result"
    }
   ],
   "source": [
    "t"
   ]
  },
  {
   "cell_type": "code",
   "execution_count": 31,
   "id": "ffc26de8",
   "metadata": {},
   "outputs": [
    {
     "data": {
      "text/plain": [
       "<__main__.Link at 0x1c9b6e9c890>"
      ]
     },
     "execution_count": 31,
     "metadata": {},
     "output_type": "execute_result"
    }
   ],
   "source": [
    "t"
   ]
  },
  {
   "cell_type": "code",
   "execution_count": 44,
   "id": "545b0dbe",
   "metadata": {},
   "outputs": [],
   "source": [
    "def add(s, v):\n",
    "    assert s is not Link.empty\n",
    "\n",
    "    if s.first > v:\n",
    "        s.first, s.rest = v, Link(s.first, s.rest)\n",
    "    elif s.first < v and empty(s.rest):\n",
    "        s.rest = Link(v)\n",
    "    elif s.first < v:\n",
    "        add(s.rest, v)\n",
    "    return s\n",
    "    "
   ]
  },
  {
   "cell_type": "code",
   "execution_count": 45,
   "id": "e2e570d3",
   "metadata": {},
   "outputs": [],
   "source": [
    "s = Link(1, Link(3, Link(5)))"
   ]
  },
  {
   "cell_type": "code",
   "execution_count": 46,
   "id": "495a072f",
   "metadata": {},
   "outputs": [
    {
     "ename": "NameError",
     "evalue": "name 'empty' is not defined",
     "output_type": "error",
     "traceback": [
      "\u001b[1;31m---------------------------------------------------------------------------\u001b[0m",
      "\u001b[1;31mNameError\u001b[0m                                 Traceback (most recent call last)",
      "Cell \u001b[1;32mIn[46], line 1\u001b[0m\n\u001b[1;32m----> 1\u001b[0m add(s, \u001b[39m3\u001b[39;49m)\u001b[39m.\u001b[39mfirst\n",
      "Cell \u001b[1;32mIn[44], line 6\u001b[0m, in \u001b[0;36madd\u001b[1;34m(s, v)\u001b[0m\n\u001b[0;32m      4\u001b[0m \u001b[39mif\u001b[39;00m s\u001b[39m.\u001b[39mfirst \u001b[39m>\u001b[39m v:\n\u001b[0;32m      5\u001b[0m     s\u001b[39m.\u001b[39mfirst, s\u001b[39m.\u001b[39mrest \u001b[39m=\u001b[39m v, s\n\u001b[1;32m----> 6\u001b[0m \u001b[39melif\u001b[39;00m s\u001b[39m.\u001b[39mfirst \u001b[39m<\u001b[39m v \u001b[39mand\u001b[39;00m empty(s\u001b[39m.\u001b[39mrest):\n\u001b[0;32m      7\u001b[0m     s\u001b[39m.\u001b[39mrest \u001b[39m=\u001b[39m Link(v)\n\u001b[0;32m      8\u001b[0m \u001b[39melif\u001b[39;00m s\u001b[39m.\u001b[39mfirst \u001b[39m<\u001b[39m v:\n",
      "\u001b[1;31mNameError\u001b[0m: name 'empty' is not defined"
     ]
    }
   ],
   "source": [
    "add(s, 3).first"
   ]
  },
  {
   "cell_type": "code",
   "execution_count": 68,
   "id": "2be4aeab",
   "metadata": {},
   "outputs": [],
   "source": [
    "class Tree:\n",
    "    def __init__(self, label, branches=[]):\n",
    "        self.label = label\n",
    "        for branch in branches:\n",
    "            assert isinstance(branch, Tree)\n",
    "        self.branches = list(branches)\n",
    "    \n",
    "    def __repr__(self):\n",
    "        if self.branches:\n",
    "            branch_str = ', ' + repr(self.branches)\n",
    "        else:\n",
    "            branch_str = ''\n",
    "        return 'Tree({0}{1})'.format(repr(self.label), branch_str)\n",
    "    \n",
    "    def __str__(self):\n",
    "        return '\\n'.join(self.indented())\n",
    "    \n",
    "    def indented(self):\n",
    "        lines = []\n",
    "        for b in self.branches:\n",
    "            for line in b.indented():\n",
    "                lines.append('  ' + line)\n",
    "        return [str(self.label)] + lines\n",
    "    \n",
    "    def is_leaf(self):\n",
    "        return not self.branches\n",
    "\n",
    "    # data abstraction method (functional programming)\n",
    "\n",
    "    # def tree(label, branches=[]):\n",
    "    #     for branch in branches:\n",
    "    #         assert is_tree(branch)\n",
    "    #     return [label] + list(branches)\n",
    "    \n",
    "    # def label(tree):\n",
    "    #     return tree[0]\n",
    "    \n",
    "    # def branches(tree):\n",
    "    #     return tree[1:]\n",
    "\n",
    "    # def is_leaf(t):\n",
    "    #   return not branches(t)\n",
    "\n",
    "def leaves(t):\n",
    "    if t.is_leaf():\n",
    "        return [t.label]\n",
    "    else:\n",
    "        all_leaves = []\n",
    "        for b in t.branches:\n",
    "            all_leaves.extend(leaves(b))\n",
    "        return all_leaves\n",
    "    \n",
    "def height(t):\n",
    "    if t.is_leaf():\n",
    "        return 0\n",
    "    else:\n",
    "        return 1 + max(height(b) for b in t.branches)"
   ]
  },
  {
   "cell_type": "code",
   "execution_count": 62,
   "id": "488126e5",
   "metadata": {},
   "outputs": [
    {
     "data": {
      "text/plain": [
       "Tree(1)"
      ]
     },
     "execution_count": 62,
     "metadata": {},
     "output_type": "execute_result"
    }
   ],
   "source": [
    "Tree(1)"
   ]
  },
  {
   "cell_type": "code",
   "execution_count": 63,
   "id": "b3284dd9",
   "metadata": {},
   "outputs": [],
   "source": [
    "a = Tree(1, [Tree(3), Tree(4)])"
   ]
  },
  {
   "cell_type": "code",
   "execution_count": 64,
   "id": "8116fe00",
   "metadata": {},
   "outputs": [
    {
     "name": "stdout",
     "output_type": "stream",
     "text": [
      "1\n",
      "  3\n",
      "  4\n"
     ]
    }
   ],
   "source": [
    "print(a)"
   ]
  },
  {
   "cell_type": "code",
   "execution_count": 66,
   "id": "a16ec9e6",
   "metadata": {},
   "outputs": [
    {
     "data": {
      "text/plain": [
       "[3, 4]"
      ]
     },
     "execution_count": 66,
     "metadata": {},
     "output_type": "execute_result"
    }
   ],
   "source": [
    "leaves(a)"
   ]
  },
  {
   "cell_type": "code",
   "execution_count": 67,
   "id": "4f6fab6d",
   "metadata": {},
   "outputs": [
    {
     "data": {
      "text/plain": [
       "7"
      ]
     },
     "execution_count": 67,
     "metadata": {},
     "output_type": "execute_result"
    }
   ],
   "source": [
    "sum(leaves(a))"
   ]
  },
  {
   "cell_type": "code",
   "execution_count": 69,
   "id": "0f71c5ef",
   "metadata": {},
   "outputs": [
    {
     "data": {
      "text/plain": [
       "1"
      ]
     },
     "execution_count": 69,
     "metadata": {},
     "output_type": "execute_result"
    }
   ],
   "source": [
    "height(a)"
   ]
  },
  {
   "cell_type": "code",
   "execution_count": 71,
   "id": "082a46b5",
   "metadata": {},
   "outputs": [],
   "source": [
    "def prune(t, n):\n",
    "    t.branches = [b for b in t.branches if b.label != n]\n",
    "    for b in t.branches:\n",
    "        prune(b, n)"
   ]
  },
  {
   "cell_type": "code",
   "execution_count": 88,
   "id": "6f8cc4fc",
   "metadata": {},
   "outputs": [],
   "source": [
    "def permutations(s):\n",
    "\n",
    "    if len(s) == 0:\n",
    "        yield []\n",
    "    for i in range(len(s)):\n",
    "        start = s[i] \n",
    "        rest = [s[j] for j in range(len(s)) if j != i]\n",
    "        for rest_permutation in permutations(rest):\n",
    "            yield [start] + rest_permutation\n",
    "        # alternatively\n",
    "        # yield from [[start] + rest_permutation for rest_permutation in permutations(rest)]"
   ]
  },
  {
   "cell_type": "code",
   "execution_count": 89,
   "id": "e1c9b900",
   "metadata": {},
   "outputs": [
    {
     "data": {
      "text/plain": [
       "[[1, 2, 3], [1, 3, 2], [2, 1, 3], [2, 3, 1], [3, 1, 2], [3, 2, 1]]"
      ]
     },
     "execution_count": 89,
     "metadata": {},
     "output_type": "execute_result"
    }
   ],
   "source": [
    "list(permutations([1,2,3]))"
   ]
  },
  {
   "cell_type": "code",
   "execution_count": 97,
   "id": "36d2daab",
   "metadata": {},
   "outputs": [],
   "source": [
    "def sqaure_tree(t):\n",
    "    return Tree(t.label * t.label, \n",
    "                [sqaure_tree(b) for b in t.branches])"
   ]
  },
  {
   "cell_type": "code",
   "execution_count": 98,
   "id": "0fc9636a",
   "metadata": {},
   "outputs": [
    {
     "data": {
      "text/plain": [
       "Tree(16, [Tree(4), Tree(9)])"
      ]
     },
     "execution_count": 98,
     "metadata": {},
     "output_type": "execute_result"
    }
   ],
   "source": [
    "sqaure_tree(Tree(4, [Tree(2), Tree(3)]))"
   ]
  },
  {
   "cell_type": "code",
   "execution_count": 139,
   "id": "f64aefb3",
   "metadata": {},
   "outputs": [],
   "source": [
    "class VendingMachine:\n",
    "    stock = 0\n",
    "\n",
    "    def __init__(self, name, money):\n",
    "        self.name = name\n",
    "        self.balance = money\n",
    "\n",
    "    def vend(self):\n",
    "        if self.stock == 0:\n",
    "            return 'Inventory empty. Restocking required.'\n",
    "        elif self.balance < 10:\n",
    "            return 'You must add $' + (10 - self.balance) + ' more funds.'\n",
    "        else:\n",
    "            self.balance  = self.balance - 10\n",
    "            self.stock = self.stock - 1\n",
    "            return 'Here is your candy and $' + str(self.balance) + ' change.'\n",
    "\n",
    "    def add_funds(self, money):\n",
    "        self.balance = self.balance + money\n",
    "        if self.stock == 0:\n",
    "            return 'Inventory empty. Restocking required. Here is your $' + str(self.balance)\n",
    "        else:\n",
    "            return 'Current balance: $' + str(self.balance)\n",
    "\n",
    "    def restock(self, quantity):\n",
    "        self.stock = self.stock + quantity\n",
    "        return 'Current ' + self.name + ' stock: ' + str(self.stock)\n"
   ]
  },
  {
   "cell_type": "code",
   "execution_count": 140,
   "id": "735c1099",
   "metadata": {},
   "outputs": [],
   "source": [
    "v = VendingMachine('candy', 10)"
   ]
  },
  {
   "cell_type": "code",
   "execution_count": 141,
   "id": "5d334e2e",
   "metadata": {},
   "outputs": [
    {
     "data": {
      "text/plain": [
       "'Inventory empty. Restocking required.'"
      ]
     },
     "execution_count": 141,
     "metadata": {},
     "output_type": "execute_result"
    }
   ],
   "source": [
    "v.vend()"
   ]
  },
  {
   "cell_type": "code",
   "execution_count": 142,
   "id": "62b76033",
   "metadata": {},
   "outputs": [
    {
     "data": {
      "text/plain": [
       "'Inventory empty. Restocking required. Here is your $25'"
      ]
     },
     "execution_count": 142,
     "metadata": {},
     "output_type": "execute_result"
    }
   ],
   "source": [
    "v.add_funds(15)"
   ]
  },
  {
   "cell_type": "code",
   "execution_count": 143,
   "id": "eee60b83",
   "metadata": {},
   "outputs": [
    {
     "data": {
      "text/plain": [
       "'Current candy stock: 2'"
      ]
     },
     "execution_count": 143,
     "metadata": {},
     "output_type": "execute_result"
    }
   ],
   "source": [
    "v.restock(2)"
   ]
  },
  {
   "cell_type": "code",
   "execution_count": 144,
   "id": "c62aca94",
   "metadata": {},
   "outputs": [
    {
     "data": {
      "text/plain": [
       "'Here is your candy and $15 change.'"
      ]
     },
     "execution_count": 144,
     "metadata": {},
     "output_type": "execute_result"
    }
   ],
   "source": [
    "v.vend()"
   ]
  },
  {
   "cell_type": "code",
   "execution_count": 145,
   "id": "3ba07aab",
   "metadata": {},
   "outputs": [
    {
     "data": {
      "text/plain": [
       "'Current balance: $22'"
      ]
     },
     "execution_count": 145,
     "metadata": {},
     "output_type": "execute_result"
    }
   ],
   "source": [
    "v.add_funds(7)"
   ]
  },
  {
   "cell_type": "code",
   "execution_count": 146,
   "id": "387f3466",
   "metadata": {},
   "outputs": [
    {
     "data": {
      "text/plain": [
       "'Here is your candy and $12 change.'"
      ]
     },
     "execution_count": 146,
     "metadata": {},
     "output_type": "execute_result"
    }
   ],
   "source": [
    "v.vend()"
   ]
  },
  {
   "cell_type": "code",
   "execution_count": 147,
   "id": "dc4cab3a",
   "metadata": {},
   "outputs": [
    {
     "name": "stdout",
     "output_type": "stream",
     "text": [
      "1 is a number. string is a string.\n"
     ]
    }
   ],
   "source": [
    "a,b = 1, 'string'\n",
    "print('{0} is a number. {1} is a string.'.format(a,b))"
   ]
  },
  {
   "cell_type": "code",
   "execution_count": 205,
   "id": "ba6ee385",
   "metadata": {},
   "outputs": [],
   "source": [
    "class Mint:\n",
    "    year = 0\n",
    "\n",
    "    def __init__(self, name='', cents=0):\n",
    "        self.current_year = 2020\n",
    "        self.name = name\n",
    "        self.update(self.current_year)\n",
    "        self.cents = cents\n",
    "    \n",
    "    def create(self, name):\n",
    "        return name(self.year)\n",
    "    \n",
    "    def update(self):\n",
    "        self.year = self.current_year\n",
    "\n",
    "class Coin:\n",
    "    cents = 0\n",
    "    \n",
    "    def __init__(self, year):\n",
    "        self.year = year\n",
    "\n",
    "    def worth(self, current_year):\n",
    "        print(self.cents, current_year, self.year, 0)\n",
    "        return self.cents + max(current_year - self.year - 50, 0)\n",
    "\n",
    "class Dime(Coin):\n",
    "    cents = 10\n",
    "\n",
    "class Nickel(Coin):\n",
    "    cents = 5\n"
   ]
  },
  {
   "cell_type": "code",
   "execution_count": 206,
   "id": "a3d8e13a",
   "metadata": {},
   "outputs": [],
   "source": [
    "mint = Mint()"
   ]
  },
  {
   "cell_type": "code",
   "execution_count": 207,
   "id": "71009a56",
   "metadata": {},
   "outputs": [
    {
     "data": {
      "text/plain": [
       "2020"
      ]
     },
     "execution_count": 207,
     "metadata": {},
     "output_type": "execute_result"
    }
   ],
   "source": [
    "mint.year"
   ]
  },
  {
   "cell_type": "code",
   "execution_count": 208,
   "id": "73ce2348",
   "metadata": {},
   "outputs": [],
   "source": [
    "dime = mint.create(Dime)"
   ]
  },
  {
   "cell_type": "code",
   "execution_count": 209,
   "id": "a16a1ac2",
   "metadata": {},
   "outputs": [
    {
     "data": {
      "text/plain": [
       "2020"
      ]
     },
     "execution_count": 209,
     "metadata": {},
     "output_type": "execute_result"
    }
   ],
   "source": [
    "dime.year"
   ]
  },
  {
   "cell_type": "code",
   "execution_count": 210,
   "id": "74a89dbe",
   "metadata": {},
   "outputs": [],
   "source": [
    "Mint.current_year = 2100"
   ]
  },
  {
   "cell_type": "code",
   "execution_count": 211,
   "id": "cc0f121c",
   "metadata": {},
   "outputs": [],
   "source": [
    "nickel = mint.create(Nickel)"
   ]
  },
  {
   "cell_type": "code",
   "execution_count": 212,
   "id": "638515db",
   "metadata": {},
   "outputs": [
    {
     "data": {
      "text/plain": [
       "2020"
      ]
     },
     "execution_count": 212,
     "metadata": {},
     "output_type": "execute_result"
    }
   ],
   "source": [
    "nickel.year"
   ]
  },
  {
   "cell_type": "code",
   "execution_count": 213,
   "id": "2a85b942",
   "metadata": {},
   "outputs": [
    {
     "name": "stdout",
     "output_type": "stream",
     "text": [
      "5 2175 2020 0\n"
     ]
    },
    {
     "data": {
      "text/plain": [
       "110"
      ]
     },
     "execution_count": 213,
     "metadata": {},
     "output_type": "execute_result"
    }
   ],
   "source": [
    "nickel.worth()"
   ]
  },
  {
   "cell_type": "code",
   "execution_count": 246,
   "id": "8d18064e",
   "metadata": {},
   "outputs": [],
   "source": [
    "def int_to_link(s):\n",
    "    l = Link.empty\n",
    "    if len(s) == 0:\n",
    "        return Link.empty\n",
    "    else:\n",
    "        l = (s[-1], int_to_link(s[:-1]))\n",
    "    return l\n",
    "        "
   ]
  },
  {
   "cell_type": "code",
   "execution_count": 247,
   "id": "82bb3f57",
   "metadata": {},
   "outputs": [
    {
     "data": {
      "text/plain": [
       "('5', ('3', ('2', ('1', ('4', ())))))"
      ]
     },
     "execution_count": 247,
     "metadata": {},
     "output_type": "execute_result"
    }
   ],
   "source": [
    "int_to_link('41235')"
   ]
  },
  {
   "cell_type": "code",
   "execution_count": 292,
   "id": "e5c0d085",
   "metadata": {},
   "outputs": [],
   "source": [
    "def fib(n):\n",
    "    if n == 0 or n == 1:\n",
    "        return n\n",
    "    else:\n",
    "        return fib(n-1) + fib(n-2)\n",
    "    \n",
    "def count(f):\n",
    "    def counted(n):\n",
    "        counted.call_count += 1\n",
    "        return f(n)\n",
    "    counted.call_count = 0\n",
    "    return counted\n",
    "\n",
    "# fib = count(fib)"
   ]
  },
  {
   "cell_type": "code",
   "execution_count": 249,
   "id": "cb487da3",
   "metadata": {},
   "outputs": [
    {
     "data": {
      "text/plain": [
       "5"
      ]
     },
     "execution_count": 249,
     "metadata": {},
     "output_type": "execute_result"
    }
   ],
   "source": [
    "fib(5)"
   ]
  },
  {
   "cell_type": "code",
   "execution_count": 250,
   "id": "cb3b14a2",
   "metadata": {},
   "outputs": [
    {
     "data": {
      "text/plain": [
       "15"
      ]
     },
     "execution_count": 250,
     "metadata": {},
     "output_type": "execute_result"
    }
   ],
   "source": [
    "fib.call_count"
   ]
  },
  {
   "cell_type": "code",
   "execution_count": 251,
   "id": "45f4f86d",
   "metadata": {},
   "outputs": [
    {
     "data": {
      "text/plain": [
       "5"
      ]
     },
     "execution_count": 251,
     "metadata": {},
     "output_type": "execute_result"
    }
   ],
   "source": [
    "fib(5)"
   ]
  },
  {
   "cell_type": "code",
   "execution_count": 252,
   "id": "1ff206d2",
   "metadata": {},
   "outputs": [
    {
     "data": {
      "text/plain": [
       "30"
      ]
     },
     "execution_count": 252,
     "metadata": {},
     "output_type": "execute_result"
    }
   ],
   "source": [
    "fib.call_count"
   ]
  },
  {
   "cell_type": "code",
   "execution_count": 253,
   "id": "1878e934",
   "metadata": {},
   "outputs": [
    {
     "data": {
      "text/plain": [
       "832040"
      ]
     },
     "execution_count": 253,
     "metadata": {},
     "output_type": "execute_result"
    }
   ],
   "source": [
    "fib(30)"
   ]
  },
  {
   "cell_type": "code",
   "execution_count": 254,
   "id": "a9400259",
   "metadata": {},
   "outputs": [
    {
     "data": {
      "text/plain": [
       "2692567"
      ]
     },
     "execution_count": 254,
     "metadata": {},
     "output_type": "execute_result"
    }
   ],
   "source": [
    "fib.call_count"
   ]
  },
  {
   "cell_type": "code",
   "execution_count": 264,
   "id": "de347916",
   "metadata": {},
   "outputs": [],
   "source": [
    "def memo(f):\n",
    "    cache = {}\n",
    "    def memoized(n):\n",
    "        if n not in cache:\n",
    "            cache[n] = f(n)\n",
    "        return cache[n]\n",
    "    return memoized"
   ]
  },
  {
   "cell_type": "code",
   "execution_count": 256,
   "id": "2ad3973f",
   "metadata": {},
   "outputs": [],
   "source": [
    "fib = memo(fib)"
   ]
  },
  {
   "cell_type": "code",
   "execution_count": 257,
   "id": "b59c3fad",
   "metadata": {},
   "outputs": [
    {
     "data": {
      "text/plain": [
       "832040"
      ]
     },
     "execution_count": 257,
     "metadata": {},
     "output_type": "execute_result"
    }
   ],
   "source": [
    "fib(30)"
   ]
  },
  {
   "cell_type": "code",
   "execution_count": 265,
   "id": "acd12ce5",
   "metadata": {},
   "outputs": [],
   "source": [
    "fib = count(fib)"
   ]
  },
  {
   "cell_type": "code",
   "execution_count": 266,
   "id": "225184d4",
   "metadata": {},
   "outputs": [],
   "source": [
    "counted_fib = fib"
   ]
  },
  {
   "cell_type": "code",
   "execution_count": 267,
   "id": "0ba0b542",
   "metadata": {},
   "outputs": [],
   "source": [
    "fib = memo(fib)"
   ]
  },
  {
   "cell_type": "code",
   "execution_count": 268,
   "id": "0b9fdc7e",
   "metadata": {},
   "outputs": [],
   "source": [
    "fib = count(fib)"
   ]
  },
  {
   "cell_type": "code",
   "execution_count": 269,
   "id": "02c89391",
   "metadata": {},
   "outputs": [
    {
     "data": {
      "text/plain": [
       "832040"
      ]
     },
     "execution_count": 269,
     "metadata": {},
     "output_type": "execute_result"
    }
   ],
   "source": [
    "fib(30)"
   ]
  },
  {
   "cell_type": "code",
   "execution_count": 270,
   "id": "774265c5",
   "metadata": {},
   "outputs": [
    {
     "data": {
      "text/plain": [
       "59"
      ]
     },
     "execution_count": 270,
     "metadata": {},
     "output_type": "execute_result"
    }
   ],
   "source": [
    "fib.call_count"
   ]
  },
  {
   "cell_type": "code",
   "execution_count": 271,
   "id": "33491bd3",
   "metadata": {},
   "outputs": [
    {
     "data": {
      "text/plain": [
       "31"
      ]
     },
     "execution_count": 271,
     "metadata": {},
     "output_type": "execute_result"
    }
   ],
   "source": [
    "counted_fib.call_count"
   ]
  },
  {
   "cell_type": "code",
   "execution_count": 281,
   "id": "bf73c8c8",
   "metadata": {},
   "outputs": [],
   "source": [
    "def exp(b, n):\n",
    "    if n == 0:\n",
    "        return 1\n",
    "    else:\n",
    "        return b * exp(b, n - 1)\n",
    "\n",
    "def exp_fast(b, n):\n",
    "    if n == 0:\n",
    "        return 1\n",
    "    elif n % 2 == 0:\n",
    "        return square(exp_fast(b, n//2))\n",
    "    else:\n",
    "        return b * exp_fast(b, n-1)\n",
    "    \n",
    "def square(x):\n",
    "    return x * x"
   ]
  },
  {
   "cell_type": "code",
   "execution_count": 284,
   "id": "3686f344",
   "metadata": {},
   "outputs": [
    {
     "ename": "RecursionError",
     "evalue": "maximum recursion depth exceeded",
     "output_type": "error",
     "traceback": [
      "\u001b[1;31m---------------------------------------------------------------------------\u001b[0m",
      "\u001b[1;31mRecursionError\u001b[0m                            Traceback (most recent call last)",
      "File \u001b[1;32m<timed eval>:1\u001b[0m\n",
      "Cell \u001b[1;32mIn[281], line 5\u001b[0m, in \u001b[0;36mexp\u001b[1;34m(b, n)\u001b[0m\n\u001b[0;32m      3\u001b[0m     \u001b[39mreturn\u001b[39;00m \u001b[39m1\u001b[39m\n\u001b[0;32m      4\u001b[0m \u001b[39melse\u001b[39;00m:\n\u001b[1;32m----> 5\u001b[0m     \u001b[39mreturn\u001b[39;00m b \u001b[39m*\u001b[39m exp(b, n \u001b[39m-\u001b[39;49m \u001b[39m1\u001b[39;49m)\n",
      "Cell \u001b[1;32mIn[281], line 5\u001b[0m, in \u001b[0;36mexp\u001b[1;34m(b, n)\u001b[0m\n\u001b[0;32m      3\u001b[0m     \u001b[39mreturn\u001b[39;00m \u001b[39m1\u001b[39m\n\u001b[0;32m      4\u001b[0m \u001b[39melse\u001b[39;00m:\n\u001b[1;32m----> 5\u001b[0m     \u001b[39mreturn\u001b[39;00m b \u001b[39m*\u001b[39m exp(b, n \u001b[39m-\u001b[39;49m \u001b[39m1\u001b[39;49m)\n",
      "    \u001b[1;31m[... skipping similar frames: exp at line 5 (2968 times)]\u001b[0m\n",
      "Cell \u001b[1;32mIn[281], line 5\u001b[0m, in \u001b[0;36mexp\u001b[1;34m(b, n)\u001b[0m\n\u001b[0;32m      3\u001b[0m     \u001b[39mreturn\u001b[39;00m \u001b[39m1\u001b[39m\n\u001b[0;32m      4\u001b[0m \u001b[39melse\u001b[39;00m:\n\u001b[1;32m----> 5\u001b[0m     \u001b[39mreturn\u001b[39;00m b \u001b[39m*\u001b[39m exp(b, n \u001b[39m-\u001b[39;49m \u001b[39m1\u001b[39;49m)\n",
      "\u001b[1;31mRecursionError\u001b[0m: maximum recursion depth exceeded"
     ]
    }
   ],
   "source": [
    "%%time\n",
    "exp(2, 3000)"
   ]
  },
  {
   "cell_type": "code",
   "execution_count": 285,
   "id": "d1627686",
   "metadata": {},
   "outputs": [
    {
     "name": "stdout",
     "output_type": "stream",
     "text": [
      "CPU times: total: 0 ns\n",
      "Wall time: 0 ns\n"
     ]
    },
    {
     "data": {
      "text/plain": [
       "1230231922161117176931558813276752514640713895736833715766118029160058800614672948775360067838593459582429649254051804908512884180898236823585082482065348331234959350355845017413023320111360666922624728239756880416434478315693675013413090757208690376793296658810662941824493488451726505303712916005346747908623702673480919353936813105736620402352744776903840477883651100322409301983488363802930540482487909763484098253940728685132044408863734754271212592471778643949486688511721051561970432780747454823776808464180697103083861812184348565522740195796682622205511845512080552010310050255801589349645928001133745474220715013683413907542779063759833876101354235184245096670042160720629411581502371248008430447184842098610320580417992206662247328722122088513643683907670360209162653670641130936997002170500675501374723998766005827579300723253474890612250135171889174899079911291512399773872178519018229989376"
      ]
     },
     "execution_count": 285,
     "metadata": {},
     "output_type": "execute_result"
    }
   ],
   "source": [
    "%%time\n",
    "exp_fast(2, 3000)\n"
   ]
  },
  {
   "cell_type": "code",
   "execution_count": 293,
   "id": "563e15c7",
   "metadata": {},
   "outputs": [],
   "source": [
    "def count_frames(f):\n",
    "    def counted(n):\n",
    "        counted.open_count += 1\n",
    "        if counted.open_count > counted.max_count:\n",
    "            counted.max_count = counted.open_count\n",
    "        result = f(n)\n",
    "        counted.open_count -= 1\n",
    "        return result\n",
    "    counted.open_count = 0\n",
    "    counted.max_count = 0\n",
    "    return counted"
   ]
  },
  {
   "cell_type": "code",
   "execution_count": 294,
   "id": "5cae86a2",
   "metadata": {},
   "outputs": [],
   "source": [
    "fib = count_frames(fib)"
   ]
  },
  {
   "cell_type": "code",
   "execution_count": 295,
   "id": "9e674436",
   "metadata": {},
   "outputs": [
    {
     "data": {
      "text/plain": [
       "6765"
      ]
     },
     "execution_count": 295,
     "metadata": {},
     "output_type": "execute_result"
    }
   ],
   "source": [
    "fib(20)"
   ]
  },
  {
   "cell_type": "code",
   "execution_count": 296,
   "id": "5fbb91d7",
   "metadata": {},
   "outputs": [
    {
     "data": {
      "text/plain": [
       "0"
      ]
     },
     "execution_count": 296,
     "metadata": {},
     "output_type": "execute_result"
    }
   ],
   "source": [
    "fib.open_count"
   ]
  },
  {
   "cell_type": "code",
   "execution_count": 297,
   "id": "4844a78c",
   "metadata": {},
   "outputs": [
    {
     "data": {
      "text/plain": [
       "20"
      ]
     },
     "execution_count": 297,
     "metadata": {},
     "output_type": "execute_result"
    }
   ],
   "source": [
    "fib.max_count"
   ]
  },
  {
   "cell_type": "code",
   "execution_count": 298,
   "id": "382c814a",
   "metadata": {},
   "outputs": [],
   "source": [
    "def f(x):\n",
    "    return x + f.y"
   ]
  },
  {
   "cell_type": "code",
   "execution_count": 299,
   "id": "fef0a8ba",
   "metadata": {},
   "outputs": [],
   "source": [
    "f.y = 5"
   ]
  },
  {
   "cell_type": "code",
   "execution_count": 300,
   "id": "3ed8ebd5",
   "metadata": {},
   "outputs": [
    {
     "data": {
      "text/plain": [
       "15"
      ]
     },
     "execution_count": 300,
     "metadata": {},
     "output_type": "execute_result"
    }
   ],
   "source": [
    "f(10)"
   ]
  },
  {
   "cell_type": "code",
   "execution_count": 1,
   "id": "ebcfb54c",
   "metadata": {},
   "outputs": [],
   "source": [
    "class Worker:\n",
    "    greeting = 'Sir'\n",
    "    def __init__(self):\n",
    "        self.elf = Worker\n",
    "    def work(self):\n",
    "        return self.greeting + ', I work'\n",
    "    def __repr__(self):\n",
    "        return Bourgeoisie.greeting\n",
    "    \n",
    "class Bourgeoisie(Worker):\n",
    "    greeting = 'Peon'\n",
    "    def work(self):\n",
    "        print(Worker.work(self))\n",
    "        return 'I gather wealth'"
   ]
  },
  {
   "cell_type": "code",
   "execution_count": 2,
   "id": "74e6e9a8",
   "metadata": {},
   "outputs": [],
   "source": [
    "jack = Worker()"
   ]
  },
  {
   "cell_type": "code",
   "execution_count": 3,
   "id": "49607391",
   "metadata": {},
   "outputs": [],
   "source": [
    "john = Bourgeoisie()"
   ]
  },
  {
   "cell_type": "code",
   "execution_count": 4,
   "id": "42769be4",
   "metadata": {},
   "outputs": [],
   "source": [
    "jack.greeting = 'Maam'"
   ]
  },
  {
   "cell_type": "code",
   "execution_count": 5,
   "id": "76e2a7e1",
   "metadata": {},
   "outputs": [
    {
     "data": {
      "text/plain": [
       "'Sir, I work'"
      ]
     },
     "execution_count": 5,
     "metadata": {},
     "output_type": "execute_result"
    }
   ],
   "source": [
    "Worker().work()"
   ]
  },
  {
   "cell_type": "code",
   "execution_count": 6,
   "id": "1c0d091d",
   "metadata": {},
   "outputs": [
    {
     "data": {
      "text/plain": [
       "Peon"
      ]
     },
     "execution_count": 6,
     "metadata": {},
     "output_type": "execute_result"
    }
   ],
   "source": [
    "jack"
   ]
  },
  {
   "cell_type": "code",
   "execution_count": 7,
   "id": "8f7da867",
   "metadata": {},
   "outputs": [
    {
     "data": {
      "text/plain": [
       "'Maam, I work'"
      ]
     },
     "execution_count": 7,
     "metadata": {},
     "output_type": "execute_result"
    }
   ],
   "source": [
    "jack.work()"
   ]
  },
  {
   "cell_type": "code",
   "execution_count": 8,
   "id": "8a915ab8",
   "metadata": {},
   "outputs": [
    {
     "name": "stdout",
     "output_type": "stream",
     "text": [
      "Peon, I work\n"
     ]
    },
    {
     "data": {
      "text/plain": [
       "'I gather wealth'"
      ]
     },
     "execution_count": 8,
     "metadata": {},
     "output_type": "execute_result"
    }
   ],
   "source": [
    "john.work()"
   ]
  },
  {
   "cell_type": "code",
   "execution_count": 9,
   "id": "0e34780e",
   "metadata": {},
   "outputs": [
    {
     "data": {
      "text/plain": [
       "'Peon, I work'"
      ]
     },
     "execution_count": 9,
     "metadata": {},
     "output_type": "execute_result"
    }
   ],
   "source": [
    "john.elf.work(john)"
   ]
  },
  {
   "cell_type": "code",
   "execution_count": 10,
   "id": "1443a63c",
   "metadata": {},
   "outputs": [],
   "source": [
    "def min_abs_indices(s):\n",
    "    min_abs = min(map(abs, s))\n",
    "    return [i for i in range(len(s)) if abs(s[i]) == min_abs]"
   ]
  },
  {
   "cell_type": "code",
   "execution_count": 12,
   "id": "84669d3e",
   "metadata": {},
   "outputs": [
    {
     "data": {
      "text/plain": [
       "[1, 2]"
      ]
     },
     "execution_count": 12,
     "metadata": {},
     "output_type": "execute_result"
    }
   ],
   "source": [
    "min_abs_indices([-2,-1,1,3])"
   ]
  },
  {
   "cell_type": "code",
   "execution_count": 14,
   "id": "60b3b597",
   "metadata": {},
   "outputs": [],
   "source": [
    "s = [-4, -3, -1, 3, 2, 4]"
   ]
  },
  {
   "cell_type": "code",
   "execution_count": 15,
   "id": "439ed613",
   "metadata": {},
   "outputs": [
    {
     "data": {
      "text/plain": [
       "[-7, -4, 2, 5, 6]"
      ]
     },
     "execution_count": 15,
     "metadata": {},
     "output_type": "execute_result"
    }
   ],
   "source": [
    "[s[i] + s[i+1] for i in range(len(s) - 1)]"
   ]
  },
  {
   "cell_type": "code",
   "execution_count": 16,
   "id": "45841773",
   "metadata": {},
   "outputs": [
    {
     "data": {
      "text/plain": [
       "6"
      ]
     },
     "execution_count": 16,
     "metadata": {},
     "output_type": "execute_result"
    }
   ],
   "source": [
    "max([s[i] + s[i+1] for i in range(len(s) - 1)])"
   ]
  },
  {
   "cell_type": "code",
   "execution_count": 18,
   "id": "2f75f68f",
   "metadata": {},
   "outputs": [
    {
     "data": {
      "text/plain": [
       "[(-4, -4), (-3, -3), (-1, -1), (3, 3), (2, 2), (4, 4)]"
      ]
     },
     "execution_count": 18,
     "metadata": {},
     "output_type": "execute_result"
    }
   ],
   "source": [
    "list(zip(s, s))"
   ]
  },
  {
   "cell_type": "code",
   "execution_count": 19,
   "id": "0efb4962",
   "metadata": {},
   "outputs": [
    {
     "data": {
      "text/plain": [
       "[(-4, -3), (-3, -1), (-1, 3), (3, 2), (2, 4)]"
      ]
     },
     "execution_count": 19,
     "metadata": {},
     "output_type": "execute_result"
    }
   ],
   "source": [
    "list(zip(s[:-1], s[1:]))"
   ]
  },
  {
   "cell_type": "code",
   "execution_count": 20,
   "id": "98e25960",
   "metadata": {},
   "outputs": [
    {
     "data": {
      "text/plain": [
       "[-7, -4, 2, 5, 6]"
      ]
     },
     "execution_count": 20,
     "metadata": {},
     "output_type": "execute_result"
    }
   ],
   "source": [
    "[a + b for a,b in zip(s[:-1], s[1:])]"
   ]
  },
  {
   "cell_type": "code",
   "execution_count": 21,
   "id": "75983a6a",
   "metadata": {},
   "outputs": [
    {
     "data": {
      "text/plain": [
       "6"
      ]
     },
     "execution_count": 21,
     "metadata": {},
     "output_type": "execute_result"
    }
   ],
   "source": [
    "max([a + b for a,b in zip(s[:-1], s[1:])])"
   ]
  },
  {
   "cell_type": "code",
   "execution_count": 23,
   "id": "f94077c9",
   "metadata": {},
   "outputs": [],
   "source": [
    "s = [5,8,13,21,34,55,89]"
   ]
  },
  {
   "cell_type": "code",
   "execution_count": 26,
   "id": "dd451046",
   "metadata": {},
   "outputs": [
    {
     "data": {
      "text/plain": [
       "{1: [21], 3: [13], 4: [34], 5: [5, 55], 8: [8], 9: [89]}"
      ]
     },
     "execution_count": 26,
     "metadata": {},
     "output_type": "execute_result"
    }
   ],
   "source": [
    "{d: [x for x in s if x % 10 == d] for d in range(10) if any([x % 10 == d for x in s])}"
   ]
  },
  {
   "cell_type": "code",
   "execution_count": 27,
   "id": "7d1766c1",
   "metadata": {},
   "outputs": [],
   "source": [
    "s = [4, 3, 2, 3, 2, 4]"
   ]
  },
  {
   "cell_type": "code",
   "execution_count": 33,
   "id": "047b8809",
   "metadata": {},
   "outputs": [
    {
     "data": {
      "text/plain": [
       "True"
      ]
     },
     "execution_count": 33,
     "metadata": {},
     "output_type": "execute_result"
    }
   ],
   "source": [
    "all([s[i] in s[:i] + s[i+1:] for i in range(len(s))])"
   ]
  },
  {
   "cell_type": "code",
   "execution_count": 34,
   "id": "41f62d23",
   "metadata": {},
   "outputs": [
    {
     "data": {
      "text/plain": [
       "[3, 3]"
      ]
     },
     "execution_count": 34,
     "metadata": {},
     "output_type": "execute_result"
    }
   ],
   "source": [
    "[y for y in s if y == 3]"
   ]
  },
  {
   "cell_type": "code",
   "execution_count": 35,
   "id": "5c46c583",
   "metadata": {},
   "outputs": [
    {
     "data": {
      "text/plain": [
       "2"
      ]
     },
     "execution_count": 35,
     "metadata": {},
     "output_type": "execute_result"
    }
   ],
   "source": [
    "len([y for y in s if y == 3])"
   ]
  },
  {
   "cell_type": "code",
   "execution_count": 36,
   "id": "be29bbff",
   "metadata": {},
   "outputs": [
    {
     "data": {
      "text/plain": [
       "True"
      ]
     },
     "execution_count": 36,
     "metadata": {},
     "output_type": "execute_result"
    }
   ],
   "source": [
    "min([s.count(x) for x in s]) > 1"
   ]
  },
  {
   "cell_type": "code",
   "execution_count": 38,
   "id": "21528c00",
   "metadata": {},
   "outputs": [],
   "source": [
    "def ordered(s, key=lambda x: x):\n",
    "\n",
    "    if s is Link.empty or s.rest is Link.empty:\n",
    "        return True\n",
    "    elif key(s.first) > key(s.rest.first):\n",
    "        return False\n",
    "    else:\n",
    "        return ordered(s.rest)"
   ]
  },
  {
   "cell_type": "code",
   "execution_count": 40,
   "id": "c8271867",
   "metadata": {},
   "outputs": [],
   "source": [
    "def merge(s, t):\n",
    "\n",
    "    if s is Link.empty:\n",
    "        return t\n",
    "    elif t is Link.empty:\n",
    "        return s\n",
    "    elif s.first <= t.first:\n",
    "        return Link(s.first, merge(s.rest, t))\n",
    "    else:\n",
    "        return Link(t.first, merge(s, t.rest))"
   ]
  },
  {
   "cell_type": "code",
   "execution_count": 41,
   "id": "92557492",
   "metadata": {},
   "outputs": [],
   "source": [
    "def merge_in_place(s, t):\n",
    "    if s is Link.empty:\n",
    "        return t\n",
    "    elif t is Link.empty:\n",
    "        return s\n",
    "    elif s.first <= t.first:\n",
    "        # return Link(s.first, merge(s.rest, t))\n",
    "        s.rest = merge_in_place(s.rest, t)\n",
    "        return s\n",
    "    else:\n",
    "        # return Link(t.first, merge(s, t.rest))\n",
    "        t.rest = merge_in_place(s, t.rest)\n",
    "        return t"
   ]
  },
  {
   "cell_type": "code",
   "execution_count": 42,
   "id": "bb970057",
   "metadata": {},
   "outputs": [],
   "source": [
    "def num_trees(n):\n",
    "    if n == 1:\n",
    "        return 1 \n",
    "    for how_many_on_left in range(1, n):\n",
    "        how_many_on_right = n - how_many_on_left\n",
    "        num_trees_on_left = num_trees(how_many_on_left)\n",
    "        num_trees_on_right = num_trees(how_many_on_right)\n",
    "        total += num_trees_on_left * num_trees_on_right\n",
    "    return total"
   ]
  },
  {
   "cell_type": "code",
   "execution_count": 43,
   "id": "71f7c36d",
   "metadata": {},
   "outputs": [],
   "source": [
    "def path_yielder(t, value):\n",
    "    if t.label == value:\n",
    "        yield [t.label]\n",
    "    for b in t.branches:\n",
    "        for path_through_branch in path_yielder(b, value):\n",
    "            yield [t.label] + path_through_branch"
   ]
  },
  {
   "cell_type": "code",
   "execution_count": 44,
   "id": "b11e3f01",
   "metadata": {},
   "outputs": [],
   "source": [
    "def order(redwood):\n",
    "    plucking_order = []\n",
    "    for b in redwood.branches:\n",
    "        plucking_order.extend(order(b))\n",
    "    return  plucking_order + [redwood.label]"
   ]
  },
  {
   "cell_type": "code",
   "execution_count": 45,
   "id": "3eb4e66d",
   "metadata": {},
   "outputs": [],
   "source": [
    "def lookups(k, key):\n",
    "    if k.label == key:\n",
    "        yield lambda v: v.label\n",
    "    for i in range(len(k.branches)):\n",
    "        for lookup in lookups(k.branches[i], key):\n",
    "            yield new_lookup(i, lookup)\n",
    "\n",
    "def new_lookup(i, f):\n",
    "    def g(v):\n",
    "        return f(v.branches[i])\n",
    "    return g"
   ]
  },
  {
   "cell_type": "code",
   "execution_count": 4,
   "id": "153240a6",
   "metadata": {},
   "outputs": [
    {
     "ename": "TypeError",
     "evalue": "Bad argument",
     "output_type": "error",
     "traceback": [
      "\u001b[1;31m---------------------------------------------------------------------------\u001b[0m",
      "\u001b[1;31mTypeError\u001b[0m                                 Traceback (most recent call last)",
      "Cell \u001b[1;32mIn[4], line 1\u001b[0m\n\u001b[1;32m----> 1\u001b[0m \u001b[39mraise\u001b[39;00m \u001b[39mTypeError\u001b[39;00m(\u001b[39m'\u001b[39m\u001b[39mBad argument\u001b[39m\u001b[39m'\u001b[39m)\n",
      "\u001b[1;31mTypeError\u001b[0m: Bad argument"
     ]
    }
   ],
   "source": [
    "raise TypeError('Bad argument')\n"
   ]
  },
  {
   "cell_type": "code",
   "execution_count": 5,
   "id": "0ead374a",
   "metadata": {},
   "outputs": [
    {
     "name": "stdout",
     "output_type": "stream",
     "text": [
      "handling a <class 'ZeroDivisionError'>\n"
     ]
    }
   ],
   "source": [
    "try: \n",
    "    x = 1/0\n",
    "except ZeroDivisionError as e:\n",
    "    print('handling a', type(e))\n",
    "    x = 0"
   ]
  },
  {
   "cell_type": "code",
   "execution_count": 6,
   "id": "f10859e2",
   "metadata": {},
   "outputs": [
    {
     "data": {
      "text/plain": [
       "0"
      ]
     },
     "execution_count": 6,
     "metadata": {},
     "output_type": "execute_result"
    }
   ],
   "source": [
    "x"
   ]
  },
  {
   "cell_type": "code",
   "execution_count": 7,
   "id": "b0422547",
   "metadata": {},
   "outputs": [],
   "source": [
    "def invert(x):\n",
    "    y = 1/x\n",
    "    print('never printed if x is 0')\n",
    "    return y"
   ]
  },
  {
   "cell_type": "code",
   "execution_count": 8,
   "id": "ad0ccfc3",
   "metadata": {},
   "outputs": [
    {
     "name": "stdout",
     "output_type": "stream",
     "text": [
      "never printed if x is 0\n"
     ]
    },
    {
     "data": {
      "text/plain": [
       "0.5"
      ]
     },
     "execution_count": 8,
     "metadata": {},
     "output_type": "execute_result"
    }
   ],
   "source": [
    "invert(2)"
   ]
  },
  {
   "cell_type": "code",
   "execution_count": 9,
   "id": "ab5dac0e",
   "metadata": {},
   "outputs": [
    {
     "ename": "ZeroDivisionError",
     "evalue": "division by zero",
     "output_type": "error",
     "traceback": [
      "\u001b[1;31m---------------------------------------------------------------------------\u001b[0m",
      "\u001b[1;31mZeroDivisionError\u001b[0m                         Traceback (most recent call last)",
      "Cell \u001b[1;32mIn[9], line 1\u001b[0m\n\u001b[1;32m----> 1\u001b[0m invert(\u001b[39m0\u001b[39;49m)\n",
      "Cell \u001b[1;32mIn[7], line 2\u001b[0m, in \u001b[0;36minvert\u001b[1;34m(x)\u001b[0m\n\u001b[0;32m      1\u001b[0m \u001b[39mdef\u001b[39;00m \u001b[39minvert\u001b[39m(x):\n\u001b[1;32m----> 2\u001b[0m     y \u001b[39m=\u001b[39m \u001b[39m1\u001b[39;49m\u001b[39m/\u001b[39;49mx\n\u001b[0;32m      3\u001b[0m     \u001b[39mprint\u001b[39m(\u001b[39m'\u001b[39m\u001b[39mnever printed if x is 0\u001b[39m\u001b[39m'\u001b[39m)\n\u001b[0;32m      4\u001b[0m     \u001b[39mreturn\u001b[39;00m y\n",
      "\u001b[1;31mZeroDivisionError\u001b[0m: division by zero"
     ]
    }
   ],
   "source": [
    "invert(0)"
   ]
  },
  {
   "cell_type": "code",
   "execution_count": 13,
   "id": "531310c7",
   "metadata": {},
   "outputs": [],
   "source": [
    "def invert_safe(x):\n",
    "    try:\n",
    "        return invert(x)\n",
    "    except ZeroDivisionError as e:\n",
    "        print('handled', e)\n",
    "        return str(e)"
   ]
  },
  {
   "cell_type": "code",
   "execution_count": 14,
   "id": "a4b2a5a7",
   "metadata": {},
   "outputs": [
    {
     "name": "stdout",
     "output_type": "stream",
     "text": [
      "never printed if x is 0\n"
     ]
    },
    {
     "data": {
      "text/plain": [
       "0.5"
      ]
     },
     "execution_count": 14,
     "metadata": {},
     "output_type": "execute_result"
    }
   ],
   "source": [
    "invert_safe(2)"
   ]
  },
  {
   "cell_type": "code",
   "execution_count": 15,
   "id": "3ac4d073",
   "metadata": {},
   "outputs": [
    {
     "name": "stdout",
     "output_type": "stream",
     "text": [
      "handled division by zero\n"
     ]
    },
    {
     "data": {
      "text/plain": [
       "'division by zero'"
      ]
     },
     "execution_count": 15,
     "metadata": {},
     "output_type": "execute_result"
    }
   ],
   "source": [
    "invert_safe(0)"
   ]
  },
  {
   "cell_type": "code",
   "execution_count": 16,
   "id": "a8762680",
   "metadata": {},
   "outputs": [
    {
     "name": "stdout",
     "output_type": "stream",
     "text": [
      "handled division by zero\n"
     ]
    }
   ],
   "source": [
    "try:\n",
    "    invert_safe(0)\n",
    "except ZeroDivisionError as e:\n",
    "    print('handled')"
   ]
  },
  {
   "cell_type": "code",
   "execution_count": 22,
   "id": "75fa725c",
   "metadata": {},
   "outputs": [],
   "source": [
    "def reduce(f, s, initial):\n",
    "    for x in s:\n",
    "        initial = f(initial, x)\n",
    "    return initial\n",
    "\n",
    "# recursive version\n",
    "def reduce(f, s, initial):\n",
    "    if not s:\n",
    "        return initial\n",
    "    else:\n",
    "        first, rest = s[0], s[1:]\n",
    "        return reduce(f, rest, f(initial, first))"
   ]
  },
  {
   "cell_type": "code",
   "execution_count": 30,
   "id": "15c9f37c",
   "metadata": {},
   "outputs": [
    {
     "data": {
      "text/plain": [
       "64"
      ]
     },
     "execution_count": 30,
     "metadata": {},
     "output_type": "execute_result"
    }
   ],
   "source": [
    "from operator import mul,add,truediv\n",
    "reduce(mul, [2,4,8], 1)"
   ]
  },
  {
   "cell_type": "code",
   "execution_count": 32,
   "id": "dd3ef3f5",
   "metadata": {},
   "outputs": [],
   "source": [
    "def divide_all(n, ds):\n",
    "    try:\n",
    "        return reduce(truediv, ds, n)\n",
    "    except ZeroDivisionError:\n",
    "        return float('inf')"
   ]
  },
  {
   "cell_type": "code",
   "execution_count": 33,
   "id": "87d86be7",
   "metadata": {},
   "outputs": [
    {
     "data": {
      "text/plain": [
       "inf"
      ]
     },
     "execution_count": 33,
     "metadata": {},
     "output_type": "execute_result"
    }
   ],
   "source": [
    "divide_all(1024, [2,4,0,8])"
   ]
  },
  {
   "cell_type": "code",
   "execution_count": 34,
   "id": "d8e4de26",
   "metadata": {},
   "outputs": [
    {
     "data": {
      "text/plain": [
       "16.0"
      ]
     },
     "execution_count": 34,
     "metadata": {},
     "output_type": "execute_result"
    }
   ],
   "source": [
    "divide_all(1024, [2,4,8])"
   ]
  },
  {
   "cell_type": "code",
   "execution_count": null,
   "id": "92d0fa28",
   "metadata": {},
   "outputs": [],
   "source": [
    "try:\n",
    "    # this line always gets executed\n",
    "    # maybe this one too...\n",
    "except:\n",
    "    # ...\n",
    "finally:\n",
    "    # this will always run at the end"
   ]
  },
  {
   "cell_type": "code",
   "execution_count": null,
   "id": "a9f94e62",
   "metadata": {},
   "outputs": [],
   "source": [
    "# scheme parser \n",
    "\n",
    "def scheme_read(src):\n",
    "    # read the next expression from src, a buffer of tokens\n",
    "\n",
    "    if src.current() is None:\n",
    "        raise EOFError\n",
    "    val = src.pop()\n",
    "    if val == 'nil':\n",
    "        return nil\n",
    "    elif val not in DELIMITERS:  # ( ) ' . \n",
    "        return val\n",
    "    elif val == '(':\n",
    "        return read_tail(src)\n",
    "    else:\n",
    "        raise SyntaxError('unexpected token: {0}'.format(val))\n",
    "    \n",
    "def read_tail(src):\n",
    "    if src.current() is None:\n",
    "        raise SyntaxError('unexpected end of file')\n",
    "    if src.current() == ')':\n",
    "        src.pop()\n",
    "        return nil\n",
    "    first = scheme_read(src)\n",
    "    rest = read_tail(src)\n",
    "    return Pair(first, rest)\n",
    "\n"
   ]
  },
  {
   "cell_type": "code",
   "execution_count": null,
   "id": "cd648bcf",
   "metadata": {},
   "outputs": [],
   "source": [
    "# scheme syntax calculator interpreter\n",
    "\n",
    "class Pair:\n",
    "\n",
    "    def __init__(self, first, second):\n",
    "        self.first = first\n",
    "        self.second = second\n",
    "    \n",
    "\n",
    "# the eval function\n",
    "\n",
    "def calc_eval(exp):\n",
    "    if type(exp) in (int, float):\n",
    "        return exp\n",
    "    elif isinstance(exp, Pair):\n",
    "        arguments = exp.second.map(calc_eval)\n",
    "        return calc_apply(exp.first, arguments)\n",
    "    else:\n",
    "        raise TypeError\n",
    "\n",
    "def calc_apply(operator, args):\n",
    "    \"\"\"apply the named operator to a list of args\"\"\"\n",
    "    \n",
    "    if not isinstance(operator, str):\n",
    "        raise TypeError(str(operator) + ' is not a symbol')\n",
    "    if operator == '+':\n",
    "        return reduce(add, args, 0)\n",
    "    elif operator == '-':\n",
    "        if len(args) == 0:\n",
    "            raise TypeError(operator + ' requires at least 1 argument')\n",
    "        elif len(args) == 1:\n",
    "            return -args.first\n",
    "        else:\n",
    "            return reduce(sub, args.second, args.first)\n",
    "    elif operator == '*':\n",
    "        return reduce(mul, args, 1)\n",
    "    elif operator == '/':\n",
    "        if len(args) == 0:\n",
    "            raise TypeError(operator + ' requires at least 1 argument')\n",
    "        elif len(args) == 1:\n",
    "            return 1/args.first\n",
    "    else:\n",
    "        raise TypeError(operator + ' is an unknown operator')\n",
    "\n",
    "@main\n",
    "def read_eval_print_loop():\n",
    "    while True:\n",
    "        try:\n",
    "            src = buffer_input()\n",
    "            while src.more_on_line:\n",
    "                expression = scheme_read(src)\n",
    "                print(calc_eval(expression))\n",
    "        except (SyntaxError, TypeError, ValueError, ZeroDivisionError) as err:\n",
    "            print(type(err).__name__ + ':', err)\n",
    "        except (KeyboardInterrupt, EOFError): #<control>-D, etc.\n",
    "            print('Calculation completed.')\n",
    "            return\n"
   ]
  },
  {
   "cell_type": "code",
   "execution_count": 8,
   "id": "d9eb1bb4",
   "metadata": {},
   "outputs": [
    {
     "ename": "OperationalError",
     "evalue": "near \"SELECT\": syntax error",
     "output_type": "error",
     "traceback": [
      "\u001b[1;31m---------------------------------------------------------------------------\u001b[0m",
      "\u001b[1;31mOperationalError\u001b[0m                          Traceback (most recent call last)",
      "Cell \u001b[1;32mIn[8], line 3\u001b[0m\n\u001b[0;32m      1\u001b[0m \u001b[39mimport\u001b[39;00m \u001b[39msqlite3\u001b[39;00m\n\u001b[0;32m      2\u001b[0m db \u001b[39m=\u001b[39m sqlite3\u001b[39m.\u001b[39mConnection(\u001b[39m'\u001b[39m\u001b[39mn.db\u001b[39m\u001b[39m'\u001b[39m)\n\u001b[1;32m----> 3\u001b[0m db\u001b[39m.\u001b[39;49mexecute(\u001b[39m'\u001b[39;49m\u001b[39mCREATE TABLE nums SELECT 2 UNION SELECT 3;\u001b[39;49m\u001b[39m'\u001b[39;49m)\n\u001b[0;32m      4\u001b[0m \u001b[39mprint\u001b[39m(db\u001b[39m.\u001b[39mexecute(\u001b[39m'\u001b[39m\u001b[39mselect * from nums;\u001b[39m\u001b[39m'\u001b[39m)\u001b[39m.\u001b[39mfetchall())\n\u001b[0;32m      5\u001b[0m db\u001b[39m.\u001b[39mcommit()\n",
      "\u001b[1;31mOperationalError\u001b[0m: near \"SELECT\": syntax error"
     ]
    }
   ],
   "source": [
    "import sqlite3\n",
    "db = sqlite3.Connection('n.db')\n",
    "db.execute('CREATE TABLE nums SELECT 2 UNION SELECT 3;')\n",
    "print(db.execute('select * from nums;').fetchall())\n",
    "db.commit()"
   ]
  },
  {
   "cell_type": "code",
   "execution_count": 9,
   "id": "a7900154",
   "metadata": {},
   "outputs": [
    {
     "ename": "SyntaxError",
     "evalue": "invalid syntax. Perhaps you forgot a comma? (3740719831.py, line 1)",
     "output_type": "error",
     "traceback": [
      "\u001b[1;36m  Cell \u001b[1;32mIn[9], line 1\u001b[1;36m\u001b[0m\n\u001b[1;33m    (define-macro (twice print))\u001b[0m\n\u001b[1;37m                   ^\u001b[0m\n\u001b[1;31mSyntaxError\u001b[0m\u001b[1;31m:\u001b[0m invalid syntax. Perhaps you forgot a comma?\n"
     ]
    }
   ],
   "source": [
    "(define-macro (twice print))"
   ]
  },
  {
   "cell_type": "code",
   "execution_count": 2,
   "id": "b3fdfe8a",
   "metadata": {},
   "outputs": [
    {
     "data": {
      "text/plain": [
       "4"
      ]
     },
     "execution_count": 2,
     "metadata": {},
     "output_type": "execute_result"
    }
   ],
   "source": [
    "def f(*args):\n",
    "    return args[2]\n",
    "\n",
    "f(2,3,4,5)"
   ]
  },
  {
   "cell_type": "code",
   "execution_count": 2,
   "id": "cb46d7e5",
   "metadata": {},
   "outputs": [
    {
     "data": {
      "text/plain": [
       "[[0], [1], [2]]"
      ]
     },
     "execution_count": 2,
     "metadata": {},
     "output_type": "execute_result"
    }
   ],
   "source": [
    "s = [[i] for i in range(3)]\n",
    "s"
   ]
  },
  {
   "cell_type": "code",
   "execution_count": 5,
   "id": "f0722fa5",
   "metadata": {},
   "outputs": [],
   "source": [
    "s = [1,2,3]\n",
    "f=s.append\n",
    "f(4)\n",
    "f(5)\n",
    "f(6)"
   ]
  },
  {
   "cell_type": "code",
   "execution_count": 6,
   "id": "ec0743dc",
   "metadata": {},
   "outputs": [
    {
     "data": {
      "text/plain": [
       "<function list.append(object, /)>"
      ]
     },
     "execution_count": 6,
     "metadata": {},
     "output_type": "execute_result"
    }
   ],
   "source": [
    "f"
   ]
  },
  {
   "cell_type": "code",
   "execution_count": 7,
   "id": "75854598",
   "metadata": {},
   "outputs": [
    {
     "data": {
      "text/plain": [
       "[1, 2, 3, 4, 5, 6]"
      ]
     },
     "execution_count": 7,
     "metadata": {},
     "output_type": "execute_result"
    }
   ],
   "source": [
    "s"
   ]
  },
  {
   "cell_type": "code",
   "execution_count": 8,
   "id": "233d1d7b",
   "metadata": {},
   "outputs": [],
   "source": [
    "f = lambda g, h: lambda p, q: h(g(q), p)\n",
    "g = f(lambda half: half // 2, pow) "
   ]
  },
  {
   "cell_type": "code",
   "execution_count": 9,
   "id": "e7a6b2cc",
   "metadata": {},
   "outputs": [
    {
     "data": {
      "text/plain": [
       "8"
      ]
     },
     "execution_count": 9,
     "metadata": {},
     "output_type": "execute_result"
    }
   ],
   "source": [
    "g(3, 5)"
   ]
  },
  {
   "cell_type": "code",
   "execution_count": 40,
   "id": "389ad954",
   "metadata": {},
   "outputs": [],
   "source": [
    "a = [1,3]"
   ]
  },
  {
   "cell_type": "code",
   "execution_count": 44,
   "id": "a2391086",
   "metadata": {},
   "outputs": [],
   "source": [
    "a = iter(a)"
   ]
  },
  {
   "cell_type": "code",
   "execution_count": 34,
   "id": "37da3806",
   "metadata": {},
   "outputs": [
    {
     "name": "stdout",
     "output_type": "stream",
     "text": [
      "1\n",
      "3\n"
     ]
    }
   ],
   "source": [
    "try:\n",
    "    while True:\n",
    "        item = next(a)\n",
    "        print(item)\n",
    "except StopIteration:\n",
    "    pass"
   ]
  },
  {
   "cell_type": "code",
   "execution_count": 46,
   "id": "1458594c",
   "metadata": {},
   "outputs": [],
   "source": [
    "def generator(x):\n",
    "    1/0\n",
    "    yield x"
   ]
  },
  {
   "cell_type": "code",
   "execution_count": 52,
   "id": "c22db2cc",
   "metadata": {},
   "outputs": [],
   "source": [
    "x = generator(5)"
   ]
  },
  {
   "cell_type": "code",
   "execution_count": 49,
   "id": "7eca48d1",
   "metadata": {},
   "outputs": [
    {
     "ename": "ZeroDivisionError",
     "evalue": "division by zero",
     "output_type": "error",
     "traceback": [
      "\u001b[1;31m---------------------------------------------------------------------------\u001b[0m",
      "\u001b[1;31mZeroDivisionError\u001b[0m                         Traceback (most recent call last)",
      "Cell \u001b[1;32mIn[49], line 1\u001b[0m\n\u001b[1;32m----> 1\u001b[0m \u001b[39mnext\u001b[39;49m(x)\n",
      "Cell \u001b[1;32mIn[46], line 2\u001b[0m, in \u001b[0;36mgenerator\u001b[1;34m(x)\u001b[0m\n\u001b[0;32m      1\u001b[0m \u001b[39mdef\u001b[39;00m \u001b[39mgenerator\u001b[39m(x):\n\u001b[1;32m----> 2\u001b[0m     \u001b[39m1\u001b[39;49m\u001b[39m/\u001b[39;49m\u001b[39m0\u001b[39;49m\n\u001b[0;32m      3\u001b[0m     \u001b[39myield\u001b[39;00m x\n",
      "\u001b[1;31mZeroDivisionError\u001b[0m: division by zero"
     ]
    }
   ],
   "source": [
    "next(x)"
   ]
  },
  {
   "cell_type": "code",
   "execution_count": 56,
   "id": "dc7f13fa",
   "metadata": {},
   "outputs": [],
   "source": [
    "def generator(x):\n",
    "    # 1/0\n",
    "    yield x\n",
    "    yield x + 1"
   ]
  },
  {
   "cell_type": "code",
   "execution_count": 57,
   "id": "90696041",
   "metadata": {},
   "outputs": [],
   "source": [
    "def gen_naturals():\n",
    "    current = 0\n",
    "    while True:\n",
    "        yield current\n",
    "        current += 1"
   ]
  },
  {
   "cell_type": "code",
   "execution_count": 58,
   "id": "9da60817",
   "metadata": {},
   "outputs": [],
   "source": [
    "gen = gen_naturals()"
   ]
  },
  {
   "cell_type": "code",
   "execution_count": 59,
   "id": "5e94cc00",
   "metadata": {},
   "outputs": [
    {
     "data": {
      "text/plain": [
       "<generator object gen_naturals at 0x0000014D7CE03F40>"
      ]
     },
     "execution_count": 59,
     "metadata": {},
     "output_type": "execute_result"
    }
   ],
   "source": [
    "gen"
   ]
  },
  {
   "cell_type": "code",
   "execution_count": 68,
   "id": "c9270596",
   "metadata": {},
   "outputs": [
    {
     "data": {
      "text/plain": [
       "8"
      ]
     },
     "execution_count": 68,
     "metadata": {},
     "output_type": "execute_result"
    }
   ],
   "source": [
    "next(gen)"
   ]
  },
  {
   "cell_type": "code",
   "execution_count": 77,
   "id": "3c0daef0",
   "metadata": {},
   "outputs": [],
   "source": [
    "lst = [1,2,3]\n",
    "\n",
    "def yield_methods():\n",
    "    # for elem in lst:\n",
    "    #     yield elem\n",
    "    \n",
    "    yield from lst\n",
    "\n",
    "    # 2 methods are equivalent"
   ]
  },
  {
   "cell_type": "code",
   "execution_count": 78,
   "id": "42926e47",
   "metadata": {},
   "outputs": [],
   "source": [
    "a = yield_methods()"
   ]
  },
  {
   "cell_type": "code",
   "execution_count": 82,
   "id": "0742c06b",
   "metadata": {},
   "outputs": [
    {
     "ename": "StopIteration",
     "evalue": "",
     "output_type": "error",
     "traceback": [
      "\u001b[1;31m---------------------------------------------------------------------------\u001b[0m",
      "\u001b[1;31mStopIteration\u001b[0m                             Traceback (most recent call last)",
      "Cell \u001b[1;32mIn[82], line 1\u001b[0m\n\u001b[1;32m----> 1\u001b[0m \u001b[39mnext\u001b[39;49m(a)\n",
      "\u001b[1;31mStopIteration\u001b[0m: "
     ]
    }
   ],
   "source": [
    "next(a)"
   ]
  },
  {
   "cell_type": "code",
   "execution_count": 99,
   "id": "f9a4bf03",
   "metadata": {},
   "outputs": [],
   "source": [
    "def mults_of_3(i):\n",
    "    yield 3 * i \n",
    "    yield from mults_of_3(i+1)\n",
    "    # lazy evaluation, not infinite loop\n",
    "    # we got 0,3,6,9...\n"
   ]
  },
  {
   "cell_type": "code",
   "execution_count": 95,
   "id": "68425b16",
   "metadata": {},
   "outputs": [],
   "source": [
    "a = mults_of_3(0)"
   ]
  },
  {
   "cell_type": "code",
   "execution_count": 100,
   "id": "9309f965",
   "metadata": {},
   "outputs": [
    {
     "ename": "StopIteration",
     "evalue": "",
     "output_type": "error",
     "traceback": [
      "\u001b[1;31m---------------------------------------------------------------------------\u001b[0m",
      "\u001b[1;31mStopIteration\u001b[0m                             Traceback (most recent call last)",
      "Cell \u001b[1;32mIn[100], line 1\u001b[0m\n\u001b[1;32m----> 1\u001b[0m \u001b[39mnext\u001b[39;49m(a)\n",
      "\u001b[1;31mStopIteration\u001b[0m: "
     ]
    }
   ],
   "source": [
    "next(a)"
   ]
  },
  {
   "cell_type": "code",
   "execution_count": 196,
   "id": "76a3a34a",
   "metadata": {},
   "outputs": [],
   "source": [
    "def infinite_generator(lst):\n",
    "    i = 0 \n",
    "    while True:\n",
    "        yield lst[i % len(lst)]\n",
    "        i += 1"
   ]
  },
  {
   "cell_type": "code",
   "execution_count": 197,
   "id": "49178c85",
   "metadata": {},
   "outputs": [],
   "source": [
    "a = infinite_generator([1,2,3])"
   ]
  },
  {
   "cell_type": "code",
   "execution_count": 208,
   "id": "1891f374",
   "metadata": {},
   "outputs": [
    {
     "data": {
      "text/plain": [
       "2"
      ]
     },
     "execution_count": 208,
     "metadata": {},
     "output_type": "execute_result"
    }
   ],
   "source": [
    "next(a)"
   ]
  },
  {
   "cell_type": "code",
   "execution_count": 223,
   "id": "39618d95",
   "metadata": {},
   "outputs": [],
   "source": [
    "def unique(iterable):\n",
    "    appeared = []\n",
    "    i = 0\n",
    "    while i < len(iterable):\n",
    "        if iterable[i] not in appeared:\n",
    "            appeared.append(iterable[i])\n",
    "            yield iterable[i]\n",
    "        i += 1"
   ]
  },
  {
   "cell_type": "code",
   "execution_count": 224,
   "id": "eb534308",
   "metadata": {},
   "outputs": [
    {
     "data": {
      "text/plain": [
       "[1, 3, 2, 5, 4]"
      ]
     },
     "execution_count": 224,
     "metadata": {},
     "output_type": "execute_result"
    }
   ],
   "source": [
    "list(unique([1,3,2,2,5,3,4,1]))"
   ]
  },
  {
   "cell_type": "code",
   "execution_count": 95,
   "id": "4c9efeb6",
   "metadata": {},
   "outputs": [],
   "source": [
    "f = lambda x: x * 2\n",
    "\n",
    "def apply_many(f):\n",
    "    yield f\n",
    "    for func in apply_many(f):\n",
    "        yield lambda x: f(func(x))"
   ]
  },
  {
   "cell_type": "code",
   "execution_count": 96,
   "id": "214fe82c",
   "metadata": {},
   "outputs": [],
   "source": [
    "gen = (apply_many(f))"
   ]
  },
  {
   "cell_type": "code",
   "execution_count": 97,
   "id": "dc794b65",
   "metadata": {},
   "outputs": [
    {
     "ename": "TypeError",
     "evalue": "'function' object is not iterable",
     "output_type": "error",
     "traceback": [
      "\u001b[1;31m---------------------------------------------------------------------------\u001b[0m",
      "\u001b[1;31mTypeError\u001b[0m                                 Traceback (most recent call last)",
      "Cell \u001b[1;32mIn[97], line 1\u001b[0m\n\u001b[1;32m----> 1\u001b[0m [\u001b[39mnext\u001b[39;49m(gen)(\u001b[39m1\u001b[39;49m) \u001b[39mfor\u001b[39;49;00m _ \u001b[39min\u001b[39;49;00m \u001b[39mrange\u001b[39;49m(\u001b[39m3\u001b[39;49m)]\n",
      "Cell \u001b[1;32mIn[97], line 1\u001b[0m, in \u001b[0;36m<listcomp>\u001b[1;34m(.0)\u001b[0m\n\u001b[1;32m----> 1\u001b[0m [\u001b[39mnext\u001b[39;49m(gen)(\u001b[39m1\u001b[39m) \u001b[39mfor\u001b[39;00m _ \u001b[39min\u001b[39;00m \u001b[39mrange\u001b[39m(\u001b[39m3\u001b[39m)]\n",
      "Cell \u001b[1;32mIn[95], line 10\u001b[0m, in \u001b[0;36mapply_many\u001b[1;34m(f)\u001b[0m\n\u001b[0;32m      8\u001b[0m \u001b[39mdef\u001b[39;00m \u001b[39mapply_many\u001b[39m(f):\n\u001b[0;32m      9\u001b[0m     \u001b[39myield\u001b[39;00m f\n\u001b[1;32m---> 10\u001b[0m     \u001b[39myield from\u001b[39;00m \u001b[39mlambda\u001b[39;00m x: f(apply_many(f))(x)\n",
      "\u001b[1;31mTypeError\u001b[0m: 'function' object is not iterable"
     ]
    }
   ],
   "source": [
    "[next(gen)(1) for _ in range(3)]"
   ]
  },
  {
   "cell_type": "code",
   "execution_count": null,
   "id": "4b878ffd",
   "metadata": {},
   "outputs": [],
   "source": [
    "def level_order(tree):\n",
    "    \"\"\"Generate all labels of tree in level order.\"\"\"\n",
    "    def one_level(tree, k):\n",
    "        \"\"\"Generate the labels of tree at level k.\"\"\"\n",
    "        if k == 0:\n",
    "            yield tree.label\n",
    "        else:\n",
    "            for child in tree.branches:\n",
    "                yield one_level(child, k-1)\n",
    "    level, count = 0, True\n",
    "    while count:\n",
    "        count = 0\n",
    "        for label in one_level(tree, level): \n",
    "            yield label\n",
    "            count = True\n",
    "        level += 1"
   ]
  },
  {
   "cell_type": "code",
   "execution_count": 163,
   "id": "cacee8c2",
   "metadata": {},
   "outputs": [
    {
     "name": "stdout",
     "output_type": "stream",
     "text": [
      "1\n",
      "2\n",
      "3\n",
      "1\n",
      "4\n",
      "9\n",
      "1\n",
      "8\n",
      "27\n"
     ]
    }
   ],
   "source": [
    "def pow_naturals():\n",
    "    def pow(n, p):\n",
    "        yield n ** p\n",
    "        yield from pow(n, p+1)\n",
    "        # for x in pow(n, p+1): \n",
    "        #     yield x\n",
    "    n = 1\n",
    "    while True:\n",
    "        yield pow(n, 1)\n",
    "        n += 1\n",
    "\n",
    "generator = pow_naturals()\n",
    "p1 = next(generator)\n",
    "p2 = next(generator)\n",
    "p3 = next(generator)\n",
    "for _ in range(3):\n",
    "    print(next(p1))\n",
    "    print(next(p2))\n",
    "    print(next(p3))"
   ]
  },
  {
   "cell_type": "code",
   "execution_count": 164,
   "id": "ce1b4cb4",
   "metadata": {},
   "outputs": [],
   "source": [
    "def sum_largest(n, k):\n",
    "    if n == 0 or k == 0:\n",
    "        return 0\n",
    "    a = n % 10 + sum_largest(n//10, k - 1)\n",
    "    b = sum_largest(n//10, k)\n",
    "    return max(a, b)"
   ]
  },
  {
   "cell_type": "code",
   "execution_count": 185,
   "id": "a6dd5308",
   "metadata": {},
   "outputs": [],
   "source": [
    "def collect_candy(grid, row, col):\n",
    "    if row < 0 or col < 0:\n",
    "        return 0\n",
    "    a = collect_candy(grid, row-1, col)\n",
    "    b = collect_candy(grid, row, col-1)\n",
    "    return grid[row][col] + max(a, b)"
   ]
  },
  {
   "cell_type": "code",
   "execution_count": 186,
   "id": "f8908bad",
   "metadata": {},
   "outputs": [
    {
     "data": {
      "text/plain": [
       "53"
      ]
     },
     "execution_count": 186,
     "metadata": {},
     "output_type": "execute_result"
    }
   ],
   "source": [
    "grid = [[1,2,3,2,5],\n",
    "        [5,20,7,1,9],\n",
    "        [7,8,9,6,4]]\n",
    "collect_candy(grid, 2, 4)"
   ]
  },
  {
   "cell_type": "code",
   "execution_count": 206,
   "metadata": {},
   "outputs": [],
   "source": [
    "def count_sequence(lst, seq):\n",
    "    if not seq:\n",
    "        return 1\n",
    "    elif not lst:\n",
    "        return 0\n",
    "    elif lst[0] != seq[0]:\n",
    "        return count_sequence(lst[1:], seq)\n",
    "    else:\n",
    "        a = count_sequence(lst[2:], seq[1:])\n",
    "        b = count_sequence(lst[1:], seq)\n",
    "        return a + b "
   ]
  },
  {
   "cell_type": "code",
   "execution_count": 207,
   "id": "a341c907",
   "metadata": {},
   "outputs": [
    {
     "data": {
      "text/plain": [
       "2"
      ]
     },
     "execution_count": 207,
     "metadata": {},
     "output_type": "execute_result"
    }
   ],
   "source": [
    "count_sequence([1,2,1,4,5], [1,5])"
   ]
  },
  {
   "cell_type": "code",
   "execution_count": 210,
   "id": "876b8972",
   "metadata": {},
   "outputs": [],
   "source": [
    "def quick_sort(lst):\n",
    "    if not lst:\n",
    "        return lst\n",
    "    pivot = lst[0]\n",
    "    left = quick_sort([_ for _ in lst[1:] if _ < pivot])\n",
    "    right = quick_sort([_ for _ in lst[1:] if _ > pivot])\n",
    "    return left + [pivot] + right"
   ]
  },
  {
   "cell_type": "code",
   "execution_count": 211,
   "id": "e48bdd43",
   "metadata": {},
   "outputs": [
    {
     "data": {
      "text/plain": [
       "[2, 3, 4, 5, 7]"
      ]
     },
     "execution_count": 211,
     "metadata": {},
     "output_type": "execute_result"
    }
   ],
   "source": [
    "quick_sort([4,5,3,7,2])"
   ]
  },
  {
   "cell_type": "code",
   "execution_count": 212,
   "id": "f36425b9",
   "metadata": {},
   "outputs": [],
   "source": [
    "def func_paths(t, n, end):\n",
    "    paths = []\n",
    "    if is_leaf(t) and label(t)(n)==end:\n",
    "        return [[label(t)]]\n",
    "    for b in branches(t):\n",
    "        paths.extend([[label(t)] + path for path in func_paths(b, label(t)(n), end)])\n",
    "    return paths"
   ]
  },
  {
   "cell_type": "code",
   "execution_count": null,
   "id": "e1e0ae87",
   "metadata": {},
   "outputs": [],
   "source": [
    "def lowest(t):\n",
    "    def lowest_pair(t):\n",
    "        if is_leaf(t):\n",
    "            return [label(t), 0]\n",
    "        max_pair = max([lowest_pair(b) for b in branches(t)], key=lambda pair: pair[1])\n",
    "        max_pair[1] += 1\n",
    "        return max_pair\n",
    "    return lowest_pair(t)[0]"
   ]
  },
  {
   "cell_type": "code",
   "execution_count": 19,
   "id": "b689c2b1",
   "metadata": {},
   "outputs": [
    {
     "data": {
      "text/plain": [
       "[[1, 2, 3, 4, 5], 5]"
      ]
     },
     "execution_count": 19,
     "metadata": {},
     "output_type": "execute_result"
    }
   ],
   "source": [
    "a = [[1,2,3],\n",
    "    [1,2],\n",
    "    [1,2,3,4,5]]\n",
    "\n",
    "b = max([[_,len(_)] for _ in a], key = lambda pair:pair[1])\n",
    "b"
   ]
  },
  {
   "cell_type": "code",
   "execution_count": null,
   "id": "7ec3e685",
   "metadata": {},
   "outputs": [],
   "source": [
    "def delete_even(t):\n",
    "    if t.is_leaf():\n",
    "        return\n",
    "    else:\n",
    "        branches = []\n",
    "        for b in t.branches:  # b is the third level grand-children\n",
    "            branches.extend(b.branches)  # remember all the grand-children in branches\n",
    "        for x in branches:  # for grand-children, we just do delete_even() again to repeat the procedure to skip the second level after the grand-children\n",
    "            delete_even(x) \n",
    "        t.branches = branches  # finally, we replace the children branches with grand-children branches"
   ]
  },
  {
   "cell_type": "code",
   "execution_count": null,
   "id": "45ed7e8f",
   "metadata": {},
   "outputs": [],
   "source": [
    "def maxify(t):\n",
    "    if t.is_leaf():\n",
    "        return \n",
    "    for b in t.branches:  # for each grand-children, we just apply this procedure again to assume they are all set in order as we wish\n",
    "        maxify(b)\n",
    "    ind = max(range(len(t.branches)),       # # this line is for looping the index of t.branches(children)\n",
    "            key=lambda x: t.branches[x].label)  # and find the max label value from children and return the index of the max value\n",
    "    if t.label < t.branches[ind].label:\n",
    "        t.label, t.branches[ind].label = t.branches[ind].label, t.label  # is the root node's label value is less than the max label value from its children, then swap them\n",
    "    maxify(t.branches[ind])"
   ]
  },
  {
   "cell_type": "code",
   "execution_count": 21,
   "id": "6eadadc2",
   "metadata": {},
   "outputs": [
    {
     "data": {
      "text/plain": [
       "0"
      ]
     },
     "execution_count": 21,
     "metadata": {},
     "output_type": "execute_result"
    }
   ],
   "source": [
    "x = [1,2,3]\n",
    "\n",
    "b = max(range(len(x)), key = lambda x: -x)\n",
    "b"
   ]
  },
  {
   "cell_type": "code",
   "execution_count": null,
   "id": "7e204f11",
   "metadata": {},
   "outputs": [],
   "source": [
    "\"\"\"\n",
    "General structure for Tree Mutation Problems\n",
    "` Base case: look for the smallest version of the problem.\n",
    "`` usually will be the case where the tree only has one node, aka it is a leaf\n",
    "` recursive call: use the recursive function to mutate smaller parts of the tree\n",
    "`` usually on each of the individual branches\n",
    "` last step: mutate the root node\n",
    "\"\"\""
   ]
  },
  {
   "cell_type": "code",
   "execution_count": 1,
   "id": "a3faf793",
   "metadata": {},
   "outputs": [
    {
     "data": {
      "text/plain": [
       "<function __main__.<lambda>(x)>"
      ]
     },
     "execution_count": 1,
     "metadata": {},
     "output_type": "execute_result"
    }
   ],
   "source": [
    "lambda x: x"
   ]
  },
  {
   "cell_type": "code",
   "execution_count": 2,
   "id": "38166478",
   "metadata": {},
   "outputs": [],
   "source": [
    "a = [1,2,3,4]\n",
    "a.insert(2,4)"
   ]
  },
  {
   "cell_type": "code",
   "execution_count": 3,
   "id": "34590582",
   "metadata": {},
   "outputs": [
    {
     "data": {
      "text/plain": [
       "[1, 2, 4, 3, 4]"
      ]
     },
     "execution_count": 3,
     "metadata": {},
     "output_type": "execute_result"
    }
   ],
   "source": [
    "a"
   ]
  },
  {
   "cell_type": "code",
   "execution_count": 4,
   "id": "ef198a3f",
   "metadata": {},
   "outputs": [],
   "source": [
    "a.remove(4)"
   ]
  },
  {
   "cell_type": "code",
   "execution_count": 5,
   "id": "613960f2",
   "metadata": {},
   "outputs": [
    {
     "data": {
      "text/plain": [
       "[1, 2, 3, 4]"
      ]
     },
     "execution_count": 5,
     "metadata": {},
     "output_type": "execute_result"
    }
   ],
   "source": [
    "a"
   ]
  },
  {
   "cell_type": "code",
   "execution_count": 6,
   "id": "8ad1ac70",
   "metadata": {},
   "outputs": [
    {
     "data": {
      "text/plain": [
       "[1, 2, 3, 4, 5]"
      ]
     },
     "execution_count": 6,
     "metadata": {},
     "output_type": "execute_result"
    }
   ],
   "source": [
    "a.append(5)\n",
    "a"
   ]
  },
  {
   "cell_type": "code",
   "execution_count": 8,
   "id": "2de3acfa",
   "metadata": {},
   "outputs": [
    {
     "data": {
      "text/plain": [
       "[1, 2, 3, 4, 5, 6]"
      ]
     },
     "execution_count": 8,
     "metadata": {},
     "output_type": "execute_result"
    }
   ],
   "source": [
    "a += [6]\n",
    "a"
   ]
  },
  {
   "cell_type": "code",
   "execution_count": 9,
   "id": "a7acfe0a",
   "metadata": {},
   "outputs": [
    {
     "data": {
      "text/plain": [
       "[1, 2, 3, 4, 5, 6, 7]"
      ]
     },
     "execution_count": 9,
     "metadata": {},
     "output_type": "execute_result"
    }
   ],
   "source": [
    "a.extend([7])\n",
    "a"
   ]
  },
  {
   "cell_type": "code",
   "execution_count": 10,
   "id": "f040353b",
   "metadata": {},
   "outputs": [
    {
     "data": {
      "text/plain": [
       "[1, 2, 3, 4, 5, 6]"
      ]
     },
     "execution_count": 10,
     "metadata": {},
     "output_type": "execute_result"
    }
   ],
   "source": [
    "a.pop() > 6\n",
    "a"
   ]
  },
  {
   "cell_type": "code",
   "execution_count": 11,
   "id": "146d679a",
   "metadata": {},
   "outputs": [
    {
     "data": {
      "text/plain": [
       "[1, 2, 3, 4, 5]"
      ]
     },
     "execution_count": 11,
     "metadata": {},
     "output_type": "execute_result"
    }
   ],
   "source": [
    "a.pop(5)\n",
    "a"
   ]
  },
  {
   "cell_type": "code",
   "execution_count": 12,
   "id": "968468c6",
   "metadata": {},
   "outputs": [
    {
     "data": {
      "text/plain": [
       "[1, 2, 3, 4]"
      ]
     },
     "execution_count": 12,
     "metadata": {},
     "output_type": "execute_result"
    }
   ],
   "source": [
    "a.pop()\n",
    "a"
   ]
  },
  {
   "cell_type": "code",
   "execution_count": 13,
   "id": "92889b67",
   "metadata": {},
   "outputs": [],
   "source": [
    "a = a + [1] # this operation will create a new list, instead of mutating the old a [1,2,3,4]"
   ]
  },
  {
   "cell_type": "code",
   "execution_count": 14,
   "id": "63145a93",
   "metadata": {},
   "outputs": [
    {
     "data": {
      "text/plain": [
       "[1, 2, 3, 4, 1]"
      ]
     },
     "execution_count": 14,
     "metadata": {},
     "output_type": "execute_result"
    }
   ],
   "source": [
    "a"
   ]
  },
  {
   "cell_type": "code",
   "execution_count": 15,
   "id": "fb3229d7",
   "metadata": {},
   "outputs": [],
   "source": [
    "a += [6] # is not equal to a = a + [6]"
   ]
  },
  {
   "cell_type": "code",
   "execution_count": 16,
   "id": "5545fb8e",
   "metadata": {},
   "outputs": [
    {
     "data": {
      "text/plain": [
       "[1, 2, 3, 4, 1, 6]"
      ]
     },
     "execution_count": 16,
     "metadata": {},
     "output_type": "execute_result"
    }
   ],
   "source": [
    "a"
   ]
  },
  {
   "cell_type": "code",
   "execution_count": 17,
   "id": "b87e09ff",
   "metadata": {},
   "outputs": [
    {
     "ename": "NameError",
     "evalue": "name 'b' is not defined",
     "output_type": "error",
     "traceback": [
      "\u001b[1;31m---------------------------------------------------------------------------\u001b[0m",
      "\u001b[1;31mNameError\u001b[0m                                 Traceback (most recent call last)",
      "Cell \u001b[1;32mIn[17], line 1\u001b[0m\n\u001b[1;32m----> 1\u001b[0m c \u001b[39m=\u001b[39m b[\u001b[39m4\u001b[39m:\u001b[39m8\u001b[39m] \u001b[39m# slicing also create a new list, copying all elements from the right(b[4:8])\u001b[39;00m\n",
      "\u001b[1;31mNameError\u001b[0m: name 'b' is not defined"
     ]
    }
   ],
   "source": [
    "c = b[4:8] # slicing also create a new list, copying all elements from the right(b[4:8])"
   ]
  },
  {
   "cell_type": "code",
   "execution_count": 27,
   "id": "c84032a5",
   "metadata": {},
   "outputs": [],
   "source": [
    "def make_withdraw(balance):\n",
    "    def withdraw(amount):\n",
    "        nonlocal balance\n",
    "        if amount > balance:\n",
    "            return 'insufficient funds'\n",
    "        balance = balance - amount\n",
    "        return balance\n",
    "    return withdraw\n"
   ]
  },
  {
   "cell_type": "code",
   "execution_count": 28,
   "id": "25e14df5",
   "metadata": {},
   "outputs": [],
   "source": [
    "w = make_withdraw(20)"
   ]
  },
  {
   "cell_type": "code",
   "execution_count": 29,
   "id": "6f324472",
   "metadata": {},
   "outputs": [
    {
     "data": {
      "text/plain": [
       "10"
      ]
     },
     "execution_count": 29,
     "metadata": {},
     "output_type": "execute_result"
    }
   ],
   "source": [
    "w(10)"
   ]
  },
  {
   "cell_type": "code",
   "execution_count": 30,
   "id": "46e4b844",
   "metadata": {},
   "outputs": [
    {
     "data": {
      "text/plain": [
       "'insufficient funds'"
      ]
     },
     "execution_count": 30,
     "metadata": {},
     "output_type": "execute_result"
    }
   ],
   "source": [
    "w(15)"
   ]
  },
  {
   "cell_type": "code",
   "execution_count": 31,
   "id": "7fda0c02",
   "metadata": {},
   "outputs": [],
   "source": [
    "x = [1, 2, 3]\n",
    "\n",
    "def f(x, l):\n",
    "    def g(y):\n",
    "        nonlocal x\n",
    "        y.append(l[x])\n",
    "        x += 1\n",
    "        return l[x]\n",
    "    return g\n",
    "\n",
    "p = f(0, x)\n",
    "q = p(x)\n",
    "z = p(x)"
   ]
  },
  {
   "cell_type": "code",
   "execution_count": 102,
   "id": "21972905",
   "metadata": {},
   "outputs": [],
   "source": [
    "def make_sassy_function(f, msg):\n",
    "\n",
    "    \"\"\"\n",
    "    >>> f = lambda x: x**2\n",
    "    >>> sassy_f = make_sassy_function(f, 'excuse me?')\n",
    "    >>> sassy_f(4)\n",
    "    16\n",
    "    >>> sassy_f(5)\n",
    "    'Um, excuse me?'\n",
    "    >>> sassy_f(6)\n",
    "    36\n",
    "    \"\"\"\n",
    "\n",
    "    sassed = True\n",
    "    def sassy_function(x):\n",
    "        nonlocal sassed\n",
    "        sassed = not sassed\n",
    "        if sassed:\n",
    "            return msg\n",
    "        else:\n",
    "            return f(x)\n",
    "    return sassy_function"
   ]
  },
  {
   "cell_type": "code",
   "execution_count": 103,
   "id": "e1e67623",
   "metadata": {},
   "outputs": [],
   "source": [
    "f = lambda x: x**2"
   ]
  },
  {
   "cell_type": "code",
   "execution_count": 104,
   "id": "9a83638b",
   "metadata": {},
   "outputs": [],
   "source": [
    "sassy_f = make_sassy_function(f, 'excuse me?')"
   ]
  },
  {
   "cell_type": "code",
   "execution_count": 114,
   "id": "5db013f5",
   "metadata": {},
   "outputs": [
    {
     "data": {
      "text/plain": [
       "'excuse me?'"
      ]
     },
     "execution_count": 114,
     "metadata": {},
     "output_type": "execute_result"
    }
   ],
   "source": [
    "sassy_f(6)"
   ]
  },
  {
   "cell_type": "code",
   "execution_count": 123,
   "id": "710068cc",
   "metadata": {},
   "outputs": [],
   "source": [
    "class Link:\n",
    "\n",
    "    empty = ()\n",
    "\n",
    "    def __init__(self, first, rest=empty):\n",
    "        assert rest is Link.empty or isinstance(rest, Link) # returns whether rest is a Link\n",
    "        self.first = first\n",
    "        self.rest = rest\n",
    "\n",
    "    def __repr__(self):\n",
    "        if self.rest:\n",
    "            rest_str = ', ' + repr(self.rest)\n",
    "        else:\n",
    "            rest_str = ''\n",
    "        return 'Link({0}{1}'.format(self.first, rest_str)\n",
    "    \n",
    "    def __str__(self):\n",
    "        string = '<'\n",
    "        while self.rest is not Link.empty:\n",
    "            string += str(self.first) + ' '\n",
    "            self = self.rest\n",
    "        return string + str(self.first) + '>'\n",
    "    "
   ]
  },
  {
   "cell_type": "code",
   "execution_count": 121,
   "id": "8e1e5288",
   "metadata": {},
   "outputs": [],
   "source": [
    "def trim(s, index):\n",
    "    \"\"\"\n",
    "    >>> s1 = Link(1, Link(2, Link(3)))\n",
    "    >>> trim(s1, 1) # returns the trimmed part\n",
    "    Link(3)\n",
    "    >>> s1\n",
    "    Link(1, Link(2))\n",
    "    \"\"\"\n",
    "\n",
    "    if index == 0:\n",
    "        result = s.rest\n",
    "        s.rest = Link.empty\n",
    "        return result\n",
    "    else:\n",
    "        return trim(s.rest, index - 1)"
   ]
  },
  {
   "cell_type": "code",
   "execution_count": 122,
   "id": "8a7f8063",
   "metadata": {},
   "outputs": [
    {
     "data": {
      "text/plain": [
       "Link(3"
      ]
     },
     "execution_count": 122,
     "metadata": {},
     "output_type": "execute_result"
    }
   ],
   "source": [
    "s1 = Link(1, Link(2, Link(3)))\n",
    "trim(s1, 1)"
   ]
  },
  {
   "cell_type": "code",
   "execution_count": 119,
   "id": "53486e05",
   "metadata": {},
   "outputs": [
    {
     "data": {
      "text/plain": [
       "Link(1, Link(2"
      ]
     },
     "execution_count": 119,
     "metadata": {},
     "output_type": "execute_result"
    }
   ],
   "source": [
    "s1"
   ]
  },
  {
   "cell_type": "code",
   "execution_count": 142,
   "id": "b74011e9",
   "metadata": {},
   "outputs": [],
   "source": [
    "def remove_all(lnk, vals):\n",
    "    if lnk is Link.empty:\n",
    "        return Link.empty\n",
    "    elif lnk.first in vals:  # case when we want to remove\n",
    "        return remove_all(lnk.rest, vals)\n",
    "    else:  # case don't want to remove\n",
    "        return Link(lnk.first, remove_all(lnk.rest, vals))"
   ]
  },
  {
   "cell_type": "code",
   "execution_count": 143,
   "id": "a62c0368",
   "metadata": {},
   "outputs": [
    {
     "name": "stdout",
     "output_type": "stream",
     "text": [
      "<1 3 5 6>\n"
     ]
    }
   ],
   "source": [
    "link = Link(1, Link(2, Link(3, Link(4, Link(5, Link(6))))))\n",
    "print(remove_all(link, [2, 4]))"
   ]
  },
  {
   "cell_type": "code",
   "execution_count": 144,
   "id": "03ac10e4",
   "metadata": {},
   "outputs": [
    {
     "data": {
      "text/plain": [
       "Link(1, Link(3, Link(5, Link(6"
      ]
     },
     "execution_count": 144,
     "metadata": {},
     "output_type": "execute_result"
    }
   ],
   "source": [
    "remove_all(link, [2, 4])"
   ]
  },
  {
   "cell_type": "code",
   "execution_count": 147,
   "id": "f5580cd6",
   "metadata": {},
   "outputs": [],
   "source": [
    "def remove_duplicates(lst):\n",
    "    while lst is not Link.empty and lst.rest is not Link.empty:\n",
    "        temp = lst\n",
    "        while (temp.rest is not Link.empty):\n",
    "            if temp.rest.first == lst.first:\n",
    "                next = temp.rest.rest\n",
    "                temp.rest = next\n",
    "            else:  \n",
    "                temp = temp.rest\n",
    "        lst = lst.rest"
   ]
  },
  {
   "cell_type": "code",
   "execution_count": 148,
   "id": "e110730d",
   "metadata": {},
   "outputs": [
    {
     "data": {
      "text/plain": [
       "Link(1, Link(4, Link(3"
      ]
     },
     "execution_count": 148,
     "metadata": {},
     "output_type": "execute_result"
    }
   ],
   "source": [
    "link = Link(1, Link(4, Link(3, Link(1, Link(1)))))\n",
    "remove_duplicates(link)\n",
    "link"
   ]
  },
  {
   "cell_type": "code",
   "execution_count": 149,
   "id": "9f8a2aa5",
   "metadata": {},
   "outputs": [],
   "source": [
    "def print_middle(lst):\n",
    "    slow, fast = lst, lst\n",
    "    while fast is not Link.empty and fast.rest is not Link.empty:\n",
    "        fast = fast.rest.rest\n",
    "        slow = slow.rest\n",
    "    print(slow.first)"
   ]
  },
  {
   "cell_type": "code",
   "execution_count": 150,
   "id": "edda6e73",
   "metadata": {},
   "outputs": [],
   "source": [
    "def maximize(lst, f):\n",
    "\n",
    "    def helper(lst, f, can_use_f):\n",
    "        if lst is Link.empty:\n",
    "            return 0\n",
    "        elif can_use_f:\n",
    "            used = f(lst.first) + helper(lst.rest, f, False)\n",
    "            unused = lst.first + helper(lst.rest, f, True)\n",
    "            return max(used, unused)\n",
    "        else:\n",
    "            return lst.first + helper(lst.rest, f, True)\n",
    "    return helper(lst, f, True)"
   ]
  },
  {
   "cell_type": "code",
   "execution_count": 152,
   "id": "3fefab6c",
   "metadata": {},
   "outputs": [
    {
     "name": "stdout",
     "output_type": "stream",
     "text": [
      "9\n"
     ]
    }
   ],
   "source": [
    "lst = Link(5, Link(1, Link(3)))\n",
    "print(maximize(lst, lambda x: -x))"
   ]
  },
  {
   "cell_type": "code",
   "execution_count": null,
   "id": "49a5d5ee",
   "metadata": {},
   "outputs": [],
   "source": []
  }
 ],
 "metadata": {
  "kernelspec": {
   "display_name": "Python 3 (ipykernel)",
   "language": "python",
   "name": "python3"
  },
  "language_info": {
   "codemirror_mode": {
    "name": "ipython",
    "version": 3
   },
   "file_extension": ".py",
   "mimetype": "text/x-python",
   "name": "python",
   "nbconvert_exporter": "python",
   "pygments_lexer": "ipython3",
   "version": "3.11.3"
  }
 },
 "nbformat": 4,
 "nbformat_minor": 5
}
